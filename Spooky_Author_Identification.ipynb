{
 "cells": [
  {
   "cell_type": "markdown",
   "metadata": {},
   "source": [
    "# Spooky Author Identification"
   ]
  },
  {
   "cell_type": "code",
   "execution_count": 1,
   "metadata": {},
   "outputs": [],
   "source": [
    "#Kernel: base(Python 3.12.2)\n",
    "#%pip install cmake\n",
    "#%pip install xgboost --no-binary xgboost -v\n",
    "#%pip install textstat\n",
    "#%pip install statsmodels\n",
    "#%pip install torch\n",
    "#%pip install xgboost\n",
    "#%pip install numpy==1.26.4  #due to some package not compatible with numpy>2.0.0\n",
    "#%pip install --upgrade pip\n",
    "#%pip install --upgrade jupyter ipywidgets\n",
    "#%pip install lightgbm\n",
    "#%pip install catboost"
   ]
  },
  {
   "cell_type": "code",
   "execution_count": null,
   "metadata": {},
   "outputs": [
    {
     "name": "stderr",
     "output_type": "stream",
     "text": [
      "2025-01-16 08:16:42.189746: I tensorflow/core/platform/cpu_feature_guard.cc:210] This TensorFlow binary is optimized to use available CPU instructions in performance-critical operations.\n",
      "To enable the following instructions: AVX2 FMA, in other operations, rebuild TensorFlow with the appropriate compiler flags.\n"
     ]
    }
   ],
   "source": [
    "# Load Important packages\n",
    "import pandas as pd\n",
    "import numpy as np\n",
    "import matplotlib.pyplot as plt\n",
    "import seaborn as sns\n",
    "\n",
    "# Data Preprocessing and EDA \n",
    "import re\n",
    "import spacy\n",
    "import textstat\n",
    "from scipy.stats import f_oneway\n",
    "from statsmodels.stats.multicomp import pairwise_tukeyhsd\n",
    "\n",
    "# Word Embedding\n",
    "from sklearn.feature_extraction.text import TfidfVectorizer\n",
    "from transformers import BertTokenizer, BertModel\n",
    "import torch\n",
    "\n",
    "# Modeling\n",
    "import sklearn\n",
    "from sklearn.model_selection import train_test_split\n",
    "from itertools import permutations\n",
    "from sklearn.decomposition import LatentDirichletAllocation, NMF, PCA \n",
    "from sklearn.cluster import AgglomerativeClustering\n",
    "from sklearn.metrics import accuracy_score, log_loss, classification_report, confusion_matrix, ConfusionMatrixDisplay\n",
    "from sklearn.pipeline import Pipeline\n",
    "from sklearn.model_selection import GridSearchCV, RandomizedSearchCV\n",
    "from sklearn.ensemble import RandomForestClassifier, VotingClassifier\n",
    "from sklearn.utils.class_weight import compute_sample_weight, compute_class_weight \n",
    "from lightgbm import LGBMClassifier\n",
    "from catboost import CatBoostClassifier\n",
    "from sklearn.inspection import permutation_importance\n",
    "\n",
    "# Solve XGBoost crashed problem\n",
    "import os\n",
    "os.environ['KMP_DUPLICATE_LIB_OK']='True'\n",
    "from xgboost import XGBClassifier\n"
   ]
  },
  {
   "cell_type": "code",
   "execution_count": 246,
   "metadata": {},
   "outputs": [],
   "source": [
    "# Load the data \n",
    "raw_train = pd.read_csv('train.csv')\n",
    "raw_test = pd.read_csv('test.csv')\n",
    "sample_submission = pd.read_csv('sample_submission.csv')"
   ]
  },
  {
   "cell_type": "code",
   "execution_count": 257,
   "metadata": {},
   "outputs": [
    {
     "name": "stdout",
     "output_type": "stream",
     "text": [
      "<class 'pandas.core.frame.DataFrame'>\n",
      "RangeIndex: 19579 entries, 0 to 19578\n",
      "Data columns (total 3 columns):\n",
      " #   Column  Non-Null Count  Dtype \n",
      "---  ------  --------------  ----- \n",
      " 0   id      19579 non-null  object\n",
      " 1   text    19579 non-null  object\n",
      " 2   author  19579 non-null  object\n",
      "dtypes: object(3)\n",
      "memory usage: 459.0+ KB\n",
      "None\n",
      "        id                                                         text author\n",
      "0  id26305  This process, however, afforded me no means of ascertain...    EAP\n",
      "1  id17569  It never once occurred to me that the fumbling might be ...    HPL\n",
      "2  id11008  In his left hand was a gold snuff box, from which, as he...    EAP\n",
      "3  id27763  How lovely is spring As we looked from Windsor Terrace o...    MWS\n",
      "4  id12958  Finding nothing else, not even gold, the Superintendent ...    HPL\n"
     ]
    }
   ],
   "source": [
    "# Take a look at the data\n",
    "pd.set_option('display.max_colwidth', 60)\n",
    "print(raw_train.info())\n",
    "print(raw_train.head())"
   ]
  },
  {
   "cell_type": "markdown",
   "metadata": {},
   "source": [
    "### Exploratory Data Analysis (EDA)\n",
    "\n",
    "I will perform exploratory data analysis, which includes **inspecting, cleaning, and visualizing** the data, followed by **preparing the text data for modeling**."
   ]
  },
  {
   "cell_type": "code",
   "execution_count": 5,
   "metadata": {},
   "outputs": [],
   "source": [
    "# Make a copy of raw_train and raw_test dataset\n",
    "clean_train = raw_train.copy()\n",
    "clean_test = raw_test.copy()"
   ]
  },
  {
   "cell_type": "code",
   "execution_count": 6,
   "metadata": {},
   "outputs": [
    {
     "data": {
      "image/png": "[encoded data removed]",
      "text/plain": [
       "<Figure size 640x480 with 1 Axes>"
      ]
     },
     "metadata": {},
     "output_type": "display_data"
    }
   ],
   "source": [
    "# Check the ratio of the text from different authors (The target labels)\n",
    "labels = clean_train.author.replace(['EAP', 'MWS', 'HPL'], ['Edgar Allan Poe', 'Mary Shelley', 'HP Lovecraft']).value_counts().index\n",
    "values = clean_train.author.replace(['EAP', 'MWS', 'HPL'], ['Edgar Allan Poe', 'Mary Shelley', 'HP Lovecraft']).value_counts().values\n",
    "\n",
    "plt.pie(values, labels = labels, colors = ['skyblue', 'lightsalmon', 'wheat'], autopct = '%1.0f%%')\n",
    "plt.title('Ratio of Authors');"
   ]
  },
  {
   "cell_type": "markdown",
   "metadata": {},
   "source": [
    "The dataset is roughly balanced, with about 10% more texts written by Edgar Allan Poe compared to the other two authors.  \n",
    "\n",
    "The data type of the target variable 'author' is object, which may pose a challenge for calculating model performance later. I will create a new column, 'author_encoded', using the integers 0, 1, and 2 to represent the authors."
   ]
  },
  {
   "cell_type": "code",
   "execution_count": 7,
   "metadata": {},
   "outputs": [],
   "source": [
    "# Create a new column of 'anthor_encoded'\n",
    "author_mapping = {'EAP': 0, 'MWS': 1, 'HPL': 2}\n",
    "clean_train['author_encoded'] = clean_train['author'].map(author_mapping)"
   ]
  },
  {
   "cell_type": "code",
   "execution_count": 8,
   "metadata": {},
   "outputs": [
    {
     "name": "stdout",
     "output_type": "stream",
     "text": [
      "There are  0 duplicated rows.\n"
     ]
    }
   ],
   "source": [
    "# Check if there is duplicated rows\n",
    "print('There are ', clean_train.duplicated(subset = ['text']).sum(), 'duplicated rows.')"
   ]
  },
  {
   "cell_type": "code",
   "execution_count": null,
   "metadata": {},
   "outputs": [
    {
     "name": "stdout",
     "output_type": "stream",
     "text": [
      "EAP\n",
      "10960    A figure, dressed like a magician, appears seated at the bottom of a wall, holding a wand in one hand, and a book in...\n",
      "1594     Cast by that ruffian, Gruff, who made me a present of five dollars.                                                 ...\n",
      "6081     I finally concluded that my senses were impressed by a certain air of gravity, sadness, or, still more properly, of ...\n",
      "10626    Surely, man had never before so terribly altered, in so brief a period, as had Roderick Usher It was with difficulty...\n",
      "11847    They would appear to be walking, with heels up and head down, in the manner of flies on a ceiling.                  ...\n",
      "Name: text, dtype: object\n",
      "\n",
      "HPL\n",
      "17281    In his boyhood he had revelled through long visits there, and had found weird marvels in the woods beyond the orchar...\n",
      "2439     He must have been trapped by the sinking whilst within his black abyss, or else the world would by now be screaming ...\n",
      "1675     Barzai knew so much of the gods that he could tell of their comings and goings, and guessed so many of their secrets...\n",
      "2161     Before I had protested at his unnatural pryings into the unthinkable; now that he had evidently succeeded to some de...\n",
      "9394     He thought of the wild tales he had heard, and recalled the old Sunday stories in the Advertiser; these things, and ...\n",
      "Name: text, dtype: object\n",
      "\n",
      "MWS\n",
      "12921    As he went on I felt as if my soul were grappling with a palpable enemy; one by one the various keys were touched wh...\n",
      "9179     This benefit was fully repaid; Justine was the most grateful little creature in the world: I do not mean that she ma...\n",
      "704      Shakspeare, whose popularity was established by the approval of four centuries, had not lost his influence even at t...\n",
      "14326    From the moment of my mother's death untill his departure she never heard him utter a single word: buried in the dee...\n",
      "14848    A light railing surrounded the garden of the cottage, which, low roofed, seemed to submit to the majesty of nature, ...\n",
      "Name: text, dtype: object\n",
      "\n"
     ]
    }
   ],
   "source": [
    "# Take a look at the text from each author\n",
    "pd.set_option('display.max_colwidth', 120)\n",
    "for category, group in clean_train.groupby('author'):\n",
    "    print(category)\n",
    "    print(group['text'].str.ljust(120).sample(5))\n",
    "    print()"
   ]
  },
  {
   "cell_type": "code",
   "execution_count": 15,
   "metadata": {},
   "outputs": [
    {
     "name": "stdout",
     "output_type": "stream",
     "text": [
      "There are  0 text contains digit.\n"
     ]
    }
   ],
   "source": [
    "# Check if there are digits in the text\n",
    "print('There are ', len(clean_train[clean_train['text'].str.contains(r'\\d+')]), 'text contains digit.')"
   ]
  },
  {
   "cell_type": "markdown",
   "metadata": {},
   "source": [
    "The text data looks relatively clean and doesn't require much additional cleaning beyond tokenization, lemmatization, and removing stop words, punctuation,  and short words—all of which can be handled by the spaCy package.\n",
    "  \n",
    "  \n",
    "##### Feature Engineering  \n",
    "    \n",
    "I will explore the linguistic features which reflect the writing style of different authors through the following perspectives:    \n",
    "\n",
    "1. **Flesch Reading Ease score**: a score that measures how easy a text is to read. The higher the score, the easier it is to understand the document.\n",
    "\n",
    "2. **Gunning Fog Index**: a readability test for English writing. The index estimates the years of formal education a person needs to understand the text on the first reading.\n",
    "\n",
    "3. **Sentence Length**: the average length of sentences in a text.\n",
    "\n",
    "4. **Word Length**: the average length of words used by the authors.\n",
    "\n",
    "5. **POS Tags Distribution**: frequencies of part-of-speech (POS) tags like nouns, verbs, adjectives, and adverbs.\n",
    "  \n",
    "6. **Usage of Function Words**: the ratio of function words to the total number of words.  \n",
    "  \n",
    "7. **Type-Token Ratio**: the ratio of unique words (types) to the total number of words (tokens) in a text.  \n",
    "  \n",
    "8. **Word Frequency**: the frequency of words used by the authors.  "
   ]
  },
  {
   "cell_type": "code",
   "execution_count": null,
   "metadata": {},
   "outputs": [],
   "source": [
    "# Load spaCy's English model\n",
    "nlp = spacy.load('en_core_web_sm')\n",
    "\n",
    "# Define the function POS tags for function words\n",
    "function_pos = {\"DET\", \"PRON\", \"ADP\", \"CONJ\", \"AUX\", \"CCONJ\", \"SCONJ\", \"PART\", \"INTJ\"}\n",
    "\n",
    "# Define a function to extract features reflecting writing styles\n",
    "def linguistic_features(text):\n",
    "    # Flesch Reading Ease score\n",
    "    flesch_reading_ease = textstat.flesch_reading_ease(text)\n",
    "\n",
    "    # Gunning For Index\n",
    "    gunning_fog_index = textstat.gunning_fog(text)\n",
    "\n",
    "    # Creating a Doc container using spaCy package\n",
    "    text = text.lower()\n",
    "    doc = nlp(text)\n",
    "\n",
    "    # Sentence length\n",
    "    sentence_length = [len(sent) for sent in doc.sents]\n",
    "    sentence_length_avg = np.mean(sentence_length) if sentence_length else 0\n",
    "\n",
    "    # Word length\n",
    "    word_length = [len(token.text) for token in doc if token.is_alpha]\n",
    "    word_length_avg = np.mean(word_length) if word_length else 0\n",
    "\n",
    "     # Tokenize and count total words\n",
    "    tokens = [token.text for token in doc if token.is_alpha]\n",
    "    total_words = len(tokens)\n",
    "    \n",
    "\n",
    "    # Count nouns, verbs, adj, adv, function words, and unique words\n",
    "    count_nouns = len([token.text for token in doc if token.pos_ == 'NOUN'])\n",
    "    count_verbs = len([token.text for token in doc if token.pos_ == 'VERB'])\n",
    "    count_adj = len([token.text for token in doc if token.pos_ == 'ADJ'])\n",
    "    count_adv = len([token.text for token in doc if token.pos_ == 'ADV'])\n",
    "    count_function_words = len([token.text for token in doc if (token.is_alpha and token.pos_ in function_pos)])\n",
    "    count_unique_words = len(set(tokens))\n",
    "\n",
    "    # Calculate ratios\n",
    "    nouns_ratio =  count_nouns / total_words if total_words > 0 else 0\n",
    "    verbs_ratio =  count_verbs / total_words if total_words > 0 else 0\n",
    "    adj_ratio =  count_adj / total_words if total_words > 0 else 0\n",
    "    adv_ratio =  count_adv / total_words if total_words > 0 else 0\n",
    "    function_words_ratio = count_function_words / total_words if total_words > 0 else 0\n",
    "    type_token_ratio = count_unique_words / total_words if total_words > 0 else 0\n",
    "\n",
    "    # Clean text (lemmatized, no stop words, punctuation, and short words)\n",
    "    cleaned_text = ' '.join([token.lemma_ for token in doc \n",
    "                             if not (token.is_stop or token.is_punct) and len(token) > 2])\n",
    "\n",
    "    return flesch_reading_ease, gunning_fog_index, sentence_length_avg, word_length_avg, nouns_ratio, verbs_ratio, adj_ratio, adv_ratio, function_words_ratio, type_token_ratio, cleaned_text\n"
   ]
  },
  {
   "cell_type": "code",
   "execution_count": 17,
   "metadata": {},
   "outputs": [],
   "source": [
    "# Extract linguistic features and clean text of text data in training set\n",
    "lingu_feature_train = clean_train['text'].apply(linguistic_features).apply(pd.Series)\n",
    "lingu_feature_train.columns = ['flesch_reading', 'gunning_fog', 'sent_len', 'word_len', 'noun_freq', \n",
    "                               'verb_freq', 'adj_freq', 'adv_freq', 'funct_word', 'type_token', 'cleaned_text']\n",
    "\n",
    "clean_train = pd.concat([clean_train, lingu_feature_train], axis = 1)"
   ]
  },
  {
   "cell_type": "code",
   "execution_count": 18,
   "metadata": {},
   "outputs": [],
   "source": [
    "# Extract linguistic features and clean text of text data in test set\n",
    "lingu_feature_test = clean_test['text'].apply(linguistic_features).apply(pd.Series)\n",
    "lingu_feature_test.columns = ['flesch_reading', 'gunning_fog', 'sent_len', 'word_len', 'noun_freq', \n",
    "                               'verb_freq', 'adj_freq', 'adv_freq', 'funct_word', 'type_token', 'cleaned_text']\n",
    "\n",
    "clean_test = pd.concat([clean_test, lingu_feature_test], axis = 1)"
   ]
  },
  {
   "cell_type": "code",
   "execution_count": 19,
   "metadata": {},
   "outputs": [
    {
     "data": {
      "text/html": [
       "<div>\n",
       "<style scoped>\n",
       "    .dataframe tbody tr th:only-of-type {\n",
       "        vertical-align: middle;\n",
       "    }\n",
       "\n",
       "    .dataframe tbody tr th {\n",
       "        vertical-align: top;\n",
       "    }\n",
       "\n",
       "    .dataframe thead th {\n",
       "        text-align: right;\n",
       "    }\n",
       "</style>\n",
       "<table border=\"1\" class=\"dataframe\">\n",
       "  <thead>\n",
       "    <tr style=\"text-align: right;\">\n",
       "      <th></th>\n",
       "      <th>author_encoded</th>\n",
       "      <th>flesch_reading</th>\n",
       "      <th>gunning_fog</th>\n",
       "      <th>sent_len</th>\n",
       "      <th>word_len</th>\n",
       "      <th>noun_freq</th>\n",
       "      <th>verb_freq</th>\n",
       "      <th>adj_freq</th>\n",
       "      <th>adv_freq</th>\n",
       "      <th>funct_word</th>\n",
       "      <th>type_token</th>\n",
       "    </tr>\n",
       "  </thead>\n",
       "  <tbody>\n",
       "    <tr>\n",
       "      <th>count</th>\n",
       "      <td>19579.000000</td>\n",
       "      <td>19579.000000</td>\n",
       "      <td>19579.000000</td>\n",
       "      <td>19579.000000</td>\n",
       "      <td>19579.000000</td>\n",
       "      <td>19579.000000</td>\n",
       "      <td>19579.000000</td>\n",
       "      <td>19579.000000</td>\n",
       "      <td>19579.000000</td>\n",
       "      <td>19579.000000</td>\n",
       "      <td>19579.000000</td>\n",
       "    </tr>\n",
       "    <tr>\n",
       "      <th>mean</th>\n",
       "      <td>0.884315</td>\n",
       "      <td>62.962014</td>\n",
       "      <td>13.645830</td>\n",
       "      <td>29.759885</td>\n",
       "      <td>4.466894</td>\n",
       "      <td>0.203321</td>\n",
       "      <td>0.126852</td>\n",
       "      <td>0.080366</td>\n",
       "      <td>0.057910</td>\n",
       "      <td>0.507038</td>\n",
       "      <td>0.889258</td>\n",
       "    </tr>\n",
       "    <tr>\n",
       "      <th>std</th>\n",
       "      <td>0.823379</td>\n",
       "      <td>25.084772</td>\n",
       "      <td>7.954924</td>\n",
       "      <td>18.789673</td>\n",
       "      <td>0.580367</td>\n",
       "      <td>0.078816</td>\n",
       "      <td>0.063587</td>\n",
       "      <td>0.064346</td>\n",
       "      <td>0.062095</td>\n",
       "      <td>0.093841</td>\n",
       "      <td>0.087493</td>\n",
       "    </tr>\n",
       "    <tr>\n",
       "      <th>min</th>\n",
       "      <td>0.000000</td>\n",
       "      <td>-785.530000</td>\n",
       "      <td>0.800000</td>\n",
       "      <td>3.500000</td>\n",
       "      <td>0.000000</td>\n",
       "      <td>0.000000</td>\n",
       "      <td>0.000000</td>\n",
       "      <td>0.000000</td>\n",
       "      <td>0.000000</td>\n",
       "      <td>0.000000</td>\n",
       "      <td>0.000000</td>\n",
       "    </tr>\n",
       "    <tr>\n",
       "      <th>25%</th>\n",
       "      <td>0.000000</td>\n",
       "      <td>48.810000</td>\n",
       "      <td>8.670000</td>\n",
       "      <td>17.000000</td>\n",
       "      <td>4.105263</td>\n",
       "      <td>0.157895</td>\n",
       "      <td>0.086957</td>\n",
       "      <td>0.034785</td>\n",
       "      <td>0.000000</td>\n",
       "      <td>0.454545</td>\n",
       "      <td>0.833333</td>\n",
       "    </tr>\n",
       "    <tr>\n",
       "      <th>50%</th>\n",
       "      <td>1.000000</td>\n",
       "      <td>64.380000</td>\n",
       "      <td>12.630000</td>\n",
       "      <td>26.000000</td>\n",
       "      <td>4.441860</td>\n",
       "      <td>0.203390</td>\n",
       "      <td>0.125000</td>\n",
       "      <td>0.074627</td>\n",
       "      <td>0.047619</td>\n",
       "      <td>0.500000</td>\n",
       "      <td>0.894737</td>\n",
       "    </tr>\n",
       "    <tr>\n",
       "      <th>75%</th>\n",
       "      <td>2.000000</td>\n",
       "      <td>78.930000</td>\n",
       "      <td>17.330000</td>\n",
       "      <td>38.000000</td>\n",
       "      <td>4.800000</td>\n",
       "      <td>0.250000</td>\n",
       "      <td>0.163265</td>\n",
       "      <td>0.117647</td>\n",
       "      <td>0.086957</td>\n",
       "      <td>0.564103</td>\n",
       "      <td>0.956522</td>\n",
       "    </tr>\n",
       "    <tr>\n",
       "      <th>max</th>\n",
       "      <td>2.000000</td>\n",
       "      <td>120.210000</td>\n",
       "      <td>346.860000</td>\n",
       "      <td>438.000000</td>\n",
       "      <td>11.000000</td>\n",
       "      <td>0.750000</td>\n",
       "      <td>0.600000</td>\n",
       "      <td>0.571429</td>\n",
       "      <td>0.600000</td>\n",
       "      <td>1.000000</td>\n",
       "      <td>1.000000</td>\n",
       "    </tr>\n",
       "  </tbody>\n",
       "</table>\n",
       "</div>"
      ],
      "text/plain": [
       "       author_encoded  flesch_reading   gunning_fog      sent_len  \\\n",
       "count    19579.000000    19579.000000  19579.000000  19579.000000   \n",
       "mean         0.884315       62.962014     13.645830     29.759885   \n",
       "std          0.823379       25.084772      7.954924     18.789673   \n",
       "min          0.000000     -785.530000      0.800000      3.500000   \n",
       "25%          0.000000       48.810000      8.670000     17.000000   \n",
       "50%          1.000000       64.380000     12.630000     26.000000   \n",
       "75%          2.000000       78.930000     17.330000     38.000000   \n",
       "max          2.000000      120.210000    346.860000    438.000000   \n",
       "\n",
       "           word_len     noun_freq     verb_freq      adj_freq      adv_freq  \\\n",
       "count  19579.000000  19579.000000  19579.000000  19579.000000  19579.000000   \n",
       "mean       4.466894      0.203321      0.126852      0.080366      0.057910   \n",
       "std        0.580367      0.078816      0.063587      0.064346      0.062095   \n",
       "min        0.000000      0.000000      0.000000      0.000000      0.000000   \n",
       "25%        4.105263      0.157895      0.086957      0.034785      0.000000   \n",
       "50%        4.441860      0.203390      0.125000      0.074627      0.047619   \n",
       "75%        4.800000      0.250000      0.163265      0.117647      0.086957   \n",
       "max       11.000000      0.750000      0.600000      0.571429      0.600000   \n",
       "\n",
       "         funct_word    type_token  \n",
       "count  19579.000000  19579.000000  \n",
       "mean       0.507038      0.889258  \n",
       "std        0.093841      0.087493  \n",
       "min        0.000000      0.000000  \n",
       "25%        0.454545      0.833333  \n",
       "50%        0.500000      0.894737  \n",
       "75%        0.564103      0.956522  \n",
       "max        1.000000      1.000000  "
      ]
     },
     "execution_count": 19,
     "metadata": {},
     "output_type": "execute_result"
    }
   ],
   "source": [
    "clean_train.describe()"
   ]
  },
  {
   "cell_type": "code",
   "execution_count": 21,
   "metadata": {},
   "outputs": [
    {
     "data": {
      "image/png": "[encoded data removed]",
      "text/plain": [
       "<Figure size 1600x800 with 10 Axes>"
      ]
     },
     "metadata": {},
     "output_type": "display_data"
    }
   ],
   "source": [
    "# Create a figure with 10 subplots (2 rows and 5 columns)\n",
    "fig, axs = plt.subplots(nrows = 2, ncols = 5, figsize = [16, 8])\n",
    "plt.subplots_adjust(wspace = 0.3)\n",
    "\n",
    "# Flatten the axs for easy iteration\n",
    "axs = axs.flatten()\n",
    "\n",
    "# The column names of linguistic features\n",
    "lingu_cols = ['flesch_reading', 'gunning_fog', 'sent_len', 'word_len', 'noun_freq',\n",
    "            'verb_freq', 'adj_freq', 'adv_freq', 'funct_word', 'type_token']\n",
    "\n",
    "# Plot the linguistic features\n",
    "for i, col in enumerate(lingu_cols):\n",
    "    sns.boxplot(data = clean_train, x = 'author', y = col, hue = 'author', palette = ['skyblue', 'lightsalmon', 'wheat'], ax = axs[i])\n",
    "    axs[i].set_ylabel('')\n",
    "    axs[i].set_xlabel('')\n",
    "    axs[i].set_title(col);"
   ]
  },
  {
   "cell_type": "markdown",
   "metadata": {},
   "source": [
    "The plots above show slight deviations among authors in terms of linguistic features, but these differences are not very pronounced. \n",
    "\n",
    "I will use an ANOVA test to determine if there are statistically significant differences between the means of these features across the author groups, setting $\\alpha$ = 0.05."
   ]
  },
  {
   "cell_type": "code",
   "execution_count": 22,
   "metadata": {},
   "outputs": [
    {
     "name": "stdout",
     "output_type": "stream",
     "text": [
      "Feature: flesch_reading, p-value:  0.056\n",
      "Feature: gunning_fog, p-value:  0.001\n",
      "Feature: sent_len, p-value:  0.000\n",
      "Feature: word_len, p-value:  0.000\n",
      "Feature: noun_freq, p-value:  0.000\n",
      "Feature: verb_freq, p-value:  0.000\n",
      "Feature: adj_freq, p-value:  0.000\n",
      "Feature: adv_freq, p-value:  0.000\n",
      "Feature: funct_word, p-value:  0.000\n",
      "Feature: type_token, p-value:  0.002\n"
     ]
    }
   ],
   "source": [
    "# Group the data by 'author' \n",
    "authors = clean_train['author'].unique()\n",
    "\n",
    "# Apply ANOVA for each continuous feature across the author groups\n",
    "for feature in lingu_cols:\n",
    "    # Create groups for each author \n",
    "    groups = [clean_train[clean_train['author'] == author][feature] for author in authors]\n",
    "\n",
    "    # Perform one-way ANOVA\n",
    "    f_statistic, p_value = f_oneway(*groups)\n",
    "\n",
    "    # Print results\n",
    "    print(f\"Feature: {feature}, p-value: {p_value: .3f}\")"
   ]
  },
  {
   "cell_type": "markdown",
   "metadata": {},
   "source": [
    "Most of the p-values are less than 0.05, suggesting that there are statistically significant differences among the means of these features across the author groups, except for the Flesch Reading Score which has a p-value of 0.056. I will remove 'flesch_reading' from the training and test set, and keep the rest linguistic features.\n",
    "\n",
    "However, the ANOVA test only tells us that there are differences between the groups, but it doesn't specify which groups differ or in what way. I will use Tukey HSD to uncover more details."
   ]
  },
  {
   "cell_type": "code",
   "execution_count": 23,
   "metadata": {},
   "outputs": [],
   "source": [
    "# Drop the column 'flesch_reading'\n",
    "clean_train = clean_train.drop(columns = ['flesch_reading'])\n",
    "clean_test = clean_test.drop(columns = ['flesch_reading'])"
   ]
  },
  {
   "cell_type": "code",
   "execution_count": 24,
   "metadata": {},
   "outputs": [
    {
     "name": "stdout",
     "output_type": "stream",
     "text": [
      "gunning_fog\n",
      "Multiple Comparison of Means - Tukey HSD, FWER=0.05\n",
      "===================================================\n",
      "group1 group2 meandiff p-adj   lower  upper  reject\n",
      "---------------------------------------------------\n",
      "   EAP    HPL   0.3707 0.0205  0.0457 0.6957   True\n",
      "   EAP    MWS   0.4583 0.0022  0.1398 0.7769   True\n",
      "   HPL    MWS   0.0876 0.8229 -0.2576 0.4328  False\n",
      "---------------------------------------------------\n",
      "\n",
      "sent_len\n",
      "Multiple Comparison of Means - Tukey HSD, FWER=0.05\n",
      "==================================================\n",
      "group1 group2 meandiff p-adj  lower  upper  reject\n",
      "--------------------------------------------------\n",
      "   EAP    HPL   2.0872    0.0 1.3203 2.8541   True\n",
      "   EAP    MWS   1.9367    0.0  1.185 2.6883   True\n",
      "   HPL    MWS  -0.1505 0.9018 -0.965 0.6639  False\n",
      "--------------------------------------------------\n",
      "\n",
      "word_len\n",
      "Multiple Comparison of Means - Tukey HSD, FWER=0.05 \n",
      "====================================================\n",
      "group1 group2 meandiff p-adj   lower   upper  reject\n",
      "----------------------------------------------------\n",
      "   EAP    HPL   0.0365 0.0009  0.0128  0.0602   True\n",
      "   EAP    MWS  -0.0251 0.0305 -0.0483 -0.0019   True\n",
      "   HPL    MWS  -0.0616    0.0 -0.0867 -0.0364   True\n",
      "----------------------------------------------------\n",
      "\n",
      "noun_freq\n",
      "Multiple Comparison of Means - Tukey HSD, FWER=0.05 \n",
      "====================================================\n",
      "group1 group2 meandiff p-adj   lower   upper  reject\n",
      "----------------------------------------------------\n",
      "   EAP    HPL   0.0056 0.0001  0.0024  0.0088   True\n",
      "   EAP    MWS   0.0009 0.7906 -0.0023   0.004  False\n",
      "   HPL    MWS  -0.0047 0.0033 -0.0082 -0.0013   True\n",
      "----------------------------------------------------\n",
      "\n",
      "verb_freq\n",
      "Multiple Comparison of Means - Tukey HSD, FWER=0.05\n",
      "=================================================\n",
      "group1 group2 meandiff p-adj lower  upper  reject\n",
      "-------------------------------------------------\n",
      "   EAP    HPL   0.0102   0.0 0.0076 0.0128   True\n",
      "   EAP    MWS   0.0186   0.0 0.0161 0.0211   True\n",
      "   HPL    MWS   0.0084   0.0 0.0056 0.0111   True\n",
      "-------------------------------------------------\n",
      "\n",
      "adj_freq\n",
      "Multiple Comparison of Means - Tukey HSD, FWER=0.05\n",
      "===================================================\n",
      "group1 group2 meandiff p-adj  lower   upper  reject\n",
      "---------------------------------------------------\n",
      "   EAP    HPL   0.0142   0.0  0.0116  0.0168   True\n",
      "   EAP    MWS  -0.0061   0.0 -0.0086 -0.0035   True\n",
      "   HPL    MWS  -0.0203   0.0 -0.0231 -0.0175   True\n",
      "---------------------------------------------------\n",
      "\n",
      "adv_freq\n",
      "Multiple Comparison of Means - Tukey HSD, FWER=0.05 \n",
      "====================================================\n",
      "group1 group2 meandiff p-adj   lower   upper  reject\n",
      "----------------------------------------------------\n",
      "   EAP    HPL   -0.004 0.0006 -0.0065 -0.0015   True\n",
      "   EAP    MWS  -0.0193    0.0 -0.0218 -0.0168   True\n",
      "   HPL    MWS  -0.0153    0.0  -0.018 -0.0127   True\n",
      "----------------------------------------------------\n",
      "\n",
      "funct_word\n",
      "Multiple Comparison of Means - Tukey HSD, FWER=0.05\n",
      "===================================================\n",
      "group1 group2 meandiff p-adj  lower   upper  reject\n",
      "---------------------------------------------------\n",
      "   EAP    HPL  -0.0255   0.0 -0.0293 -0.0218   True\n",
      "   EAP    MWS   0.0142   0.0  0.0105  0.0179   True\n",
      "   HPL    MWS   0.0397   0.0  0.0357  0.0437   True\n",
      "---------------------------------------------------\n",
      "\n",
      "type_token\n",
      "Multiple Comparison of Means - Tukey HSD, FWER=0.05 \n",
      "====================================================\n",
      "group1 group2 meandiff p-adj   lower   upper  reject\n",
      "----------------------------------------------------\n",
      "   EAP    HPL   0.0006 0.9081 -0.0029  0.0042  False\n",
      "   EAP    MWS  -0.0045 0.0072  -0.008  -0.001   True\n",
      "   HPL    MWS  -0.0051 0.0043 -0.0089 -0.0013   True\n",
      "----------------------------------------------------\n",
      "\n"
     ]
    }
   ],
   "source": [
    "columns = ['gunning_fog', 'sent_len', 'word_len', 'noun_freq',\n",
    "            'verb_freq', 'adj_freq', 'adv_freq', 'funct_word', 'type_token']\n",
    "\n",
    "# Perform TukeyHSD \n",
    "for col in columns:\n",
    "    tukey = pairwise_tukeyhsd(endog = clean_train[col], groups = clean_train['author'], alpha = 0.05)\n",
    "    print(col)\n",
    "    print(tukey)\n",
    "    print()"
   ]
  },
  {
   "cell_type": "markdown",
   "metadata": {},
   "source": [
    "The Tukey HSD results show that:\n",
    "\n",
    "* Texts by EAP are more difficult to read (higher Gunning Fog Index) and contain longer sentences than those by the other two authors.\n",
    "* MWS tends to use longer words, followed by EAP, then HPL.\n",
    "* EAP uses more nouns and verbs; MWS uses more nouns, adjectives, and adverbs; HPL uses more function words.\n",
    "* MWS has the highest type-token ratio. \n",
    "\n",
    "I summarize the ranking (1 to 3) of the three authors for each linguistic feature in the table below. A ranking of 1 indicates the highest score, and equal rankings indicate no statistically significant difference between two authors for that feature.  \n",
    "  \n",
    "\n",
    "| Linguistic Features | EAP | HPL | MWS |\n",
    "| :-: | :-: | :-: | :-: |\n",
    "| gunning_fog | 1 | 2 | 2 |\n",
    "| sent_len | 1 | 2 | 2 |\n",
    "| word_len | 2 | 3 | 1 |\n",
    "| noun_freq | 1 | 3 | 1 |\n",
    "| verb_freq | 1 | 2 | 3 |\n",
    "| adj_freq | 2 | 3 | 1 |\n",
    "| adv_freq | 3 | 2 | 1 |\n",
    "| funct_word | 2 | 1 | 3 |\n",
    "| type_token | 2 | 2 | 1 |    \n",
    "  \n",
    "Now, let's check the authors' preference for particular vocabularies.    "
   ]
  },
  {
   "cell_type": "code",
   "execution_count": 25,
   "metadata": {},
   "outputs": [],
   "source": [
    "# Rename the column 'author' to avoid ambiguous ('author' could be both an index level and a column label in 'tfidf_df' below)\n",
    "clean_train.rename(columns = {'author': 'Author'}, inplace = True)\n",
    "\n",
    "# Create a tfidf vectorizer \n",
    "tfidf = TfidfVectorizer(ngram_range = (1, 3), min_df = 2) \n",
    "\n",
    "# transform the cleaned_text in training set to a tfidf matrix \n",
    "tfidf_mx = tfidf.fit_transform(clean_train['cleaned_text'])\n",
    "\n",
    "# Convert the document-term matrix to a DataFrame\n",
    "tfidf_df = pd.DataFrame(tfidf_mx.toarray(), columns = tfidf.get_feature_names_out(), \n",
    "                         index = clean_train['Author'])\n",
    "\n",
    "# Group by author and sum the value for each author\n",
    "author_term = tfidf_df.groupby('Author').sum()\n",
    "author_term = author_term.reset_index()\n"
   ]
  },
  {
   "cell_type": "code",
   "execution_count": 27,
   "metadata": {},
   "outputs": [],
   "source": [
    "# Define a function to plot top n-grams\n",
    "def plot_top_ngrams(author, n_gram, top_n, ax):\n",
    "    df = author_term[author_term['Author'] == author].drop(columns = 'Author').T\n",
    "    df.columns = ['Frequency']\n",
    "    ngrams = [ngram for ngram in df.index if len(ngram.split()) == n_gram]\n",
    "    df_ngrams = df.loc[ngrams, 'Frequency'].sort_values(ascending = False).head(top_n).to_frame()\n",
    "\n",
    "    sns.barplot(x = df_ngrams['Frequency'], y = df_ngrams.index, color = 'skyblue', ax = ax)\n",
    "    ax.set_title(f'Top {top_n} {n_gram}-grams from author {author}')\n",
    "    ax.set_ylabel('')\n",
    "\n",
    "    return ax\n"
   ]
  },
  {
   "cell_type": "code",
   "execution_count": 28,
   "metadata": {},
   "outputs": [
    {
     "data": {
      "image/png": "[encoded data removed]",
      "text/plain": [
       "<Figure size 1200x400 with 3 Axes>"
      ]
     },
     "metadata": {},
     "output_type": "display_data"
    }
   ],
   "source": [
    "# Plot top unigrams\n",
    "fig, ax = plt.subplots(nrows = 1, ncols = 3, figsize = (12, 4))\n",
    "plt.subplots_adjust(wspace = 0.3)\n",
    "\n",
    "for i, author in enumerate(clean_train['Author'].unique()):\n",
    "    plot_top_ngrams(author, 1, 15, ax[i])"
   ]
  },
  {
   "cell_type": "code",
   "execution_count": null,
   "metadata": {},
   "outputs": [
    {
     "data": {
      "image/png": "[encoded data removed]",
      "text/plain": [
       "<Figure size 1500x400 with 3 Axes>"
      ]
     },
     "metadata": {},
     "output_type": "display_data"
    }
   ],
   "source": [
    "# Plot top bigrams\n",
    "fig, ax = plt.subplots(nrows = 1, ncols = 3, figsize = (15, 4))\n",
    "plt.subplots_adjust(wspace = 0.5)\n",
    "\n",
    "for i, author in enumerate(clean_train['Author'].unique()):\n",
    "    plot_top_ngrams(author, 2, 15, ax[i])"
   ]
  },
  {
   "cell_type": "code",
   "execution_count": 30,
   "metadata": {},
   "outputs": [
    {
     "data": {
      "image/png": "[encoded data removed]",
      "text/plain": [
       "<Figure size 1600x500 with 3 Axes>"
      ]
     },
     "metadata": {},
     "output_type": "display_data"
    }
   ],
   "source": [
    "# Plot top trigrams\n",
    "fig, ax = plt.subplots(nrows = 1, ncols = 3, figsize = (16, 5))\n",
    "plt.subplots_adjust(wspace = 0.6)\n",
    "\n",
    "for i, author in enumerate(clean_train['Author'].unique()):\n",
    "    plot_top_ngrams(author, 3, 15, ax[i])"
   ]
  },
  {
   "cell_type": "code",
   "execution_count": null,
   "metadata": {},
   "outputs": [],
   "source": [
    "# Delete the rows with empty 'cleaned_text'\n",
    "clean_train = clean_train[clean_train['cleaned_text'] != '']\n",
    "\n",
    "# Reset_index of clean_train \n",
    "clean_train = clean_train.reset_index(drop = True)"
   ]
  },
  {
   "cell_type": "markdown",
   "metadata": {},
   "source": [
    "As we can see from the plots above, there are several overlapping top unigrams among the authors. However, as the value of n increases, the number of overlapping n-grams decreases. There are far fewer common bigrams and trigrams compared to unigrams. Since I removed the stop words, some of the trigrams appear a bit odd and do not convey much meaning.   "
   ]
  },
  {
   "cell_type": "code",
   "execution_count": 31,
   "metadata": {},
   "outputs": [],
   "source": [
    "# Save 'clean_train' and 'clean_test'\n",
    "clean_train.to_csv('clean_train.csv', index = False)\n",
    "clean_test.to_csv('clean_test.csv', index = False)"
   ]
  },
  {
   "cell_type": "markdown",
   "metadata": {},
   "source": [
    "##### Summary of EDA  \n",
    "\n",
    "Here is what I have done during the EDA:\n",
    "\n",
    "* Checked the proportion of each target label (author) in the training set and found that the dataset is roughly **balanced**. \n",
    "\n",
    "* Created a new column, 'author_encoded', using integers to represent the authors (**label encoding**) in order to address the challenge of model performance calculation.  \n",
    "  \n",
    "* Reviewed the text data and concluded that it **doesn't require much additional cleaning** beyond tokenization, lemmatization, and the removal of stop words, punctuation, digits, and short words—all of which were done by the spaCy package.  \n",
    "\n",
    "* Explored **linguistic features** which reflect authors' writing styles through features such as Gunning Fog Index, sentence length, word length, POS Tags Distribution, function word usage, type-token ratio, and word frequency. The results of ANOVA test and TukeyHSD shows that there are statistically significant differences among the means of most linguistic features across the author groups, except for the Flesch Reading Score.\n",
    "\n",
    "* Plotted the **top n-grams** by author and observed several overlapping top unigrams among the authors, making the distinction between them relatively small in terms of unigrams. However, as *n* increases, the number of overlapping n-grams decreases.  \n",
    "  \n",
    "**Potential Challenges**:   \n",
    "  \n",
    "The overlap of top n-grams blurs the boundaries between the authors, potentially challenging the performance of models we plan to build. **Potential solutions** include:\n",
    "\n",
    "1. Tuning hyperparameters and considering **higher values of ngram_range** in the TF-IDF matrix to reduce the overlap of n-grams.  \n",
    "  \n",
    "2. Using **BERT embeddings**, which account for the context in which words appear, to see if they provide richer and more valuable information compared to TF-IDF.  \n",
    "  \n",
    "3. Adopting a **hybrid approach** that combines unsupervised learning models with supervised learning models.  "
   ]
  },
  {
   "cell_type": "markdown",
   "metadata": {},
   "source": [
    "### Modeling  \n",
    "\n",
    "**Word Embedding**\n",
    "Based on the text data characteristics—such as overlapping top n-grams—I will use TF-IDF and BERT to determine which word embedding method works better in this case.\n",
    "\n",
    "**Models**\n",
    "* Unsupervised Model: Agglomerative clustering, Latent Dirichlet Allocation (LDA), NMF \n",
    "* Hybrid Model: combining unsupervised and supervised methods.  \n",
    "    * Using unsupervised models for topic modeling and feature extraction   \n",
    "    * Training supervised models on the topic/feature matrix from stage one. \n",
    "* Supervised Model: Random Forest, XGBoost\n",
    "\n",
    "\n",
    "**Metrics**\n",
    "This is a multi-class classification problem. As mentioned earlier, the training set from the Kaggle competition includes labels for evaluating model performance. I will use accuracy as the primary evaluation metric, while log-loss will be used for submissions, as the Kaggle competition evaluates models using multi-class logarithmic loss. Efficiency (wall time) will also be considered if the accuracies of two models are very close.\n"
   ]
  },
  {
   "cell_type": "code",
   "execution_count": 140,
   "metadata": {},
   "outputs": [],
   "source": [
    "# Split the 'clean_train' to training and validation set\n",
    "tra, val = train_test_split(clean_train, test_size = 0.2, stratify = clean_train['Author'], random_state = 1)"
   ]
  },
  {
   "cell_type": "markdown",
   "metadata": {},
   "source": [
    "#### Unsupervised Model  \n",
    "  \n",
    "1. Agglomerative Clustering vs. LDA vs. NMF    "
   ]
  },
  {
   "cell_type": "code",
   "execution_count": null,
   "metadata": {},
   "outputs": [],
   "source": [
    "# Create a tfidf vectorizer with most default hyperparameter setting but min_df = 2 to reduce the dimention of tfidx matrix\n",
    "tfidf = TfidfVectorizer(min_df = 2)\n",
    "\n",
    "# Fit and transform the 'cleaned_text' from 'tra' and 'val' into a tfidf-matrix (document-term matrix)\n",
    "tfidf.fit(tra['cleaned_text'])\n",
    "tfidf_mx_tra = tfidf.transform(tra['cleaned_text'])\n",
    "tfidf_mx_val = tfidf.transform(val['cleaned_text'])"
   ]
  },
  {
   "cell_type": "markdown",
   "metadata": {},
   "source": [
    "The Agglomerative clustering assigns labels randomly, I will define a function to permute the label orders and get the best accuracy score."
   ]
  },
  {
   "cell_type": "code",
   "execution_count": 142,
   "metadata": {},
   "outputs": [],
   "source": [
    "def clustering_accuracy(y_pred, y_true):\n",
    "    label_orders = list(permutations([0, 1, 2]))\n",
    "    y_true = y_true.reset_index(drop = True)\n",
    "    accuracy = []\n",
    "    for i in range(len(label_orders)):\n",
    "        map_label = dict(zip(list(tra['Author'].unique()), list(label_orders[i])))\n",
    "        yt = y_true.apply(lambda x: map_label[x])\n",
    "        acc = accuracy_score(yt, y_pred)\n",
    "        accuracy.append(acc)\n",
    "    idx = np.argmax(accuracy)\n",
    "    return accuracy[idx], label_orders[idx]"
   ]
  },
  {
   "cell_type": "code",
   "execution_count": null,
   "metadata": {},
   "outputs": [],
   "source": [
    "%%time\n",
    "\n",
    "# Train an AgglomerativeClustering model on the tfidf matrix\n",
    "clutering = AgglomerativeClustering(n_clusters = 3).fit(tfidf_mx_tra.toarray())\n",
    "\n",
    "# Get the accuracy of the clusering model\n",
    "accu_clustering, label_order = clustering_accuracy(clutering.labels_, tra['Author'])\n",
    "print(\"The accuracy of the agglomerative clustering model is\", accu_clustering)"
   ]
  },
  {
   "cell_type": "code",
   "execution_count": 35,
   "metadata": {},
   "outputs": [],
   "source": [
    "# Define a function to permute label orders and get best accuracy\n",
    "def topic_accuracy(doc_topic, y_true):\n",
    "    label_orders = list(permutations([0, 1, 2]))\n",
    "    y_true = y_true.reset_index(drop = True)\n",
    "    best_accu = 0\n",
    "    for i in range(len(label_orders)):\n",
    "        df = pd.DataFrame(doc_topic, columns = list(label_orders[i]))\n",
    "        df['y_pred'] = df.idxmax(axis = 1)\n",
    "        accuracy = accuracy_score(y_true, df['y_pred'])\n",
    "        if accuracy > best_accu:\n",
    "            best_accu = accuracy\n",
    "            y_pred = df['y_pred']\n",
    "    return best_accu, y_pred"
   ]
  },
  {
   "cell_type": "code",
   "execution_count": 66,
   "metadata": {},
   "outputs": [
    {
     "name": "stdout",
     "output_type": "stream",
     "text": [
      "lda accuracy of training set: 0.4318051026280453\n",
      "CPU times: user 46.9 s, sys: 674 ms, total: 47.5 s\n",
      "Wall time: 51.7 s\n"
     ]
    }
   ],
   "source": [
    "%%time\n",
    "\n",
    "# Train a LDA model on the TF-IDF matrix\n",
    "lda = LatentDirichletAllocation(n_components = 3, random_state = 8)\n",
    "lda.fit(tfidf_mx_tra)\n",
    "lda_topics = lda.transform(tfidf_mx_tra)\n",
    "\n",
    "# Get the accuracy of the LDA model\n",
    "accu_lda, lda_pred = topic_accuracy(lda_topics, tra['author_encoded'])\n",
    "print(\"lda accuracy of training set:\", accu_lda)"
   ]
  },
  {
   "cell_type": "code",
   "execution_count": 72,
   "metadata": {},
   "outputs": [
    {
     "name": "stdout",
     "output_type": "stream",
     "text": [
      "nmf_base accuracy of training set: 0.3958693011062088\n",
      "CPU times: user 486 ms, sys: 117 ms, total: 603 ms\n",
      "Wall time: 357 ms\n"
     ]
    }
   ],
   "source": [
    "%%time\n",
    "\n",
    "# Train a NMF model on the TF-IDF matrix\n",
    "nmf_base = NMF(n_components = 3, random_state = 8)\n",
    "nmf_base.fit(tfidf_mx_tra)\n",
    "\n",
    "# Transform the tfidf matrix and get the W matrix\n",
    "w_base = nmf_base.transform(tfidf_mx_tra)\n",
    "\n",
    "# Get the accuracy of the NMF model\n",
    "accu_nmf_base, nmf_pred_base = topic_accuracy(w_base, tra['author_encoded'])\n",
    "print(\"nmf_base accuracy of training set:\", accu_nmf_base)"
   ]
  },
  {
   "cell_type": "markdown",
   "metadata": {},
   "source": [
    "The accuracy of Agglomerative Clustering, LDA and NMF model is similarly low, all around 0.4. However, the runtime of Agglomerative Clustering is significantly longer than that of the NMF and LDA models. \n",
    "\n",
    "The LDA model performs slightly better than NMF in terms of accuracy (0.4318 vs. 0.3959), while the NMF model is more efficient than LDA (357 ms vs. 51.7 s)\n",
    "Therefore, I will proceed with both LDA and NMF model for now.  \n",
    "\n",
    "First, concatenate linguistic features and tfidf matrix then train the LDA and NMF models to see if it improves the model performance."
   ]
  },
  {
   "cell_type": "code",
   "execution_count": 73,
   "metadata": {},
   "outputs": [],
   "source": [
    "# Concatenate linguistic features and tfidf matrix\n",
    "lingu_tra = tra[['gunning_fog', 'sent_len', 'word_len', 'noun_freq', 'verb_freq', 'adj_freq', 'adv_freq',\n",
    "                 'funct_word', 'type_token']].to_numpy()\n",
    "\n",
    "tfidf_lingu = np.concatenate((tfidf_mx_tra.toarray(), lingu_tra), axis = 1)"
   ]
  },
  {
   "cell_type": "code",
   "execution_count": 74,
   "metadata": {},
   "outputs": [
    {
     "name": "stdout",
     "output_type": "stream",
     "text": [
      "lda_tl accuracy of training set: 0.3608286974870516\n",
      "CPU times: user 2min 57s, sys: 3.1 s, total: 3min\n",
      "Wall time: 3min 25s\n"
     ]
    }
   ],
   "source": [
    "%%time \n",
    "\n",
    "# Train a LDA model on tfidf_lingu matrix\n",
    "lda_tl = LatentDirichletAllocation(n_components = 3, random_state = 8)\n",
    "lda_tl.fit(tfidf_lingu)\n",
    "lda_tl_topics = lda_tl.transform(tfidf_lingu)\n",
    "\n",
    "# Get the accuracy of the LDA model\n",
    "accu_lda_tl, lda_tl_pred = topic_accuracy(lda_tl_topics, tra['author_encoded'])\n",
    "print(\"lda_tl accuracy of training set:\", accu_lda_tl)"
   ]
  },
  {
   "cell_type": "code",
   "execution_count": 75,
   "metadata": {},
   "outputs": [
    {
     "name": "stderr",
     "output_type": "stream",
     "text": [
      "/opt/miniconda3/lib/python3.12/site-packages/sklearn/decomposition/_nmf.py:1759: ConvergenceWarning: Maximum number of iterations 200 reached. Increase it to improve convergence.\n",
      "  warnings.warn(\n"
     ]
    },
    {
     "name": "stdout",
     "output_type": "stream",
     "text": [
      "nmf_tl accuracy of training set: 0.38071487946799665\n",
      "CPU times: user 4min 17s, sys: 9.93 s, total: 4min 27s\n",
      "Wall time: 2min 46s\n"
     ]
    }
   ],
   "source": [
    "%%time\n",
    "\n",
    "# Train a NMF model on the tfidf_lingu matrix\n",
    "nmf_tl = NMF(n_components = 3, random_state = 8)\n",
    "nmf_tl.fit(tfidf_lingu)\n",
    "\n",
    "# Transform the tfidf_lingu matrix and get the W matrix\n",
    "w_tl = nmf_tl.transform(tfidf_lingu)\n",
    "\n",
    "# Get the accuracy of the NMF model\n",
    "accu_nmf_tl, nmf_tl_pred = topic_accuracy(w_tl, tra['author_encoded'])\n",
    "print(\"nmf_tl accuracy of training set:\", accu_nmf_tl)"
   ]
  },
  {
   "cell_type": "markdown",
   "metadata": {},
   "source": [
    "Adding linguistic features to the tfidf matrix doesn't improve the models' performance, instead it prolongs the runtime. I will stick with the tf-idf matrix only and tune the hyper parameters of TF-IDF Vectorizer, LDA and NMF models."
   ]
  },
  {
   "cell_type": "markdown",
   "metadata": {},
   "source": [
    "2. Tune hyperparameter of NMF / LDA + TF-IDF  \n",
    "  \n",
    "First, I will tune the hyperparameter of TF-IDF Vectorizer and NMF model. To improve efficiency, I will first use RandomizedSearchCV to tune over a wide range of hyperparameters, then use GridSearchCV for a final round of tuning on a narrower parameter range.\n",
    "\n",
    "But before that, I need to define a scoring function for RandomizedSearchCV and GridSearchCV."
   ]
  },
  {
   "cell_type": "code",
   "execution_count": 7,
   "metadata": {},
   "outputs": [],
   "source": [
    "# Define a scoring function for GridSearchCV\n",
    "def accuracy(estimator, X, y):\n",
    "    tfidf = estimator.named_steps['tfidf']\n",
    "    tfidf_mx = tfidf.transform(X)\n",
    "    topic_model = estimator.named_steps['topic_model']\n",
    "    doc_topic = topic_model.transform(tfidf_mx)\n",
    "    accu, y_pred = topic_accuracy(doc_topic, y)\n",
    "    return accu"
   ]
  },
  {
   "cell_type": "markdown",
   "metadata": {},
   "source": [
    "There are two types of solvers in the NMF model: 'cd' and 'mu'. The 'mu' solver can be tuned together with the 'beta_loss' parameter, while the 'cd' solver cannot. I will run RandomizedSearchCV separately —- once using the 'cd' solver and once using the 'mu' solver."
   ]
  },
  {
   "cell_type": "code",
   "execution_count": null,
   "metadata": {},
   "outputs": [
    {
     "name": "stderr",
     "output_type": "stream",
     "text": [
      "/Library/Frameworks/Python.framework/Versions/3.12/lib/python3.12/site-packages/sklearn/decomposition/_nmf.py:1759: ConvergenceWarning: Maximum number of iterations 2000 reached. Increase it to improve convergence.\n",
      "  warnings.warn(\n",
      "/Library/Frameworks/Python.framework/Versions/3.12/lib/python3.12/site-packages/sklearn/decomposition/_nmf.py:1759: ConvergenceWarning: Maximum number of iterations 2000 reached. Increase it to improve convergence.\n",
      "  warnings.warn(\n",
      "/Library/Frameworks/Python.framework/Versions/3.12/lib/python3.12/site-packages/sklearn/decomposition/_nmf.py:1759: ConvergenceWarning: Maximum number of iterations 2000 reached. Increase it to improve convergence.\n",
      "  warnings.warn(\n",
      "/Library/Frameworks/Python.framework/Versions/3.12/lib/python3.12/site-packages/sklearn/decomposition/_nmf.py:1759: ConvergenceWarning: Maximum number of iterations 2000 reached. Increase it to improve convergence.\n",
      "  warnings.warn(\n"
     ]
    },
    {
     "data": {
      "text/plain": [
       "0.40354443309499494"
      ]
     },
     "execution_count": 100,
     "metadata": {},
     "output_type": "execute_result"
    }
   ],
   "source": [
    "# Create a pipeline of TfidfVectorizer + NMF using the default solver 'cd'\n",
    "pipeline = Pipeline([\n",
    "    ('tfidf', TfidfVectorizer(stop_words= 'english')),\n",
    "    ('topic_model', NMF(n_components = 3, max_iter = 2000, random_state = 42))\n",
    "])\n",
    "\n",
    "# Create a parameter grid\n",
    "params = {\n",
    "    'tfidf__ngram_range': [(1, 2), (2, 2), (2, 3), (3, 3)],\n",
    "    'tfidf__max_df': [0.8, 1.0],\n",
    "    'tfidf__min_df': [1, 2, 5],\n",
    "    'tfidf__max_features': [5000, 8000, None],\n",
    "    'topic_model__init': ['random', 'nndsvd', 'nndsvda']\n",
    "}\n",
    "\n",
    "# Perform RandomizedSearchCV\n",
    "tfidf_nmf_cd = RandomizedSearchCV(pipeline, params, n_iter = 30, scoring = accuracy, n_jobs = -1)\n",
    "tfidf_nmf_cd.fit(clean_train['cleaned_text'], clean_train['author_encoded'])\n",
    "\n",
    "# Get the best score\n",
    "tfidf_nmf_cd.best_score_"
   ]
  },
  {
   "cell_type": "code",
   "execution_count": 80,
   "metadata": {},
   "outputs": [
    {
     "data": {
      "text/plain": [
       "0.49337552071781365"
      ]
     },
     "execution_count": 80,
     "metadata": {},
     "output_type": "execute_result"
    }
   ],
   "source": [
    "# Create a pipeline of TfidfVectorizer + NMF using the solver 'mu' which can be tuned together with the 'beta_loss' parameter\n",
    "pipeline = Pipeline([\n",
    "    ('tfidf', TfidfVectorizer(stop_words= 'english')),\n",
    "    ('topic_model', NMF(n_components = 3, max_iter = 2000, solver = 'mu', random_state = 42))\n",
    "])\n",
    "\n",
    "# Create a parameter grid\n",
    "params = {\n",
    "    'tfidf__ngram_range': [(1, 2), (2, 2), (2, 3), (3, 3)],\n",
    "    'tfidf__max_df': [0.8, 1.0],\n",
    "    'tfidf__min_df': [1, 2, 5],\n",
    "    'tfidf__max_features': [5000, 8000, None],\n",
    "    'topic_model__init': ['nndsvda', 'nndsvdar'],\n",
    "    'topic_model__beta_loss': ['frobenius', 'kullback-leibler']\n",
    "}\n",
    "\n",
    "# Perform RandomizedSearchCV\n",
    "tfidf_nmf_mu = RandomizedSearchCV(pipeline, params, n_iter = 60, scoring = accuracy, n_jobs = 3)\n",
    "tfidf_nmf_mu.fit(clean_train['cleaned_text'], clean_train['author_encoded'])\n",
    "\n",
    "# Get the best score\n",
    "tfidf_nmf_mu.best_score_"
   ]
  },
  {
   "cell_type": "markdown",
   "metadata": {},
   "source": [
    "The NMF model with the 'mu' solver performs better than the one with the 'cd' solver. I will continue tuning the hyperparameters of the former (NMF with the 'mu' solver)."
   ]
  },
  {
   "cell_type": "code",
   "execution_count": 81,
   "metadata": {},
   "outputs": [
    {
     "data": {
      "text/plain": [
       "{'topic_model__init': 'nndsvda',\n",
       " 'topic_model__beta_loss': 'kullback-leibler',\n",
       " 'tfidf__ngram_range': (1, 2),\n",
       " 'tfidf__min_df': 5,\n",
       " 'tfidf__max_features': 8000,\n",
       " 'tfidf__max_df': 1.0}"
      ]
     },
     "execution_count": 81,
     "metadata": {},
     "output_type": "execute_result"
    }
   ],
   "source": [
    "# Get the best parameter\n",
    "tfidf_nmf_mu.best_params_"
   ]
  },
  {
   "cell_type": "code",
   "execution_count": 83,
   "metadata": {},
   "outputs": [
    {
     "data": {
      "text/plain": [
       "0.5082100785190449"
      ]
     },
     "execution_count": 83,
     "metadata": {},
     "output_type": "execute_result"
    }
   ],
   "source": [
    "# Continue tuning TfidfVectorizer + NMF using the solver 'mu' \n",
    "pipeline = Pipeline([\n",
    "    ('tfidf', TfidfVectorizer(stop_words= 'english')),\n",
    "    ('topic_model', NMF(n_components = 3, init = 'nndsvda', max_iter = 2000, solver = 'mu', beta_loss = 'kullback-leibler', random_state = 42))\n",
    "])\n",
    "\n",
    "# Create a parameter grid\n",
    "params = {\n",
    "    'tfidf__ngram_range': [(1, 2), (1, 3), (2, 3)],\n",
    "    'tfidf__max_df': [0.85, 0.9, 0.95, 1.0],\n",
    "    'tfidf__min_df': [3, 4, 5],\n",
    "    'tfidf__max_features': [7000, 8000, 9000, 10000],\n",
    "    \n",
    "}\n",
    "\n",
    "# Perform RandomizedSearchCV\n",
    "tfidf_nmf_mu2 = RandomizedSearchCV(pipeline, params, n_iter = 30, scoring = accuracy, n_jobs = 3)\n",
    "tfidf_nmf_mu2.fit(clean_train['cleaned_text'], clean_train['author_encoded'])\n",
    "\n",
    "# Get the best score\n",
    "tfidf_nmf_mu2.best_score_\n"
   ]
  },
  {
   "cell_type": "code",
   "execution_count": 84,
   "metadata": {},
   "outputs": [
    {
     "data": {
      "text/plain": [
       "{'tfidf__ngram_range': (1, 2),\n",
       " 'tfidf__min_df': 4,\n",
       " 'tfidf__max_features': 10000,\n",
       " 'tfidf__max_df': 0.85}"
      ]
     },
     "execution_count": 84,
     "metadata": {},
     "output_type": "execute_result"
    }
   ],
   "source": [
    "# Get the best parameter\n",
    "tfidf_nmf_mu2.best_params_"
   ]
  },
  {
   "cell_type": "code",
   "execution_count": 85,
   "metadata": {},
   "outputs": [
    {
     "data": {
      "text/plain": [
       "0.5082100785190449"
      ]
     },
     "execution_count": 85,
     "metadata": {},
     "output_type": "execute_result"
    }
   ],
   "source": [
    "# Last round of tuning TfidfVectorizer + NMF using the solver 'mu' \n",
    "pipeline = Pipeline([\n",
    "    ('tfidf', TfidfVectorizer(stop_words= 'english')),\n",
    "    ('topic_model', NMF(n_components = 3, init = 'nndsvda', max_iter = 2000, solver = 'mu', beta_loss = 'kullback-leibler', random_state = 42))\n",
    "])\n",
    "\n",
    "# Create a parameter grid\n",
    "params = {\n",
    "    'tfidf__ngram_range': [(1, 2), (1, 3), (2, 3)],\n",
    "    'tfidf__min_df': [3, 4, 5],\n",
    "    'tfidf__max_df': [0.8, 0.85, 0.9],\n",
    "    'tfidf__max_features': [9000, 10000, 12000]\n",
    "}\n",
    "\n",
    "# Perform GridSearchCV\n",
    "tfidf_nmf_mu3 = GridSearchCV(pipeline, params, scoring = accuracy, n_jobs = -1)\n",
    "tfidf_nmf_mu3.fit(clean_train['cleaned_text'], clean_train['author_encoded'])\n",
    "\n",
    "# Get the best score\n",
    "tfidf_nmf_mu3.best_score_"
   ]
  },
  {
   "cell_type": "code",
   "execution_count": 86,
   "metadata": {},
   "outputs": [
    {
     "data": {
      "text/plain": [
       "{'tfidf__max_df': 0.8,\n",
       " 'tfidf__max_features': 9000,\n",
       " 'tfidf__min_df': 4,\n",
       " 'tfidf__ngram_range': (1, 2)}"
      ]
     },
     "execution_count": 86,
     "metadata": {},
     "output_type": "execute_result"
    }
   ],
   "source": [
    "# Get the best parameter\n",
    "tfidf_nmf_mu3.best_params_"
   ]
  },
  {
   "cell_type": "markdown",
   "metadata": {},
   "source": [
    "I will train the NMF model with the best parameter setting from the hyperparameter tunning, and get the accuracy and time complexity."
   ]
  },
  {
   "cell_type": "code",
   "execution_count": 32,
   "metadata": {},
   "outputs": [],
   "source": [
    "# Create a tfidf vectorizer using the best_params\n",
    "tfidf_tuned = TfidfVectorizer(stop_words= 'english', min_df = 4, max_df = 0.8, max_features = 9000, ngram_range = (1, 2))\n",
    "\n",
    "# Fit and transform the 'cleaned_text' from 'tra' into a tfidf-matrix (document-term matrix)\n",
    "tfidf_tuned.fit(tra['cleaned_text'])\n",
    "tfidf_tuned_mx_tra = tfidf_tuned.transform(tra['cleaned_text'])"
   ]
  },
  {
   "cell_type": "code",
   "execution_count": 37,
   "metadata": {},
   "outputs": [
    {
     "name": "stdout",
     "output_type": "stream",
     "text": [
      "nmf_tuned accuracy on training set: 0.47822750815269516\n",
      "CPU times: user 9.28 s, sys: 1.18 s, total: 10.5 s\n",
      "Wall time: 7.33 s\n"
     ]
    }
   ],
   "source": [
    "%%time\n",
    "\n",
    "# Train a NMF model on the TF-IDF matrix\n",
    "nmf_tuned = NMF(n_components = 3, init = 'nndsvda', max_iter = 2000, solver = 'mu', beta_loss = 'kullback-leibler', random_state = 36)\n",
    "nmf_tuned.fit(tfidf_tuned_mx_tra)\n",
    "\n",
    "# Transform the tfidf matrix and get the W matrix\n",
    "w_tuned = nmf_tuned.transform(tfidf_tuned_mx_tra)\n",
    "\n",
    "# Get the accuracy of the NMF model\n",
    "accu_nmf_tuned, nmf_pred_tuned = topic_accuracy(w_tuned, tra['author_encoded'])\n",
    "print(\"nmf_tuned accuracy on training set:\", accu_nmf_tuned)"
   ]
  },
  {
   "cell_type": "markdown",
   "metadata": {},
   "source": [
    "The accuracy of the NMF model improved slightly, rise from 0.3959 to 0.4782, after hyperparameter tuning."
   ]
  },
  {
   "cell_type": "code",
   "execution_count": 36,
   "metadata": {},
   "outputs": [
    {
     "name": "stdout",
     "output_type": "stream",
     "text": [
      "nmf_tuned accuracy on validation set: 0.4792838874680307\n"
     ]
    }
   ],
   "source": [
    "# Transform the 'cleaned_text' from 'val' into a tfidf matrix\n",
    "tfidf_tuned_mx_val = tfidf_tuned.transform(val['cleaned_text'])\n",
    "\n",
    "# Get W matrix\n",
    "w_tuned_val = nmf_tuned.transform(tfidf_tuned_mx_val)\n",
    "\n",
    "# Get the accuracy\n",
    "accu_nmf_tuned_val, nmf_pred_tuned_val = topic_accuracy(w_tuned_val, val['author_encoded'])\n",
    "print(\"nmf_tuned accuracy on validation set:\", accu_nmf_tuned_val)\n"
   ]
  },
  {
   "cell_type": "markdown",
   "metadata": {},
   "source": [
    "Now I will tune hyperparameter of the LDA model."
   ]
  },
  {
   "cell_type": "code",
   "execution_count": 120,
   "metadata": {},
   "outputs": [
    {
     "data": {
      "text/plain": [
       "0.48984489200932463"
      ]
     },
     "execution_count": 120,
     "metadata": {},
     "output_type": "execute_result"
    }
   ],
   "source": [
    "# Create a pipeline of TfidfVectorizer + LDA \n",
    "pipeline = Pipeline([\n",
    "    ('tfidf', TfidfVectorizer(stop_words= 'english')),\n",
    "    ('topic_model', LatentDirichletAllocation(n_components = 3, random_state = 16))\n",
    "])\n",
    "\n",
    "# Create a parameter grid\n",
    "params = {\n",
    "    'tfidf__ngram_range': [(1, 2), (1, 3), (2, 2), (2, 3), (3, 3)],\n",
    "    'tfidf__max_df': [0.8, 1.0],\n",
    "    'tfidf__min_df': [1, 3, 5],\n",
    "    'tfidf__max_features': [5000, 8000, None],\n",
    "    'topic_model__doc_topic_prior': [None, 0.2, 0.4],\n",
    "    'topic_model__learning_decay': [0.6, 0.7, 0.8]\n",
    "}\n",
    "\n",
    "# Perform RandomizedSearchCV\n",
    "rsv_lda0 = RandomizedSearchCV(pipeline, params, n_iter = 100, scoring = accuracy, n_jobs = 3)\n",
    "rsv_lda0.fit(clean_train['cleaned_text'], clean_train['author_encoded'])\n",
    "\n",
    "# Get the best score\n",
    "rsv_lda0.best_score_"
   ]
  },
  {
   "cell_type": "code",
   "execution_count": 121,
   "metadata": {},
   "outputs": [
    {
     "data": {
      "text/plain": [
       "{'topic_model__learning_decay': 0.8,\n",
       " 'topic_model__doc_topic_prior': 0.2,\n",
       " 'tfidf__ngram_range': (1, 2),\n",
       " 'tfidf__min_df': 5,\n",
       " 'tfidf__max_features': 8000,\n",
       " 'tfidf__max_df': 0.8}"
      ]
     },
     "execution_count": 121,
     "metadata": {},
     "output_type": "execute_result"
    }
   ],
   "source": [
    "rsv_lda0.best_params_"
   ]
  },
  {
   "cell_type": "code",
   "execution_count": 8,
   "metadata": {},
   "outputs": [
    {
     "data": {
      "text/plain": [
       "0.5079561560017247"
      ]
     },
     "execution_count": 8,
     "metadata": {},
     "output_type": "execute_result"
    }
   ],
   "source": [
    "# Create a pipeline of TfidfVectorizer + LDA \n",
    "pipeline = Pipeline([\n",
    "    ('tfidf', TfidfVectorizer(stop_words= 'english')),\n",
    "    ('topic_model', LatentDirichletAllocation(n_components = 3, random_state = 8))\n",
    "])\n",
    "\n",
    "# Create a parameter grid\n",
    "params = {\n",
    "    'tfidf__ngram_range': [(1, 2), (1, 3), (2, 3)],\n",
    "    'tfidf__max_df': [0.7, 0.8, 0.9],\n",
    "    'tfidf__min_df': [4, 5, 6],\n",
    "    'tfidf__max_features': [6000, 8000, 10000],\n",
    "    'topic_model__doc_topic_prior': [0.1, 0.2, 0.3],\n",
    "    'topic_model__learning_decay': [0.7, 0.8, 0.9]\n",
    "}\n",
    "\n",
    "# Perform RandomizedSearchCV\n",
    "rsv_lda1 = RandomizedSearchCV(pipeline, params, n_iter = 30, scoring = accuracy, n_jobs = 3)\n",
    "rsv_lda1.fit(clean_train['cleaned_text'], clean_train['author_encoded'])\n",
    "\n",
    "# Get the best score\n",
    "rsv_lda1.best_score_"
   ]
  },
  {
   "cell_type": "code",
   "execution_count": 9,
   "metadata": {},
   "outputs": [
    {
     "data": {
      "text/plain": [
       "{'topic_model__learning_decay': 0.9,\n",
       " 'topic_model__doc_topic_prior': 0.1,\n",
       " 'tfidf__ngram_range': (1, 2),\n",
       " 'tfidf__min_df': 6,\n",
       " 'tfidf__max_features': 6000,\n",
       " 'tfidf__max_df': 0.8}"
      ]
     },
     "execution_count": 9,
     "metadata": {},
     "output_type": "execute_result"
    }
   ],
   "source": [
    "# Get the best parameters\n",
    "rsv_lda1.best_params_"
   ]
  },
  {
   "cell_type": "code",
   "execution_count": 10,
   "metadata": {},
   "outputs": [
    {
     "data": {
      "text/plain": [
       "0.5079561560017247"
      ]
     },
     "execution_count": 10,
     "metadata": {},
     "output_type": "execute_result"
    }
   ],
   "source": [
    "# Create a pipeline of TfidfVectorizer + LDA \n",
    "pipeline = Pipeline([\n",
    "    ('tfidf', TfidfVectorizer(stop_words= 'english', max_df = 0.8, ngram_range = (1, 2))),\n",
    "    ('topic_model', LatentDirichletAllocation(n_components = 3, random_state = 8))\n",
    "])\n",
    "\n",
    "# Create a parameter grid\n",
    "params = {\n",
    "    'tfidf__min_df': [5, 6, 7],\n",
    "    'tfidf__max_features': [5000, 6000, 7000],\n",
    "    'topic_model__doc_topic_prior': [0.1, 0.2, 0.25],\n",
    "    'topic_model__learning_decay': [0.8, 0.85, 0.9] \n",
    "}\n",
    "\n",
    "# Perform RandomizedSearchCV\n",
    "gsv_lda2 = GridSearchCV(pipeline, params, scoring = accuracy, n_jobs = 3)\n",
    "gsv_lda2.fit(clean_train['cleaned_text'], clean_train['author_encoded'])\n",
    "\n",
    "# Get the best score\n",
    "gsv_lda2.best_score_"
   ]
  },
  {
   "cell_type": "code",
   "execution_count": 11,
   "metadata": {},
   "outputs": [
    {
     "data": {
      "text/plain": [
       "{'tfidf__max_features': 6000,\n",
       " 'tfidf__min_df': 6,\n",
       " 'topic_model__doc_topic_prior': 0.1,\n",
       " 'topic_model__learning_decay': 0.8}"
      ]
     },
     "execution_count": 11,
     "metadata": {},
     "output_type": "execute_result"
    }
   ],
   "source": [
    "gsv_lda2.best_params_"
   ]
  },
  {
   "cell_type": "markdown",
   "metadata": {},
   "source": [
    "I will train the LDA model with the best parameter setting from the hyperparameter tunning, and get the accuracy and time complexity."
   ]
  },
  {
   "cell_type": "code",
   "execution_count": 47,
   "metadata": {},
   "outputs": [],
   "source": [
    "# Create a tfidf vectorizer using the best_params\n",
    "tfidf_lda_tuned = TfidfVectorizer(stop_words= 'english', max_df = 0.8, min_df = 6, max_features = 6000, ngram_range = (1, 2))\n",
    "\n",
    "# Fit and transform the 'cleaned_text' from 'tra' into a tfidf-matrix (document-term matrix)\n",
    "tfidf_lda_tuned.fit(tra['cleaned_text'])\n",
    "tfidf_lda_tra = tfidf_lda_tuned.transform(tra['cleaned_text'])"
   ]
  },
  {
   "cell_type": "code",
   "execution_count": 48,
   "metadata": {},
   "outputs": [
    {
     "name": "stdout",
     "output_type": "stream",
     "text": [
      "lda accuracy of training set: 0.45009271692563463\n",
      "CPU times: user 19.3 s, sys: 286 ms, total: 19.6 s\n",
      "Wall time: 21.8 s\n"
     ]
    }
   ],
   "source": [
    "%%time \n",
    "\n",
    "# Train a LDA model on the TF-IDF matrix\n",
    "lda_tuned = LatentDirichletAllocation(n_components = 3, learning_decay = 0.8, doc_topic_prior = 0.1, random_state = 8)\n",
    "lda_tuned.fit(tfidf_lda_tra)\n",
    "lda_tuned_topics = lda_tuned.transform(tfidf_lda_tra)\n",
    "\n",
    "# Get the accuracy of the LDA model\n",
    "accu_lda_tuned, lda_tuned_pred = topic_accuracy(lda_tuned_topics, tra['author_encoded'])\n",
    "print(\"lda accuracy of training set:\", accu_lda_tuned)"
   ]
  },
  {
   "cell_type": "markdown",
   "metadata": {},
   "source": [
    "The performance of LDA model improved slightly after hyperparameter tuning, the accuracy rising from 0.4069 to 0.45."
   ]
  },
  {
   "cell_type": "code",
   "execution_count": 49,
   "metadata": {},
   "outputs": [
    {
     "name": "stdout",
     "output_type": "stream",
     "text": [
      "lda_tuned accuracy on validation set: 0.4785166240409207\n"
     ]
    }
   ],
   "source": [
    "# Transform the 'cleaned_text' from 'val' into a tfidf matrix\n",
    "tfidf_lda_val = tfidf_lda_tuned.transform(val['cleaned_text'])\n",
    "\n",
    "# Get document-topic matrix\n",
    "lda_tuned_topics_val = lda_tuned.transform(tfidf_lda_val)\n",
    "\n",
    "# Get the accuracy\n",
    "accu_lda_tuned_val, lda_pred_tuned_val = topic_accuracy(lda_tuned_topics_val, val['author_encoded'])\n",
    "print(\"lda_tuned accuracy on validation set:\", accu_lda_tuned_val)\n"
   ]
  },
  {
   "cell_type": "markdown",
   "metadata": {},
   "source": [
    "3. Bert Embedding + NMF"
   ]
  },
  {
   "cell_type": "code",
   "execution_count": 64,
   "metadata": {},
   "outputs": [],
   "source": [
    "# Load bert tokenizer and bert base model\n",
    "bert_tokenizer = BertTokenizer.from_pretrained('bert-base-uncased')\n",
    "bert_model = BertModel.from_pretrained('bert-base-uncased')"
   ]
  },
  {
   "cell_type": "code",
   "execution_count": 16,
   "metadata": {},
   "outputs": [
    {
     "name": "stdout",
     "output_type": "stream",
     "text": [
      "count    15639.000000\n",
      "mean        26.749025\n",
      "std         18.810679\n",
      "min          2.000000\n",
      "25%         15.000000\n",
      "50%         23.000000\n",
      "75%         34.000000\n",
      "max        861.000000\n",
      "Name: text, dtype: float64\n",
      "\n",
      "Proportion of text length greater than 80: 0.01\n"
     ]
    }
   ],
   "source": [
    "# Check the length of text data\n",
    "print(tra.text.apply(lambda x: len(x.split())).describe()) \n",
    "print()\n",
    "\n",
    "# Check the proportion of text length greater than 80\n",
    "print('Proportion of text length greater than 80:', \n",
    "      round((tra.text.apply(lambda x: len(x.split())) > 80).sum() / len(clean_train), 3))"
   ]
  },
  {
   "cell_type": "code",
   "execution_count": 63,
   "metadata": {},
   "outputs": [],
   "source": [
    "# Define a function to extract the pooled_output of the Bert embedding\n",
    "def bert_embedding(text):\n",
    "    inputs = bert_tokenizer(text, return_tensors = 'pt', padding = True, truncation = True,\n",
    "                            add_special_tokens = True, max_length = 80)\n",
    "    outputs = bert_model(**inputs)\n",
    "\n",
    "    pooled_output = outputs.pooler_output.detach().numpy().tolist()\n",
    "    pooled = [ele for sublist in pooled_output for ele in sublist]\n",
    "\n",
    "    return pooled"
   ]
  },
  {
   "cell_type": "code",
   "execution_count": 18,
   "metadata": {},
   "outputs": [],
   "source": [
    "# Reset index of the training and validation set to ensure that the following code, which references the index, works correctly\n",
    "tra = tra.reset_index(drop = True)\n",
    "val = val.reset_index(drop = True)\n",
    "\n",
    "# Apply bert embedding on the text data of the 'tra' dataset\n",
    "pooled_output = []\n",
    "\n",
    "for i in range(tra.shape[0]):\n",
    "    pooled = bert_embedding(tra['text'][i])\n",
    "    pooled_output.append(pooled)\n",
    "\n",
    "pooled_output_tra = pd.DataFrame(pooled_output, columns = range(768))"
   ]
  },
  {
   "cell_type": "code",
   "execution_count": 19,
   "metadata": {},
   "outputs": [],
   "source": [
    "# Apply bert embedding on the text data of the 'val' dataset\n",
    "pooled_output_val = []\n",
    "\n",
    "for i in range(val.shape[0]):\n",
    "    pooled = bert_embedding(val['text'][i])\n",
    "    pooled_output_val.append(pooled)\n",
    "\n",
    "pooled_output_val = pd.DataFrame(pooled_output_val, columns = range(768))"
   ]
  },
  {
   "cell_type": "code",
   "execution_count": null,
   "metadata": {},
   "outputs": [],
   "source": [
    "# Apply bert embedding on the text data of the test dataset\n",
    "pooled_output_test = []\n",
    "\n",
    "for i in range(clean_test.shape[0]):\n",
    "    pooled = bert_embedding(clean_test['text'][i])\n",
    "    pooled_output_test.append(pooled)\n",
    "\n",
    "pooled_output_test = pd.DataFrame(pooled_output_test, columns = range(768))"
   ]
  },
  {
   "cell_type": "code",
   "execution_count": null,
   "metadata": {},
   "outputs": [],
   "source": [
    "# Shift pooled_output_tra by + 1 to make it non-negative\n",
    "pooled_output_tra = pooled_output_tra + 1\n",
    "pooled_output_val = pooled_output_val + 1\n",
    "pooled_output_test = pooled_output_test + 1"
   ]
  },
  {
   "cell_type": "code",
   "execution_count": null,
   "metadata": {},
   "outputs": [],
   "source": [
    "# Save 'pooled_output_tra' and 'pooled_output_val'\n",
    "pooled_output_tra.to_csv('pooled_output_tra.csv', index= False)\n",
    "pooled_output_val.to_csv('pooled_output_val.csv', index = False)\n",
    "pooled_output_test.to_csv('pooled_output_test.csv', index= False)"
   ]
  },
  {
   "cell_type": "code",
   "execution_count": 23,
   "metadata": {},
   "outputs": [
    {
     "name": "stdout",
     "output_type": "stream",
     "text": [
      "The accuracy of the nmf model is 0.3759831191252638\n",
      "CPU times: user 29.4 s, sys: 973 ms, total: 30.4 s\n",
      "Wall time: 18.5 s\n"
     ]
    }
   ],
   "source": [
    "%%time \n",
    "\n",
    "# Train a NMF on the Bert Embedding\n",
    "nmf_bert = NMF(n_components= 3, max_iter = 2000, random_state = 36)\n",
    "nmf_bert.fit(pooled_output_tra)\n",
    "w_bert = nmf_bert.transform(pooled_output_tra)\n",
    "\n",
    "# Get accuracy score\n",
    "accu_nmf_bert, nmf_pred_bert = topic_accuracy(w_bert, tra['author_encoded'])\n",
    "print(\"The accuracy of the nmf model is\", accu_nmf_bert)"
   ]
  },
  {
   "cell_type": "code",
   "execution_count": 15,
   "metadata": {},
   "outputs": [],
   "source": [
    "# Define a scoring function for GridSearchCV\n",
    "def accuracy_bert(estimator, X, y):\n",
    "    w = estimator.transform(X)\n",
    "    accu, y_pred = topic_accuracy(w, y)\n",
    "    return accu"
   ]
  },
  {
   "cell_type": "code",
   "execution_count": 206,
   "metadata": {},
   "outputs": [
    {
     "name": "stderr",
     "output_type": "stream",
     "text": [
      "/Library/Frameworks/Python.framework/Versions/3.12/lib/python3.12/site-packages/sklearn/decomposition/_nmf.py:1759: ConvergenceWarning: Maximum number of iterations 2000 reached. Increase it to improve convergence.\n",
      "  warnings.warn(\n",
      "/Library/Frameworks/Python.framework/Versions/3.12/lib/python3.12/site-packages/sklearn/decomposition/_nmf.py:1759: ConvergenceWarning: Maximum number of iterations 2000 reached. Increase it to improve convergence.\n",
      "  warnings.warn(\n",
      "/Library/Frameworks/Python.framework/Versions/3.12/lib/python3.12/site-packages/sklearn/decomposition/_nmf.py:1759: ConvergenceWarning: Maximum number of iterations 2000 reached. Increase it to improve convergence.\n",
      "  warnings.warn(\n"
     ]
    },
    {
     "data": {
      "text/plain": [
       "0.3819830173019217"
      ]
     },
     "execution_count": 206,
     "metadata": {},
     "output_type": "execute_result"
    }
   ],
   "source": [
    "# Tune hyperparameter of the NMF model with solver 'cd'\n",
    "params = {\n",
    "    'init': ['random', 'nndsvd', 'nndsvda']\n",
    "}\n",
    "\n",
    "gsv_bert_nmf = GridSearchCV(estimator = NMF(n_components= 3, max_iter = 2000, random_state = 16),\n",
    "                            param_grid = params, scoring = accuracy_bert, cv = 3, n_jobs = -1)\n",
    "gsv_bert_nmf.fit(pooled_output_tra, tra['author_encoded'])\n",
    "gsv_bert_nmf.best_score_"
   ]
  },
  {
   "cell_type": "code",
   "execution_count": 26,
   "metadata": {},
   "outputs": [
    {
     "data": {
      "text/plain": [
       "0.3877485772747618"
      ]
     },
     "execution_count": 26,
     "metadata": {},
     "output_type": "execute_result"
    }
   ],
   "source": [
    "# Tune hyperparameter of the NMF model with solver 'mu'\n",
    "params = {\n",
    "    'init': ['nndsvda', 'nndsvdar'],\n",
    "    'beta_loss': ['frobenius', 'kullback-leibler']\n",
    "}\n",
    "\n",
    "bert_nmf_mu = GridSearchCV(estimator = NMF(n_components= 3, solver = 'mu', max_iter = 2000, random_state = 16),\n",
    "                            param_grid = params, scoring = accuracy_bert, cv = 3, n_jobs = 3)\n",
    "bert_nmf_mu.fit(pooled_output_tra, tra['author_encoded'])\n",
    "bert_nmf_mu.best_score_"
   ]
  },
  {
   "cell_type": "code",
   "execution_count": 208,
   "metadata": {},
   "outputs": [
    {
     "data": {
      "text/plain": [
       "{'beta_loss': 'kullback-leibler', 'init': 'nndsvdar'}"
      ]
     },
     "execution_count": 208,
     "metadata": {},
     "output_type": "execute_result"
    }
   ],
   "source": [
    "bert_nmf_mu.best_params_"
   ]
  },
  {
   "cell_type": "code",
   "execution_count": null,
   "metadata": {},
   "outputs": [
    {
     "name": "stdout",
     "output_type": "stream",
     "text": [
      "The accuracy of the nmf model is 0.38723703561608797\n",
      "CPU times: user 4min 26s, sys: 55.3 s, total: 5min 21s\n",
      "Wall time: 3min 9s\n"
     ]
    }
   ],
   "source": [
    "%%time \n",
    "\n",
    "# Train a NMF with solver of 'mu' on the pooled_output_tra\n",
    "nmf_bert_mu = NMF(n_components= 3, solver = 'mu', init = 'nndsvdar', beta_loss = 'kullback-leibler', max_iter = 2000, random_state = 8)\n",
    "nmf_bert_mu.fit(pooled_output_tra)\n",
    "w_bert_mu = nmf_bert_mu.transform(pooled_output_tra)\n",
    "\n",
    "# Get accuracy score\n",
    "accu_nmf_bert_mu, nmf_pred_bert_mu = topic_accuracy(w_bert_mu, tra['author_encoded'])\n",
    "print(\"The accuracy of the nmf model is\", accu_nmf_bert_mu)"
   ]
  },
  {
   "cell_type": "code",
   "execution_count": null,
   "metadata": {},
   "outputs": [
    {
     "name": "stdout",
     "output_type": "stream",
     "text": [
      "The test accuracy of nmf_bert_mu is 0.3867007672634271\n"
     ]
    }
   ],
   "source": [
    "# Transform pooled_output_val to W matrix\n",
    "w_bert_mu_val = nmf_bert_mu.transform(pooled_output_val)\n",
    "\n",
    "# Get test accuracy \n",
    "accu_nmf_bert_val, nmf_pred_bert_mu = topic_accuracy(w_bert_mu_val, val['author_encoded'])\n",
    "print(\"The test accuracy of nmf_bert_mu is\", accu_nmf_bert_val)"
   ]
  },
  {
   "cell_type": "markdown",
   "metadata": {},
   "source": [
    "The NMF model trained on BERT embeddings performs much worse than the one trained on the TF-IDF matrix in terms of accuracy. "
   ]
  },
  {
   "cell_type": "markdown",
   "metadata": {},
   "source": [
    "The models' performance doesn't improve much with the first two potential solutions I proposed at the end of the EDA section, especially not with BERT Embedding. Results are shown below:\n",
    "\n",
    "**Agglomerative clustering vs. LDA vs. NMF**\n",
    "| Model | Train Accuracy | Wall time | Description |\n",
    "| :-: | :-: | :-: |  :-  |\n",
    "| clustering | 0.3995 | 22mins 36s | Agglomerative clustering trained on TF-IDF |\n",
    "| nmf_base | 0.3959 | 357 ms | NMF trained on TF-IDF |\n",
    "| lda | 0.4069 | 47 s | LDA trained on TF-IDF |\n",
    "\n",
    "**Tuned LDA and NMF Model**\n",
    "| Model | Train Accuracy | Wall time | Test Accuracy | Description |\n",
    "| :-: | :-: | :-: |  :-:  |  :-  |\n",
    "| nmf_tuned | 0.4782 | 6.98 s | 0.4793 | NMF trained on TF-IDF with tuned hyperparameter |  \n",
    "| lda_tuned | 0.4501 | 22.7 s | 0.4785 | LDA  trained on TF-IDF with tuned hyperparameter |    \n",
    "\n",
    "**NMF trained on BERT Embedding**\n",
    "| Model | Train Accuracy | Wall time | Description |\n",
    "| :-: | :-: | :-: |  :-  |\n",
    "| nmf_bert | 0.376 | 18.5 s | NMF trained on BERT embeddings with default parameter setting |\n",
    "| nmf_bert_mu | 0.3872 | 3min 29s | NMF trained on BERT embeddings with tuned hyperparameter |   \n",
    "\n",
    "Interestingly, although the train accuracy of the lda_tuned model is lower than that of the nmf_tuned model, their test accuracy is very close to each other. \n",
    " \n",
    "The results above indicate that the first two potential solutions proposed at the end of the EDA section did not yield significant improvements. Next, I will explore a third approach: building a hybrid model that combines unsupervised and supervised learning techniques."
   ]
  },
  {
   "cell_type": "markdown",
   "metadata": {},
   "source": [
    "#### Hybrid model\n",
    "\n",
    "Building the hybrid model involves two stages:\n",
    "\n",
    "**Stage One**: Using unsupervised models for topic modeling and feature extraction. Specifically, I trained NMF and LDA models on the TF-IDF matrix for topic modeling and applied PCA on BERT embeddings to extract features that explain 95% of the total variance.  \n",
    "  \n",
    "**Stage Two**: Training supervised models on the hybrid feature matrix created by combining the outputs from Stage One (topic distributions and principal components) for classification.\n",
    "\n",
    "1. Document-topic matrices with n_components = 3"
   ]
  },
  {
   "cell_type": "code",
   "execution_count": null,
   "metadata": {},
   "outputs": [],
   "source": [
    "# Reduce the dimension of BERT Embedding using PCA\n",
    "pca = PCA(n_components= 0.95).fit(pooled_output_tra)\n",
    "tra_pca = pca.transform(pooled_output_tra)\n",
    "val_pca = pca.transform(pooled_output_val)"
   ]
  },
  {
   "cell_type": "code",
   "execution_count": 107,
   "metadata": {},
   "outputs": [
    {
     "data": {
      "text/plain": [
       "(15639, 30)"
      ]
     },
     "execution_count": 107,
     "metadata": {},
     "output_type": "execute_result"
    }
   ],
   "source": [
    "tra_pca.shape"
   ]
  },
  {
   "cell_type": "code",
   "execution_count": 108,
   "metadata": {},
   "outputs": [
    {
     "data": {
      "text/plain": [
       "0.7051150895140665"
      ]
     },
     "execution_count": 108,
     "metadata": {},
     "output_type": "execute_result"
    }
   ],
   "source": [
    "# Concatenate two doc-topic matrices from NMF and LDA, and the dimensional reduced BERT Embedding into one\n",
    "doc_topic_tra = np.concatenate((w_tuned, lda_tuned_topics, tra_pca), axis = 1)\n",
    "\n",
    "# Concatenate two doc-topic matrices from validation set into one\n",
    "doc_topic_val = np.concatenate((w_tuned_val, lda_tuned_topics_val, val_pca), axis = 1)\n",
    "\n",
    "# Train a random forest on the w matrix\n",
    "rf = RandomForestClassifier(class_weight = 'balanced', random_state = 42)\n",
    "rf.fit(doc_topic_tra, tra['author_encoded'])\n",
    "accuracy_score(val['author_encoded'], rf.predict(doc_topic_val))"
   ]
  },
  {
   "cell_type": "markdown",
   "metadata": {},
   "source": [
    "I first trained a Random Forest model on the hybrid feature matrix, where the number of components (n_components) in the NMF and LDA models was set to 3. The hybrid matrix was created using the document-topic matrices generated by the tuned NMF (nmf_tuned) and LDA (lda_tuned) models, along with the dimensionality reduced BERT Embedding, as mentioned above.   \n",
    "  \n",
    "The test accuracy is 0.7051, representing a significant improvement compared to the accuracy of the unsupervised models alone.  "
   ]
  },
  {
   "cell_type": "markdown",
   "metadata": {},
   "source": [
    "2. Experiment with various numbers of components  \n",
    "\n",
    "The low accuracy of the unsupervised models suggests that they struggled to distinguish between the three authors based on their writing, indicating that the differences in their writing and vocabulary usage are not pronounced. This is unsurprising, as all their writings belong to the same genre: horror stories. I’m wondering if there are some underlying topics within the text that could be used to identify the authors.\n",
    "\n",
    "To explore this, I plan to experimente with a range of different numbers of components, spanning from 3 to 20. However, iterating through all combinations of different n values across the three models will take a long time. To improve efficiency and achieve a relatively good result, I decided to run a few iterations with random combinations, similar to how RandomizedSearchCV works."
   ]
  },
  {
   "cell_type": "code",
   "execution_count": null,
   "metadata": {},
   "outputs": [],
   "source": [
    "train_accu_0 = []\n",
    "test_accu_0 = []\n",
    "num_comps_0 = []\n",
    "\n",
    "for i in range(30):\n",
    "    # Get w-matrix from NMF model trained on TF-IDF \n",
    "    nmf_comp = np.random.randint(3, 20)\n",
    "    nmf = NMF(n_components = nmf_comp, init = 'nndsvda', max_iter = 2000, solver = 'mu', beta_loss = 'kullback-leibler', random_state = 8)\n",
    "    nmf.fit(tfidf_tuned_mx_tra)\n",
    "    w_tra = nmf.transform(tfidf_tuned_mx_tra)\n",
    "    w_val = nmf.transform(tfidf_tuned_mx_val)\n",
    "\n",
    "    # Get doc-topic matrix from LDA model\n",
    "    lda_comp = np.random.randint(3, 20)\n",
    "    lda = LatentDirichletAllocation(n_components = lda_comp, learning_decay = 0.8, doc_topic_prior = 0.1, random_state = 8)\n",
    "    lda.fit(tfidf_lda_tra)\n",
    "    lda_topics_tra = lda.transform(tfidf_lda_tra)\n",
    "    lda_topics_val = lda.transform(tfidf_lda_val)\n",
    "\n",
    "    # Concatenate the doc-topic matrices and the dimensional reduced BERT Embedding\n",
    "    dt_tra = np.concatenate((w_tra, lda_topics_tra, tra_pca), axis = 1)\n",
    "    dt_val = np.concatenate((w_val, lda_topics_val, val_pca), axis = 1)\n",
    "\n",
    "    # Train a random forest on dt_tra\n",
    "    rf = RandomForestClassifier(class_weight = 'balanced', n_jobs = 3, random_state = 42)\n",
    "    rf.fit(dt_tra, tra['author_encoded'])\n",
    "    train_accuracy = accuracy_score(tra['author_encoded'], rf.predict(dt_tra))\n",
    "    test_accuracy = accuracy_score(val['author_encoded'], rf.predict(dt_val))\n",
    "\n",
    "    train_accu_0.append(train_accuracy)\n",
    "    test_accu_0.append(test_accuracy)\n",
    "    num_comps_0.append((nmf_comp, lda_comp))\n"
   ]
  },
  {
   "cell_type": "code",
   "execution_count": 84,
   "metadata": {},
   "outputs": [
    {
     "name": "stdout",
     "output_type": "stream",
     "text": [
      "Top 5:\n",
      "   n_components  train_accuracy  test_accuracy\n",
      "6        (9, 3)             1.0       0.729412\n",
      "13      (10, 3)             1.0       0.724808\n",
      "9       (10, 6)             1.0       0.722251\n",
      "4       (14, 9)             1.0       0.721995\n",
      "12      (14, 7)             1.0       0.721483\n",
      "Last 5:\n",
      "   n_components  train_accuracy  test_accuracy\n",
      "21       (6, 7)             1.0       0.704348\n",
      "22     (18, 13)             1.0       0.704092\n",
      "16       (7, 9)             1.0       0.704092\n",
      "18       (4, 3)             1.0       0.703836\n",
      "26     (19, 12)             1.0       0.699233\n"
     ]
    }
   ],
   "source": [
    "accu_df = pd.DataFrame({\n",
    "    'n_components': num_comps_0,\n",
    "    'train_accuracy': train_accu_0,\n",
    "    'test_accuracy': test_accu_0\n",
    "})\n",
    "\n",
    "accu_df.sort_values(by = 'test_accuracy', ascending = False, inplace = True)\n",
    "\n",
    "print('Top 5:')\n",
    "print(accu_df.head())\n",
    "print('Last 5:')\n",
    "print(accu_df.tail())"
   ]
  },
  {
   "cell_type": "code",
   "execution_count": null,
   "metadata": {},
   "outputs": [],
   "source": [
    "for i in range(30):\n",
    "    # Get w-matrix from NMF model trained on TF-IDF \n",
    "    nmf_comp = np.random.randint(8, 15)\n",
    "    nmf = NMF(n_components = nmf_comp, init = 'nndsvda', max_iter = 2000, solver = 'mu', beta_loss = 'kullback-leibler', random_state = 8)\n",
    "    nmf.fit(tfidf_tuned_mx_tra)\n",
    "    w_tra = nmf.transform(tfidf_tuned_mx_tra)\n",
    "    w_val = nmf.transform(tfidf_tuned_mx_val)\n",
    "\n",
    "    # Get doc-topic matrix from LDA model\n",
    "    lda_comp = np.random.randint(3, 11)\n",
    "    lda = LatentDirichletAllocation(n_components = lda_comp, learning_decay = 0.8, doc_topic_prior = 0.1, random_state = 8)\n",
    "    lda.fit(tfidf_lda_tra)\n",
    "    lda_topics_tra = lda.transform(tfidf_lda_tra)\n",
    "    lda_topics_val = lda.transform(tfidf_lda_val)\n",
    "\n",
    "    # Concatenate the doc-topic matrices and the dimensional reduced BERT Embedding\n",
    "    dt_tra = np.concatenate((w_tra, lda_topics_tra, tra_pca), axis = 1)\n",
    "    dt_val = np.concatenate((w_val, lda_topics_val, val_pca), axis = 1)\n",
    "\n",
    "    # Train a random forest on dt_tra\n",
    "    rf = RandomForestClassifier(class_weight = 'balanced', n_jobs = 3, random_state = 42)\n",
    "    rf.fit(dt_tra, tra['author_encoded'])\n",
    "    train_accuracy = accuracy_score(tra['author_encoded'], rf.predict(dt_tra))\n",
    "    test_accuracy = accuracy_score(val['author_encoded'], rf.predict(dt_val))\n",
    "\n",
    "    train_accu_0.append(train_accuracy)\n",
    "    test_accu_0.append(test_accuracy)\n",
    "    num_comps_0.append((nmf_comp, lda_comp))"
   ]
  },
  {
   "cell_type": "code",
   "execution_count": 96,
   "metadata": {},
   "outputs": [
    {
     "name": "stdout",
     "output_type": "stream",
     "text": [
      "Top 5:\n",
      "   n_components  train_accuracy  test_accuracy\n",
      "6        (9, 3)             1.0       0.729412\n",
      "41      (10, 5)             1.0       0.727366\n",
      "42       (8, 6)             1.0       0.725320\n",
      "13      (10, 3)             1.0       0.724808\n",
      "52       (9, 7)             1.0       0.724041\n",
      "Last 5:\n",
      "   n_components  train_accuracy  test_accuracy\n",
      "21       (6, 7)             1.0       0.704348\n",
      "16       (7, 9)             1.0       0.704092\n",
      "22     (18, 13)             1.0       0.704092\n",
      "18       (4, 3)             1.0       0.703836\n",
      "26     (19, 12)             1.0       0.699233\n"
     ]
    }
   ],
   "source": [
    "accu_df = pd.DataFrame({\n",
    "    'n_components': num_comps_0,\n",
    "    'train_accuracy': train_accu_0,\n",
    "    'test_accuracy': test_accu_0\n",
    "})\n",
    "\n",
    "accu_df.sort_values(by = 'test_accuracy', ascending = False, inplace = True)\n",
    "accu_df.drop_duplicates(subset = ['n_components'], inplace = True)\n",
    "\n",
    "print('Top 5:')\n",
    "print(accu_df.head())\n",
    "print('Last 5:')\n",
    "print(accu_df.tail())"
   ]
  },
  {
   "cell_type": "code",
   "execution_count": null,
   "metadata": {},
   "outputs": [],
   "source": [
    "for i in [8, 9, 10]:\n",
    "    for j in range(3, 9):\n",
    "        # Get w-matrix from NMF model trained on TF-IDF \n",
    "        nmf = NMF(n_components = i, init = 'nndsvda', max_iter = 2000, solver = 'mu', beta_loss = 'kullback-leibler', random_state = 8)\n",
    "        nmf.fit(tfidf_tuned_mx_tra)\n",
    "        w_tra = nmf.transform(tfidf_tuned_mx_tra)\n",
    "        w_val = nmf.transform(tfidf_tuned_mx_val)\n",
    "\n",
    "        # Get doc-topic matrix from LDA model\n",
    "        lda = LatentDirichletAllocation(n_components = j, learning_decay = 0.8, doc_topic_prior = 0.1, random_state = 8)\n",
    "        lda.fit(tfidf_lda_tra)\n",
    "        lda_topics_tra = lda.transform(tfidf_lda_tra)\n",
    "        lda_topics_val = lda.transform(tfidf_lda_val)\n",
    "\n",
    "        # Concatenate the doc-topic matrices and the dimensional reduced BERT Embedding\n",
    "        dt_tra = np.concatenate((w_tra, lda_topics_tra, tra_pca), axis = 1)\n",
    "        dt_val = np.concatenate((w_val, lda_topics_val, val_pca), axis = 1)\n",
    "\n",
    "        # Train a random forest on dt_tra\n",
    "        rf = RandomForestClassifier(class_weight = 'balanced', n_jobs = 3, random_state = 42)\n",
    "        rf.fit(dt_tra, tra['author_encoded'])\n",
    "        train_accuracy = accuracy_score(tra['author_encoded'], rf.predict(dt_tra))\n",
    "        test_accuracy = accuracy_score(val['author_encoded'], rf.predict(dt_val))\n",
    "\n",
    "        train_accu_0.append(train_accuracy)\n",
    "        test_accu_0.append(test_accuracy)\n",
    "        num_comps_0.append((i, j))"
   ]
  },
  {
   "cell_type": "code",
   "execution_count": 98,
   "metadata": {},
   "outputs": [
    {
     "name": "stdout",
     "output_type": "stream",
     "text": [
      "Top 5:\n",
      "   n_components  train_accuracy  test_accuracy\n",
      "62       (8, 5)             1.0       0.732737\n",
      "61       (8, 4)             1.0       0.732225\n",
      "64       (8, 7)             1.0       0.729668\n",
      "6        (9, 3)             1.0       0.729412\n",
      "65       (8, 8)             1.0       0.727877\n",
      "Last 5:\n",
      "   n_components  train_accuracy  test_accuracy\n",
      "21       (6, 7)             1.0       0.704348\n",
      "16       (7, 9)             1.0       0.704092\n",
      "22     (18, 13)             1.0       0.704092\n",
      "18       (4, 3)             1.0       0.703836\n",
      "26     (19, 12)             1.0       0.699233\n"
     ]
    }
   ],
   "source": [
    "accu_df = pd.DataFrame({\n",
    "    'n_components': num_comps_0,\n",
    "    'train_accuracy': train_accu_0,\n",
    "    'test_accuracy': test_accu_0\n",
    "})\n",
    "\n",
    "accu_df.sort_values(by = 'test_accuracy', ascending = False, inplace = True)\n",
    "accu_df.drop_duplicates(subset = ['n_components'], inplace = True)\n",
    "\n",
    "print('Top 5:')\n",
    "print(accu_df.head())\n",
    "print('Last 5:')\n",
    "print(accu_df.tail())"
   ]
  },
  {
   "cell_type": "markdown",
   "metadata": {},
   "source": [
    "The best test accuracy of the Hybrid model with random forest is 0.7327 when the number of components for the NMF and LDA model are 8 and 5, respectively. I will extract the document-topic matrices from the two models using these corresponding settings for n_components."
   ]
  },
  {
   "cell_type": "code",
   "execution_count": null,
   "metadata": {},
   "outputs": [
    {
     "name": "stdout",
     "output_type": "stream",
     "text": [
      "1.0 0.7327365728900256\n"
     ]
    }
   ],
   "source": [
    "# Get w-matrix from NMF model \n",
    "nmf = NMF(n_components = 8, solver = 'mu', init = 'nndsvda', max_iter = 2000, beta_loss = 'kullback-leibler', random_state = 8)\n",
    "nmf.fit(tfidf_tuned_mx_tra)\n",
    "w_tra = nmf.transform(tfidf_tuned_mx_tra)\n",
    "w_val = nmf.transform(tfidf_tuned_mx_val)\n",
    "\n",
    "# Get doc-topic matrix from LDA model\n",
    "lda = LatentDirichletAllocation(n_components = 5, learning_decay = 0.8, doc_topic_prior = 0.1, random_state = 8)\n",
    "lda.fit(tfidf_lda_tra)\n",
    "lda_topics_tra = lda.transform(tfidf_lda_tra)\n",
    "lda_topics_val = lda.transform(tfidf_lda_val)\n",
    "\n",
    "# Concatenate doc-topic matrices and the dimensional reduced BERT Embedding\n",
    "dt_tra3 = np.concatenate((w_tra, lda_topics_tra, tra_pca), axis = 1)\n",
    "dt_val3 = np.concatenate((w_val, lda_topics_val, val_pca), axis = 1)\n",
    "\n",
    "# Train a random forest on dt_tra3\n",
    "rf = RandomForestClassifier(class_weight = 'balanced', n_jobs = 3, random_state = 42)\n",
    "rf.fit(dt_tra3, tra['author_encoded'])\n",
    "train_accuracy = accuracy_score(tra['author_encoded'], rf.predict(dt_tra3))\n",
    "test_accuracy = accuracy_score(val['author_encoded'], rf.predict(dt_val3))\n",
    "\n",
    "print(train_accuracy, test_accuracy)"
   ]
  },
  {
   "cell_type": "markdown",
   "metadata": {},
   "source": [
    "I will train XGBoost, LightGBM and CatBoost on dt_tra3 and get the accuracy on validation set."
   ]
  },
  {
   "cell_type": "code",
   "execution_count": 125,
   "metadata": {},
   "outputs": [
    {
     "name": "stdout",
     "output_type": "stream",
     "text": [
      "Train accuracy of XGBoost: 0.9900249376558603\n",
      "Test Accuracy of XGBoost: 0.7501278772378517\n"
     ]
    }
   ],
   "source": [
    "# Train a XGBoost on dt_tra3\n",
    "sample_weights = compute_sample_weight(class_weight = 'balanced', y = tra['author_encoded'])\n",
    "xgb = XGBClassifier(objective = 'multi:softmax', num_class = 3, random_state = 42)\n",
    "xgb.fit(dt_tra3, tra['author_encoded'], sample_weight = sample_weights)\n",
    "\n",
    "# Get accuracy score\n",
    "print('Train accuracy of XGBoost:', accuracy_score(tra['author_encoded'], xgb.predict(dt_tra3)))\n",
    "print('Test Accuracy of XGBoost:', accuracy_score(val['author_encoded'], xgb.predict(dt_val3)))"
   ]
  },
  {
   "cell_type": "code",
   "execution_count": 124,
   "metadata": {},
   "outputs": [
    {
     "name": "stdout",
     "output_type": "stream",
     "text": [
      "Train accuracy of lgb: 0.8997378348999296\n",
      "Test Accuracy of lgb: 0.7521739130434782\n"
     ]
    }
   ],
   "source": [
    "# Train a LightGBM on dt_tra3\n",
    "lgb = LGBMClassifier(objective = 'multiclass', class_weight = 'balanced', num_class = 3, verbose = 0, random_state = 42)\n",
    "lgb.fit(dt_tra3, tra['author_encoded'])\n",
    "\n",
    "# Get accuracy score\n",
    "print('Train accuracy of lgb:', accuracy_score(tra['author_encoded'], lgb.predict(dt_tra3)))\n",
    "print('Test Accuracy of lgb:', accuracy_score(val['author_encoded'], lgb.predict(dt_val3)))"
   ]
  },
  {
   "cell_type": "code",
   "execution_count": 126,
   "metadata": {},
   "outputs": [
    {
     "name": "stdout",
     "output_type": "stream",
     "text": [
      "Train accuracy of cb: 0.9394462561544856\n",
      "Test Accuracy of cb: 0.7529411764705882\n"
     ]
    }
   ],
   "source": [
    "# Train a CatBoost on dt_tra3\n",
    "classes = np.unique(tra['author_encoded'])\n",
    "weights = compute_class_weight(class_weight = 'balanced', classes = classes, y = tra['author_encoded'])\n",
    "class_weights = dict(zip(classes, weights))\n",
    "\n",
    "cb = CatBoostClassifier(loss_function = 'MultiClass', class_weights = class_weights, silent = True)\n",
    "cb.fit(dt_tra3, tra['author_encoded'])\n",
    "\n",
    "print('Train accuracy of cb:', accuracy_score(tra['author_encoded'], cb.predict(dt_tra3)))\n",
    "print('Test Accuracy of cb:', accuracy_score(val['author_encoded'], cb.predict(dt_val3)))"
   ]
  },
  {
   "cell_type": "markdown",
   "metadata": {},
   "source": [
    "The result of the four Hybrid models training on 'dt_tra3' is as following:\n",
    "\n",
    "| Model | Train Accuracy | Test Accuracy |\n",
    "| :-: | :-: | :-: |\n",
    "| Random Forest | 1 | 0.7327 |\n",
    "| XGBoost | 0.9929 | 0.7501 | \n",
    "| LightGBM | 0.8997 | 0.7522 |\n",
    "| CatBoost | 0.9394 | 0.7529 |  "
   ]
  },
  {
   "cell_type": "markdown",
   "metadata": {},
   "source": [
    "3. Include linguistic features to the hybrid feature matrix\n",
    "\n",
    "Now I will reintroduce the linguistic features into the training process to evaluate whether they improve the performance of the classification models."
   ]
  },
  {
   "cell_type": "code",
   "execution_count": 101,
   "metadata": {},
   "outputs": [
    {
     "name": "stdout",
     "output_type": "stream",
     "text": [
      "<class 'pandas.core.frame.DataFrame'>\n",
      "RangeIndex: 15639 entries, 0 to 15638\n",
      "Data columns (total 52 columns):\n",
      " #   Column       Non-Null Count  Dtype  \n",
      "---  ------       --------------  -----  \n",
      " 0   topic_nmf0   15639 non-null  float64\n",
      " 1   topic_nmf1   15639 non-null  float64\n",
      " 2   topic_nmf2   15639 non-null  float64\n",
      " 3   topic_nmf3   15639 non-null  float64\n",
      " 4   topic_nmf4   15639 non-null  float64\n",
      " 5   topic_nmf5   15639 non-null  float64\n",
      " 6   topic_nmf6   15639 non-null  float64\n",
      " 7   topic_nmf7   15639 non-null  float64\n",
      " 8   topic_lda0   15639 non-null  float64\n",
      " 9   topic_lda1   15639 non-null  float64\n",
      " 10  topic_lda2   15639 non-null  float64\n",
      " 11  topic_lda3   15639 non-null  float64\n",
      " 12  topic_lda4   15639 non-null  float64\n",
      " 13  bert_pca0    15639 non-null  float64\n",
      " 14  bert_pca1    15639 non-null  float64\n",
      " 15  bert_pca2    15639 non-null  float64\n",
      " 16  bert_pca3    15639 non-null  float64\n",
      " 17  bert_pca4    15639 non-null  float64\n",
      " 18  bert_pca5    15639 non-null  float64\n",
      " 19  bert_pca6    15639 non-null  float64\n",
      " 20  bert_pca7    15639 non-null  float64\n",
      " 21  bert_pca8    15639 non-null  float64\n",
      " 22  bert_pca9    15639 non-null  float64\n",
      " 23  bert_pca10   15639 non-null  float64\n",
      " 24  bert_pca11   15639 non-null  float64\n",
      " 25  bert_pca12   15639 non-null  float64\n",
      " 26  bert_pca13   15639 non-null  float64\n",
      " 27  bert_pca14   15639 non-null  float64\n",
      " 28  bert_pca15   15639 non-null  float64\n",
      " 29  bert_pca16   15639 non-null  float64\n",
      " 30  bert_pca17   15639 non-null  float64\n",
      " 31  bert_pca18   15639 non-null  float64\n",
      " 32  bert_pca19   15639 non-null  float64\n",
      " 33  bert_pca20   15639 non-null  float64\n",
      " 34  bert_pca21   15639 non-null  float64\n",
      " 35  bert_pca22   15639 non-null  float64\n",
      " 36  bert_pca23   15639 non-null  float64\n",
      " 37  bert_pca24   15639 non-null  float64\n",
      " 38  bert_pca25   15639 non-null  float64\n",
      " 39  bert_pca26   15639 non-null  float64\n",
      " 40  bert_pca27   15639 non-null  float64\n",
      " 41  bert_pca28   15639 non-null  float64\n",
      " 42  bert_pca29   15639 non-null  float64\n",
      " 43  gunning_fog  15639 non-null  float64\n",
      " 44  sent_len     15639 non-null  float64\n",
      " 45  word_len     15639 non-null  float64\n",
      " 46  noun_freq    15639 non-null  float64\n",
      " 47  verb_freq    15639 non-null  float64\n",
      " 48  adj_freq     15639 non-null  float64\n",
      " 49  adv_freq     15639 non-null  float64\n",
      " 50  funct_word   15639 non-null  float64\n",
      " 51  type_token   15639 non-null  float64\n",
      "dtypes: float64(52)\n",
      "memory usage: 6.2 MB\n"
     ]
    }
   ],
   "source": [
    "# Convert dt_tra3 into a data frame\n",
    "dt_tra = pd.DataFrame(dt_tra3, columns = [f'topic_nmf{i}' for i in range(8)] + [f'topic_lda{i}' for i in range(5)] + [f'bert_pca{i}' for i in range(30)])\n",
    "\n",
    "# Concatenate 'dt_tra' with linguistic features\n",
    "dt_lingu_tra = pd.concat([dt_tra, tra[['gunning_fog', 'sent_len',\n",
    "       'word_len', 'noun_freq', 'verb_freq', 'adj_freq', 'adv_freq',\n",
    "       'funct_word', 'type_token']]], axis = 1)\n",
    "\n",
    "dt_lingu_tra.info()"
   ]
  },
  {
   "cell_type": "code",
   "execution_count": 102,
   "metadata": {},
   "outputs": [
    {
     "data": {
      "text/plain": [
       "(3910, 52)"
      ]
     },
     "execution_count": 102,
     "metadata": {},
     "output_type": "execute_result"
    }
   ],
   "source": [
    "# Convert dt_val3 into a data frame\n",
    "dt_val = pd.DataFrame(dt_val3, columns = [f'topic_nmf{i}' for i in range(8)] + [f'topic_lda{i}' for i in range(5)] + [f'bert_pca{i}' for i in range(30)])\n",
    "\n",
    "# Concatenate 'dt_val' with linguistic features\n",
    "dt_lingu_val = pd.concat([dt_val, val[['gunning_fog', 'sent_len',\n",
    "       'word_len', 'noun_freq', 'verb_freq', 'adj_freq', 'adv_freq',\n",
    "       'funct_word', 'type_token']]], axis = 1)\n",
    "\n",
    "dt_lingu_val.shape"
   ]
  },
  {
   "cell_type": "code",
   "execution_count": 109,
   "metadata": {},
   "outputs": [],
   "source": [
    "# Save the dataframes\n",
    "dt_lingu_tra.to_csv('dt_lingu_tra.csv', index = False)\n",
    "dt_lingu_val.to_csv('dt_lingu_val.csv', index = False)\n",
    "tra.to_csv('tra.csv', index = False)\n",
    "val.to_csv('val.csv', index = False)"
   ]
  },
  {
   "cell_type": "code",
   "execution_count": 103,
   "metadata": {},
   "outputs": [
    {
     "name": "stdout",
     "output_type": "stream",
     "text": [
      "Train accuracy of Random Forest: 1.0\n",
      "Test Accuracy of Random Forest: 0.7301790281329923\n"
     ]
    }
   ],
   "source": [
    "# Train a random forest model on the dt_lingu_tra\n",
    "rf_dl = RandomForestClassifier(class_weight= 'balanced', random_state = 42)\n",
    "rf_dl.fit(dt_lingu_tra, tra['author_encoded'])\n",
    "\n",
    "# Get accuracy score\n",
    "print('Train accuracy of Random Forest:', accuracy_score(tra['author_encoded'], rf_dl.predict(dt_lingu_tra)))\n",
    "print('Test Accuracy of Random Forest:', accuracy_score(val['author_encoded'], rf_dl.predict(dt_lingu_val)))"
   ]
  },
  {
   "cell_type": "code",
   "execution_count": null,
   "metadata": {},
   "outputs": [
    {
     "name": "stdout",
     "output_type": "stream",
     "text": [
      "Train accuracy of XGBoost: 0.9929023594859007\n",
      "Test Accuracy of XGBoost: 0.7570332480818415\n"
     ]
    }
   ],
   "source": [
    "# Train a XGBoost on the dt_lingu_tra with sample weight adjusted\n",
    "sample_weights = compute_sample_weight(class_weight = 'balanced', y = tra['author_encoded'])\n",
    "xgb_dl = XGBClassifier(objective = 'multi:softmax', num_class = 3, random_state = 42)\n",
    "xgb_dl.fit(dt_lingu_tra, tra['author_encoded'], sample_weight = sample_weights)\n",
    "\n",
    "# Get accuracy score\n",
    "print('Train accuracy of XGBoost:', accuracy_score(tra['author_encoded'], xgb_dl.predict(dt_lingu_tra)))\n",
    "print('Test Accuracy of XGBoost:', accuracy_score(val['author_encoded'], xgb_dl.predict(dt_lingu_val)))"
   ]
  },
  {
   "cell_type": "code",
   "execution_count": null,
   "metadata": {},
   "outputs": [
    {
     "name": "stdout",
     "output_type": "stream",
     "text": [
      "Train accuracy of lgb: 0.9077306733167082\n",
      "Test Accuracy of lgb: 0.7654731457800511\n"
     ]
    }
   ],
   "source": [
    "# Train a LightGBM on the dt_lingu_tra\n",
    "lgb_dl = LGBMClassifier(objective = 'multiclass', class_weight = 'balanced', num_class = 3, verbose = 0, random_state = 42)\n",
    "lgb_dl.fit(dt_lingu_tra, tra['author_encoded'])\n",
    "\n",
    "# Get accuracy score\n",
    "print('Train accuracy of lgb:', accuracy_score(tra['author_encoded'], lgb_dl.predict(dt_lingu_tra)))\n",
    "print('Test Accuracy of lgb:', accuracy_score(val['author_encoded'], lgb_dl.predict(dt_lingu_val)))"
   ]
  },
  {
   "cell_type": "code",
   "execution_count": 106,
   "metadata": {},
   "outputs": [
    {
     "name": "stdout",
     "output_type": "stream",
     "text": [
      "Train accuracy of cb: 0.9423236779845259\n",
      "Test Accuracy of cb: 0.7624040920716113\n"
     ]
    }
   ],
   "source": [
    "# Train a CatBoost on the dt_lingu_tra\n",
    "classes = np.unique(tra['author_encoded'])\n",
    "weights = compute_class_weight(class_weight = 'balanced', classes = classes, y = tra['author_encoded'])\n",
    "class_weights = dict(zip(classes, weights))\n",
    "\n",
    "cb_dl = CatBoostClassifier(loss_function = 'MultiClass', class_weights = class_weights, silent = True)\n",
    "cb_dl.fit(dt_lingu_tra, tra['author_encoded'])\n",
    "\n",
    "print('Train accuracy of cb:', accuracy_score(tra['author_encoded'], cb_dl.predict(dt_lingu_tra)))\n",
    "print('Test Accuracy of cb:', accuracy_score(val['author_encoded'], cb_dl.predict(dt_lingu_val)))"
   ]
  },
  {
   "cell_type": "markdown",
   "metadata": {},
   "source": [
    "The test accuracies of the four models are similar, with LightGBM performing slightly better and CatBoost coming in second. The performance of three out of four models improved after including linguistic features in the training set, so I will retain the linguistic features.\n",
    "\n",
    "| Model | Train Accuracy | Test Accuracy |\n",
    "| :-: | :-: | :-: |\n",
    "| Random Forest | 1 | 0.7302 |\n",
    "| XGBoost | 0.9929 | 0.7570 | \n",
    "| LightGBM | 0.9077 | 0.7655 |\n",
    "| CatBoost | 0.9423 | 0.7624 |  \n",
    "\n",
    "  \n",
    "4. Hyperparameters tuning and ensemble\n",
    "  \n",
    " Next, I will tune the hyperparameter of these four models. But before that, let's combine 'dt_lingu_tra' and 'dt_lingu_val' into one entire training set.  \n"
   ]
  },
  {
   "cell_type": "code",
   "execution_count": 110,
   "metadata": {},
   "outputs": [],
   "source": [
    "# Combine dt_lingu_tra and dt_lingu_val into one entire training set\n",
    "dt_lingu_train = pd.concat([dt_lingu_tra, dt_lingu_val], axis = 0)\n",
    "dt_lingu_label = pd.concat([tra[['author_encoded']], val[['author_encoded']]], axis = 0)"
   ]
  },
  {
   "cell_type": "code",
   "execution_count": 111,
   "metadata": {},
   "outputs": [],
   "source": [
    "# Save dt_lingu_train and dt_lingu_label\n",
    "dt_lingu_train.to_csv('dt_lingu_train.csv', index = False)\n",
    "dt_lingu_label.to_csv('dt_lingu_label.csv', index = False)"
   ]
  },
  {
   "cell_type": "code",
   "execution_count": 112,
   "metadata": {},
   "outputs": [
    {
     "data": {
      "text/plain": [
       "0.7309839906465438"
      ]
     },
     "execution_count": 112,
     "metadata": {},
     "output_type": "execute_result"
    }
   ],
   "source": [
    "# Create a parameter grid\n",
    "params = {\n",
    "    'n_estimators': [50, 100, 300, 500],\n",
    "    'max_depth': [3, 7, 10, None],\n",
    "    'min_samples_split': [2, 6, 10],\n",
    "    'min_samples_leaf': [1, 4, 7],\n",
    "    'max_samples': [0.5, 0.75, 1]\n",
    "}\n",
    "\n",
    "# Tune hyperparameter of Random Forest model\n",
    "rsv_rf0 = RandomizedSearchCV(estimator = RandomForestClassifier(class_weight = 'balanced', random_state = 8),\n",
    "                      param_distributions = params, n_iter = 30, scoring = 'accuracy', n_jobs = 3)\n",
    "rsv_rf0.fit(dt_lingu_train, dt_lingu_label['author_encoded'])\n",
    "\n",
    "# Get best score\n",
    "rsv_rf0.best_score_"
   ]
  },
  {
   "cell_type": "code",
   "execution_count": 113,
   "metadata": {},
   "outputs": [
    {
     "data": {
      "text/plain": [
       "{'n_estimators': 500,\n",
       " 'min_samples_split': 2,\n",
       " 'min_samples_leaf': 4,\n",
       " 'max_samples': 0.5,\n",
       " 'max_depth': None}"
      ]
     },
     "execution_count": 113,
     "metadata": {},
     "output_type": "execute_result"
    }
   ],
   "source": [
    "rsv_rf0.best_params_"
   ]
  },
  {
   "cell_type": "code",
   "execution_count": 114,
   "metadata": {},
   "outputs": [
    {
     "data": {
      "text/plain": [
       "0.7318536998035226"
      ]
     },
     "execution_count": 114,
     "metadata": {},
     "output_type": "execute_result"
    }
   ],
   "source": [
    "# Create a parameter grid\n",
    "params = {\n",
    "    'n_estimators': [300, 400, 500],\n",
    "    'max_depth': [4, 7, 10, None],\n",
    "    'min_samples_split': [2, 4, 6],\n",
    "    'min_samples_leaf': [2, 4, 5],\n",
    "    'max_samples': [0.5, 0.6, 0.75]\n",
    "}\n",
    "\n",
    "# Tune hyperparameter of Random Forest model\n",
    "rsv_rf1 = RandomizedSearchCV(estimator = RandomForestClassifier(class_weight = 'balanced', random_state = 8),\n",
    "                      param_distributions = params, n_iter = 50, scoring = 'accuracy', n_jobs = 3)\n",
    "rsv_rf1.fit(dt_lingu_train, dt_lingu_label['author_encoded'])\n",
    "\n",
    "# Get best score\n",
    "rsv_rf1.best_score_"
   ]
  },
  {
   "cell_type": "code",
   "execution_count": 115,
   "metadata": {},
   "outputs": [
    {
     "data": {
      "text/plain": [
       "{'n_estimators': 300,\n",
       " 'min_samples_split': 6,\n",
       " 'min_samples_leaf': 2,\n",
       " 'max_samples': 0.6,\n",
       " 'max_depth': None}"
      ]
     },
     "execution_count": 115,
     "metadata": {},
     "output_type": "execute_result"
    }
   ],
   "source": [
    "rsv_rf1.best_params_"
   ]
  },
  {
   "cell_type": "code",
   "execution_count": 116,
   "metadata": {},
   "outputs": [
    {
     "data": {
      "text/plain": [
       "0.7323652218403461"
      ]
     },
     "execution_count": 116,
     "metadata": {},
     "output_type": "execute_result"
    }
   ],
   "source": [
    "# Create a parameter grid\n",
    "params = {\n",
    "    'n_estimators': [200, 300, 400],\n",
    "    'min_samples_split': [5, 6, 7],\n",
    "    'min_samples_leaf': [1, 2, 3],\n",
    "    'max_samples': [0.5, 0.6, 0.7]\n",
    "}\n",
    "\n",
    "# Tune hyperparameter of Random Forest model\n",
    "rsv_rf2 = RandomizedSearchCV(estimator = RandomForestClassifier(class_weight = 'balanced', random_state = 8),\n",
    "                      param_distributions = params, n_iter = 30, scoring = 'accuracy', n_jobs = 3)\n",
    "rsv_rf2.fit(dt_lingu_train, dt_lingu_label['author_encoded'])\n",
    "\n",
    "# Get best score\n",
    "rsv_rf2.best_score_"
   ]
  },
  {
   "cell_type": "code",
   "execution_count": 118,
   "metadata": {},
   "outputs": [
    {
     "data": {
      "text/plain": [
       "{'n_estimators': 300,\n",
       " 'min_samples_split': 6,\n",
       " 'min_samples_leaf': 3,\n",
       " 'max_samples': 0.7}"
      ]
     },
     "execution_count": 118,
     "metadata": {},
     "output_type": "execute_result"
    }
   ],
   "source": [
    "rsv_rf2.best_params_"
   ]
  },
  {
   "cell_type": "code",
   "execution_count": 119,
   "metadata": {},
   "outputs": [
    {
     "data": {
      "text/plain": [
       "0.7331836099917627"
      ]
     },
     "execution_count": 119,
     "metadata": {},
     "output_type": "execute_result"
    }
   ],
   "source": [
    "# Create a parameter grid\n",
    "params = {\n",
    "    'n_estimators': [250, 300, 350],\n",
    "    'min_samples_leaf': [2, 3],\n",
    "    'max_samples': [0.65, 0.7, 0.75]\n",
    "}\n",
    "\n",
    "# Tune hyperparameter of Random Forest model\n",
    "gsv_rf3 = GridSearchCV(estimator = RandomForestClassifier(class_weight = 'balanced', min_samples_split = 6, random_state = 8),\n",
    "                      param_grid = params, scoring = 'accuracy', n_jobs = 3)\n",
    "gsv_rf3.fit(dt_lingu_train, dt_lingu_label['author_encoded'])\n",
    "\n",
    "# Get best score\n",
    "gsv_rf3.best_score_"
   ]
  },
  {
   "cell_type": "code",
   "execution_count": 120,
   "metadata": {},
   "outputs": [
    {
     "data": {
      "text/plain": [
       "{'max_samples': 0.7, 'min_samples_leaf': 3, 'n_estimators': 350}"
      ]
     },
     "execution_count": 120,
     "metadata": {},
     "output_type": "execute_result"
    }
   ],
   "source": [
    "gsv_rf3.best_params_"
   ]
  },
  {
   "cell_type": "code",
   "execution_count": 121,
   "metadata": {},
   "outputs": [
    {
     "name": "stdout",
     "output_type": "stream",
     "text": [
      "Train accuracy of rf_tuned: 0.9686041306988938\n",
      "Test Accuracy of rf_tuned: 0.7360613810741689\n"
     ]
    }
   ],
   "source": [
    "# Train a random forest using the best_params from the hyperparameter tuning process\n",
    "rf_tuned = RandomForestClassifier(n_estimators = 350, class_weight = 'balanced', max_samples = 0.7,\n",
    "                                  min_samples_split = 6,  min_samples_leaf = 3, random_state = 36)\n",
    "rf_tuned.fit(dt_lingu_tra, tra['author_encoded'])\n",
    "\n",
    "# Get accuracy score\n",
    "print('Train accuracy of rf_tuned:', accuracy_score(tra['author_encoded'], rf_tuned.predict(dt_lingu_tra)))\n",
    "print('Test Accuracy of rf_tuned:', accuracy_score(val['author_encoded'], rf_tuned.predict(dt_lingu_val)))"
   ]
  },
  {
   "cell_type": "markdown",
   "metadata": {},
   "source": [
    "The test accuracy of the random forest model slightly improved after hyperparameter tunning, rising from 0.7302 to 0.7360.\n",
    "\n",
    "Next, I will tune hyperparameter of the XGBoost model."
   ]
  },
  {
   "cell_type": "code",
   "execution_count": 127,
   "metadata": {},
   "outputs": [
    {
     "data": {
      "text/plain": [
       "0.7692464435472212"
      ]
     },
     "execution_count": 127,
     "metadata": {},
     "output_type": "execute_result"
    }
   ],
   "source": [
    "# Create a parameter grid\n",
    "params = {\n",
    "    'n_estimators': [100, 300, 500],\n",
    "    'learning_rate': [0.01, 0.1, 0.2],\n",
    "    'max_depth': [3, 6, 9],\n",
    "    'min_child_weight': [1, 3, 5],\n",
    "    'colsample_bytree': [0.5, 0.7, 0.9],\n",
    "    'subsample': [0.5, 0.7, 0.9],\n",
    "    'gamma': [0, 1, 3]\n",
    "}\n",
    "\n",
    "# Tune hyperparameter of XGBoost model\n",
    "rsv_xgb1 = RandomizedSearchCV(estimator = XGBClassifier(objective = 'multi:softmax', num_class = 3, random_state = 8),\n",
    "                      param_distributions = params, n_iter = 30, scoring = 'accuracy', n_jobs = 3)\n",
    "rsv_xgb1.fit(dt_lingu_train, dt_lingu_label['author_encoded'])\n",
    "\n",
    "# Get best score\n",
    "rsv_xgb1.best_score_"
   ]
  },
  {
   "cell_type": "code",
   "execution_count": 128,
   "metadata": {},
   "outputs": [
    {
     "data": {
      "text/plain": [
       "{'subsample': 0.7,\n",
       " 'n_estimators': 500,\n",
       " 'min_child_weight': 5,\n",
       " 'max_depth': 6,\n",
       " 'learning_rate': 0.1,\n",
       " 'gamma': 0,\n",
       " 'colsample_bytree': 0.5}"
      ]
     },
     "execution_count": 128,
     "metadata": {},
     "output_type": "execute_result"
    }
   ],
   "source": [
    "rsv_xgb1.best_params_"
   ]
  },
  {
   "cell_type": "code",
   "execution_count": 129,
   "metadata": {},
   "outputs": [
    {
     "data": {
      "text/plain": [
       "0.7711392098632639"
      ]
     },
     "execution_count": 129,
     "metadata": {},
     "output_type": "execute_result"
    }
   ],
   "source": [
    "# Create a parameter grid\n",
    "params = {\n",
    "    'subsample': [0.6, 0.7, 0.8],\n",
    "    'n_estimators': [300, 500, 600],\n",
    "    'min_child_weight': [3, 5, 6],  \n",
    "    'max_depth': [5, 6, 7],\n",
    "    'learning_rate': [0.05, 0.1, 0.15],\n",
    "    'gamma': [0, 0.3, 0.6],\n",
    "    'colsample_bytree': [0.4, 0.5, 0.7]\n",
    "}\n",
    "\n",
    "# Tune hyperparameter of XGBoost model\n",
    "rsv_xgb2 = RandomizedSearchCV(estimator = XGBClassifier(objective = 'multi:softmax', num_class = 3, random_state = 8),\n",
    "                      param_distributions = params, n_iter = 30, scoring = 'accuracy', n_jobs = 3)\n",
    "rsv_xgb2.fit(dt_lingu_train, dt_lingu_label['author_encoded'])\n",
    "\n",
    "# Get best score\n",
    "rsv_xgb2.best_score_"
   ]
  },
  {
   "cell_type": "code",
   "execution_count": 130,
   "metadata": {},
   "outputs": [
    {
     "data": {
      "text/plain": [
       "{'subsample': 0.8,\n",
       " 'n_estimators': 600,\n",
       " 'min_child_weight': 6,\n",
       " 'max_depth': 6,\n",
       " 'learning_rate': 0.05,\n",
       " 'gamma': 0,\n",
       " 'colsample_bytree': 0.7}"
      ]
     },
     "execution_count": 130,
     "metadata": {},
     "output_type": "execute_result"
    }
   ],
   "source": [
    "rsv_xgb2.best_params_"
   ]
  },
  {
   "cell_type": "code",
   "execution_count": 131,
   "metadata": {},
   "outputs": [
    {
     "data": {
      "text/plain": [
       "0.7722131169528774"
      ]
     },
     "execution_count": 131,
     "metadata": {},
     "output_type": "execute_result"
    }
   ],
   "source": [
    "params = {\n",
    "    'subsample': [0.7, 0.8, 0.85],\n",
    "    'n_estimators': [500, 600, 650],\n",
    "    'min_child_weight': [5, 6, 7],  \n",
    "    'learning_rate': [0.05, 0.08, 0.1],\n",
    "    'colsample_bytree': [0.5, 0.6, 0.7]\n",
    "}\n",
    "\n",
    "# Tune hyperparameter of XGBoost model\n",
    "rsv_xgb3 = RandomizedSearchCV(estimator = XGBClassifier(objective = 'multi:softmax', num_class = 3, max_depth = 6, random_state = 8),\n",
    "                      param_distributions = params, n_iter = 30, scoring = 'accuracy', n_jobs = 3)\n",
    "rsv_xgb3.fit(dt_lingu_train, dt_lingu_label['author_encoded'])\n",
    "\n",
    "# Get best score\n",
    "rsv_xgb3.best_score_"
   ]
  },
  {
   "cell_type": "code",
   "execution_count": 132,
   "metadata": {},
   "outputs": [
    {
     "data": {
      "text/plain": [
       "{'subsample': 0.85,\n",
       " 'n_estimators': 650,\n",
       " 'min_child_weight': 6,\n",
       " 'learning_rate': 0.1,\n",
       " 'colsample_bytree': 0.7}"
      ]
     },
     "execution_count": 132,
     "metadata": {},
     "output_type": "execute_result"
    }
   ],
   "source": [
    "rsv_xgb3.best_params_"
   ]
  },
  {
   "cell_type": "code",
   "execution_count": 133,
   "metadata": {},
   "outputs": [
    {
     "data": {
      "text/plain": [
       "0.7722131169528774"
      ]
     },
     "execution_count": 133,
     "metadata": {},
     "output_type": "execute_result"
    }
   ],
   "source": [
    "params = {\n",
    "    'subsample': [0.8, 0.85, 0.9],\n",
    "    'n_estimators': [600, 650, 680, 700]\n",
    "}\n",
    "\n",
    "# Tune hyperparameter of XGBoost model\n",
    "gsv_xgb4 = GridSearchCV(estimator = XGBClassifier(objective = 'multi:softmax', num_class = 3, max_depth = 6, learning_rate = 0.1,\n",
    "                                                  colsample_bytree = 0.7, min_child_weight = 6, random_state = 8),\n",
    "                      param_grid = params, scoring = 'accuracy', n_jobs = 3)\n",
    "gsv_xgb4.fit(dt_lingu_train, dt_lingu_label['author_encoded'])\n",
    "\n",
    "# Get best score\n",
    "gsv_xgb4.best_score_"
   ]
  },
  {
   "cell_type": "code",
   "execution_count": 134,
   "metadata": {},
   "outputs": [
    {
     "data": {
      "text/plain": [
       "{'n_estimators': 650, 'subsample': 0.85}"
      ]
     },
     "execution_count": 134,
     "metadata": {},
     "output_type": "execute_result"
    }
   ],
   "source": [
    "gsv_xgb4.best_params_"
   ]
  },
  {
   "cell_type": "markdown",
   "metadata": {},
   "source": [
    "The best score I got from the hyperparameter tuning on XGBoost is 0.7722. I will use the best parameters set to train a xgb_tuned model."
   ]
  },
  {
   "cell_type": "code",
   "execution_count": 138,
   "metadata": {},
   "outputs": [
    {
     "name": "stdout",
     "output_type": "stream",
     "text": [
      "Train accuracy of xgb_tuned: 1.0\n",
      "Test Accuracy of xgb_tuned: 0.7749360613810742\n"
     ]
    }
   ],
   "source": [
    "# Train a XGBoost on the dt_lingu_tra with best_params from the the RamdomizedSearchCV and GridSearchCV\n",
    "sample_weights = compute_sample_weight(class_weight = 'balanced', y = tra['author_encoded'])\n",
    "xgb_tuned = XGBClassifier(objective = 'multi:softmax', num_class = 3, n_estimators = 650, max_depth = 6, learning_rate = 0.1,\n",
    "                          subsample = 0.85, colsample_bytree = 0.7, min_child_weight = 6,  random_state = 42)\n",
    "xgb_tuned.fit(dt_lingu_tra, tra['author_encoded'], sample_weight = sample_weights)\n",
    "\n",
    "# Get accuracy score\n",
    "print('Train accuracy of xgb_tuned:', accuracy_score(tra['author_encoded'], xgb_tuned.predict(dt_lingu_tra)))\n",
    "print('Test Accuracy of xgb_tuned:', accuracy_score(val['author_encoded'], xgb_tuned.predict(dt_lingu_val)))"
   ]
  },
  {
   "cell_type": "markdown",
   "metadata": {},
   "source": [
    "The test accuracy of the XGBoost improved a bit after the tuning, rising from 0.7570 to 0.7749. But the 100% train accuracy indicates that the model is still overfitting.\n",
    "\n",
    "Now, I will tune the hyperparameter of the LightGBM."
   ]
  },
  {
   "cell_type": "code",
   "execution_count": 139,
   "metadata": {},
   "outputs": [
    {
     "data": {
      "text/plain": [
       "0.7700650410653099"
      ]
     },
     "execution_count": 139,
     "metadata": {},
     "output_type": "execute_result"
    }
   ],
   "source": [
    "# Create a parameter Grid\n",
    "params = {\n",
    "    'boosting_type': ['gbdt', 'dart'],\n",
    "    'num_leaves': [31, 50, 100],\n",
    "    'learning_rate': [0.01, 0.1, 0.2],\n",
    "    'n_estimators': [100, 300, 500],\n",
    "    'min_child_samples': [10, 20, 30],\n",
    "    'subsample': [0.5, 0.7, 0.9],\n",
    "    'colsample_bytree': [0.5, 0.7, 0.9]\n",
    "}\n",
    "\n",
    "# Tune hyperparameter of LightGBM model\n",
    "rsv_lgb1 = RandomizedSearchCV(estimator = LGBMClassifier(objective = 'multiclass', class_weight = 'balanced', num_class = 3, verbosity = -1, random_state = 8),\n",
    "                      param_distributions = params, n_iter = 30, scoring = 'accuracy', n_jobs = 3)\n",
    "rsv_lgb1.fit(dt_lingu_train, dt_lingu_label['author_encoded'])\n",
    "\n",
    "# Get best score\n",
    "rsv_lgb1.best_score_"
   ]
  },
  {
   "cell_type": "code",
   "execution_count": 140,
   "metadata": {},
   "outputs": [
    {
     "data": {
      "text/plain": [
       "{'subsample': 0.9,\n",
       " 'num_leaves': 100,\n",
       " 'n_estimators': 500,\n",
       " 'min_child_samples': 20,\n",
       " 'learning_rate': 0.1,\n",
       " 'colsample_bytree': 0.7,\n",
       " 'boosting_type': 'gbdt'}"
      ]
     },
     "execution_count": 140,
     "metadata": {},
     "output_type": "execute_result"
    }
   ],
   "source": [
    "rsv_lgb1.best_params_"
   ]
  },
  {
   "cell_type": "code",
   "execution_count": 141,
   "metadata": {},
   "outputs": [
    {
     "data": {
      "text/plain": [
       "0.7701159171666931"
      ]
     },
     "execution_count": 141,
     "metadata": {},
     "output_type": "execute_result"
    }
   ],
   "source": [
    "# Create a parameter Grid\n",
    "params = {\n",
    "    'num_leaves': [50, 80, 100],\n",
    "    'learning_rate': [0.05, 0.1, 0.15],\n",
    "    'n_estimators': [300, 400, 500],\n",
    "    'min_child_samples': [15, 20, 25],\n",
    "    'subsample': [0.7, 0.8, 0.9],\n",
    "    'colsample_bytree': [0.6, 0.7, 0.8]\n",
    "}\n",
    "\n",
    "# Tune hyperparameter of LightGBM model\n",
    "rsv_lgb2 = RandomizedSearchCV(estimator = LGBMClassifier(objective = 'multiclass', class_weight = 'balanced', num_class = 3, verbosity = -1, random_state = 8),\n",
    "                      param_distributions = params, n_iter = 30, scoring = 'accuracy', n_jobs = 3)\n",
    "rsv_lgb2.fit(dt_lingu_train, dt_lingu_label['author_encoded'])\n",
    "\n",
    "# Get best score\n",
    "rsv_lgb2.best_score_"
   ]
  },
  {
   "cell_type": "code",
   "execution_count": 142,
   "metadata": {},
   "outputs": [
    {
     "data": {
      "text/plain": [
       "{'subsample': 0.8,\n",
       " 'num_leaves': 100,\n",
       " 'n_estimators': 500,\n",
       " 'min_child_samples': 25,\n",
       " 'learning_rate': 0.15,\n",
       " 'colsample_bytree': 0.8}"
      ]
     },
     "execution_count": 142,
     "metadata": {},
     "output_type": "execute_result"
    }
   ],
   "source": [
    "rsv_lgb2.best_params_"
   ]
  },
  {
   "cell_type": "code",
   "execution_count": 143,
   "metadata": {},
   "outputs": [
    {
     "data": {
      "text/plain": [
       "0.7706787209528277"
      ]
     },
     "execution_count": 143,
     "metadata": {},
     "output_type": "execute_result"
    }
   ],
   "source": [
    "# Create a parameter Grid\n",
    "params = {\n",
    "    'num_leaves': [60, 80, 100],\n",
    "    'learning_rate': [0.1, 0.12, 0.15],\n",
    "    'n_estimators': [400, 450, 500],\n",
    "    'min_child_samples': [15, 20, 25],\n",
    "    'subsample': [0.7, 0.8, 0.9],\n",
    "    'colsample_bytree': [0.6, 0.7, 0.8]\n",
    "}\n",
    "\n",
    "# Tune hyperparameter of LightGBM model\n",
    "rsv_lgb3 = RandomizedSearchCV(estimator = LGBMClassifier(objective = 'multiclass', class_weight = 'balanced', num_class = 3, verbosity = -1, random_state = 8),\n",
    "                      param_distributions = params, n_iter = 30, scoring = 'accuracy', n_jobs = 3)\n",
    "rsv_lgb3.fit(dt_lingu_train, dt_lingu_label['author_encoded'])\n",
    "\n",
    "# Get best score\n",
    "rsv_lgb3.best_score_"
   ]
  },
  {
   "cell_type": "code",
   "execution_count": 144,
   "metadata": {},
   "outputs": [
    {
     "data": {
      "text/plain": [
       "{'subsample': 0.7,\n",
       " 'num_leaves': 100,\n",
       " 'n_estimators': 500,\n",
       " 'min_child_samples': 20,\n",
       " 'learning_rate': 0.1,\n",
       " 'colsample_bytree': 0.8}"
      ]
     },
     "execution_count": 144,
     "metadata": {},
     "output_type": "execute_result"
    }
   ],
   "source": [
    "rsv_lgb3.best_params_"
   ]
  },
  {
   "cell_type": "code",
   "execution_count": 145,
   "metadata": {},
   "outputs": [
    {
     "data": {
      "text/plain": [
       "0.7711390659236766"
      ]
     },
     "execution_count": 145,
     "metadata": {},
     "output_type": "execute_result"
    }
   ],
   "source": [
    "# Create a parameter Grid\n",
    "params = {\n",
    "    'learning_rate': [0.1, 0.12, 0.15],\n",
    "    'min_child_samples': [20, 22, 25],\n",
    "    'subsample': [0.7, 0.75, 0.8]\n",
    "}\n",
    "\n",
    "# Tune hyperparameter of LightGBM model\n",
    "gsv_lgb4 = GridSearchCV(estimator = LGBMClassifier(objective = 'multiclass', class_weight = 'balanced', num_class = 3, n_estimators = 500, \n",
    "                                                         num_leaves = 100, colsample_bytree = 0.8, verbosity = -1, random_state = 8),\n",
    "                      param_grid = params, scoring = 'accuracy', n_jobs = 3)\n",
    "gsv_lgb4.fit(dt_lingu_train, dt_lingu_label['author_encoded'])\n",
    "\n",
    "# Get best score\n",
    "gsv_lgb4.best_score_"
   ]
  },
  {
   "cell_type": "code",
   "execution_count": 146,
   "metadata": {},
   "outputs": [
    {
     "data": {
      "text/plain": [
       "{'learning_rate': 0.12, 'min_child_samples': 25, 'subsample': 0.7}"
      ]
     },
     "execution_count": 146,
     "metadata": {},
     "output_type": "execute_result"
    }
   ],
   "source": [
    "gsv_lgb4.best_params_"
   ]
  },
  {
   "cell_type": "markdown",
   "metadata": {},
   "source": [
    "The best score I got from the hyperparameter tuning on LightBGM is 0.7711. I will use the best parameters set to train a lgb_tuned model."
   ]
  },
  {
   "cell_type": "code",
   "execution_count": 149,
   "metadata": {},
   "outputs": [
    {
     "name": "stdout",
     "output_type": "stream",
     "text": [
      "Train accuracy of lgb_tuned: 1.0\n",
      "Test Accuracy of lgb_tuned: 0.7698209718670077\n"
     ]
    }
   ],
   "source": [
    "# Train a LightGBM on the dt_lingu_tra with best_params from the the RamdomizedSearchCV and GridSearchCV\n",
    "lgb_tuned = LGBMClassifier(objective = 'multiclass', class_weight = 'balanced', num_class = 3, n_estimators = 500, \n",
    "                           learning_rate = 0.12, subsample = 0.7, num_leaves = 100, colsample_bytree = 0.8,\n",
    "                           min_child_samples = 25, verbosity = -1, random_state = 16)\n",
    "\n",
    "lgb_tuned.fit(dt_lingu_tra, tra['author_encoded'])\n",
    "\n",
    "# Get accuracy score\n",
    "print('Train accuracy of lgb_tuned:', accuracy_score(tra['author_encoded'], lgb_tuned.predict(dt_lingu_tra)))\n",
    "print('Test Accuracy of lgb_tuned:', accuracy_score(val['author_encoded'], lgb_tuned.predict(dt_lingu_val)))"
   ]
  },
  {
   "cell_type": "markdown",
   "metadata": {},
   "source": [
    "The test accuracy of LightGBM improved slightly after hyperparameter tuning, increasing from 0.7655 to 0.7698.\n",
    "\n",
    "I will tune the hyperparameter of CatBoost. But first let's check the value of all training parameters from the base model as the default values of CatBoost parameters \"change dynamically depending on dataset properties and values of user-defined parameters\" (Cited from [CatBoost documentation](https://catboost.ai/docs/en/concepts/python-reference_catboostclassifier_get_all_params))"
   ]
  },
  {
   "cell_type": "code",
   "execution_count": 150,
   "metadata": {},
   "outputs": [
    {
     "data": {
      "text/plain": [
       "{'nan_mode': 'Min',\n",
       " 'eval_metric': 'MultiClass',\n",
       " 'iterations': 1000,\n",
       " 'sampling_frequency': 'PerTree',\n",
       " 'leaf_estimation_method': 'Newton',\n",
       " 'random_score_type': 'NormalWithModelSizeDecrease',\n",
       " 'grow_policy': 'SymmetricTree',\n",
       " 'penalties_coefficient': 1,\n",
       " 'boosting_type': 'Plain',\n",
       " 'model_shrink_mode': 'Constant',\n",
       " 'feature_border_type': 'GreedyLogSum',\n",
       " 'bayesian_matrix_reg': 0.10000000149011612,\n",
       " 'eval_fraction': 0,\n",
       " 'force_unit_auto_pair_weights': False,\n",
       " 'l2_leaf_reg': 3,\n",
       " 'random_strength': 1,\n",
       " 'rsm': 1,\n",
       " 'boost_from_average': False,\n",
       " 'model_size_reg': 0.5,\n",
       " 'pool_metainfo_options': {'tags': {}},\n",
       " 'use_best_model': False,\n",
       " 'class_names': [0, 1, 2],\n",
       " 'random_seed': 0,\n",
       " 'depth': 6,\n",
       " 'posterior_sampling': False,\n",
       " 'border_count': 254,\n",
       " 'class_weights': [0.8261489868164062, 1.080190658569336, 1.157672643661499],\n",
       " 'bagging_temperature': 1,\n",
       " 'classes_count': 0,\n",
       " 'auto_class_weights': 'None',\n",
       " 'sparse_features_conflict_fraction': 0,\n",
       " 'leaf_estimation_backtracking': 'AnyImprovement',\n",
       " 'best_model_min_trees': 1,\n",
       " 'model_shrink_rate': 0,\n",
       " 'min_data_in_leaf': 1,\n",
       " 'loss_function': 'MultiClass',\n",
       " 'learning_rate': 0.09103900194168092,\n",
       " 'score_function': 'Cosine',\n",
       " 'task_type': 'CPU',\n",
       " 'leaf_estimation_iterations': 1,\n",
       " 'bootstrap_type': 'Bayesian',\n",
       " 'max_leaves': 64}"
      ]
     },
     "execution_count": 150,
     "metadata": {},
     "output_type": "execute_result"
    }
   ],
   "source": [
    "cb_dl.get_all_params()"
   ]
  },
  {
   "cell_type": "code",
   "execution_count": 151,
   "metadata": {},
   "outputs": [
    {
     "data": {
      "text/plain": [
       "0.7685306581506773"
      ]
     },
     "execution_count": 151,
     "metadata": {},
     "output_type": "execute_result"
    }
   ],
   "source": [
    "# Create a parameter Grid\n",
    "params = {\n",
    "    'iterations': [300, 500, 1000],\n",
    "    'learning_rate': [0.05, 0.1, 0.2],\n",
    "    'depth': [5, 6, 8, 10],\n",
    "    'l2_leaf_reg': [1, 3, 5, 10]\n",
    "}\n",
    "\n",
    "# Tune hyperparameter of CatBoost model\n",
    "rsv_cb1 = RandomizedSearchCV(estimator = CatBoostClassifier(loss_function = 'MultiClass', silent = True, random_state = 8),\n",
    "                      param_distributions = params, n_iter = 30, scoring = 'accuracy', n_jobs = 3)\n",
    "rsv_cb1.fit(dt_lingu_train, dt_lingu_label['author_encoded'])\n",
    "\n",
    "# Get best score\n",
    "rsv_cb1.best_score_"
   ]
  },
  {
   "cell_type": "code",
   "execution_count": 152,
   "metadata": {},
   "outputs": [
    {
     "data": {
      "text/plain": [
       "{'learning_rate': 0.1, 'l2_leaf_reg': 10, 'iterations': 1000, 'depth': 8}"
      ]
     },
     "execution_count": 152,
     "metadata": {},
     "output_type": "execute_result"
    }
   ],
   "source": [
    "rsv_cb1.best_params_"
   ]
  },
  {
   "cell_type": "markdown",
   "metadata": {},
   "source": [
    "The iterations and learning_rate are almost the same as the default value, I will fix these two, and tune 'depth' and 'l2_leaf_reg' only."
   ]
  },
  {
   "cell_type": "code",
   "execution_count": 153,
   "metadata": {},
   "outputs": [
    {
     "data": {
      "text/plain": [
       "0.7703207039430942"
      ]
     },
     "execution_count": 153,
     "metadata": {},
     "output_type": "execute_result"
    }
   ],
   "source": [
    "# Create a parameter Grid\n",
    "params = {\n",
    "    'depth': [6, 8, 10],\n",
    "    'l2_leaf_reg': [3, 5, 10]\n",
    "}\n",
    "\n",
    "# Tune hyperparameter of CatBoost model\n",
    "gsv_cb2 = GridSearchCV(estimator = CatBoostClassifier(loss_function = 'MultiClass', iterations = 1000, \n",
    "                                                      learning_rate = 0.1, silent = True, random_state = 8),\n",
    "                      param_grid = params, scoring = 'accuracy', n_jobs = 3)\n",
    "gsv_cb2.fit(dt_lingu_train, dt_lingu_label['author_encoded'])\n",
    "\n",
    "# Get best score\n",
    "gsv_cb2.best_score_"
   ]
  },
  {
   "cell_type": "code",
   "execution_count": 154,
   "metadata": {},
   "outputs": [
    {
     "data": {
      "text/plain": [
       "{'depth': 6, 'l2_leaf_reg': 3}"
      ]
     },
     "execution_count": 154,
     "metadata": {},
     "output_type": "execute_result"
    }
   ],
   "source": [
    "gsv_cb2.best_params_"
   ]
  },
  {
   "cell_type": "markdown",
   "metadata": {},
   "source": [
    "The best parameters for the CatBoostClassifier turned out to be the same as the original default settings. I realized that I had rounded up the original learning rate of 0.09 to 0.1 during the first round of RandomizedSearchCV. In that round, I allowed the search to select among [0.05, 0.1, 0.2], and it ended up choosing 0.1, which is the closest to 0.09. To confirm if the best parameters truly match the default settings, as claimed by CatBoost's official site ('Great quality without parameter tuning'), I will run GridSearchCV again to compare the two learning rates (0.09 and 0.1). This will help determine if the best parameters are indeed identical to the default settings."
   ]
  },
  {
   "cell_type": "code",
   "execution_count": 157,
   "metadata": {},
   "outputs": [
    {
     "data": {
      "text/plain": [
       "0.7703207039430942"
      ]
     },
     "execution_count": 157,
     "metadata": {},
     "output_type": "execute_result"
    }
   ],
   "source": [
    "# Create a parameter Grid\n",
    "params = {\n",
    "    'learning_rate': [0.09103900194168092, 0.1]\n",
    "}\n",
    "\n",
    "# Tune hyperparameter of CatBoost model\n",
    "gsv_cb3 = GridSearchCV(estimator = CatBoostClassifier(loss_function = 'MultiClass', iterations = 1000, depth = 6, \n",
    "                                                       l2_leaf_reg = 3, silent = True, random_state = 8),\n",
    "                      param_grid = params, scoring = 'accuracy', n_jobs = 3)\n",
    "gsv_cb3.fit(dt_lingu_train, dt_lingu_label['author_encoded'])\n",
    "\n",
    "# Get best score\n",
    "gsv_cb3.best_score_"
   ]
  },
  {
   "cell_type": "code",
   "execution_count": 158,
   "metadata": {},
   "outputs": [
    {
     "data": {
      "text/plain": [
       "{'learning_rate': 0.1}"
      ]
     },
     "execution_count": 158,
     "metadata": {},
     "output_type": "execute_result"
    }
   ],
   "source": [
    "gsv_cb3.best_params_"
   ]
  },
  {
   "cell_type": "markdown",
   "metadata": {},
   "source": [
    "The results show that a learning rate of 0.1 performs better. I will train the CatBoost model with the parameters explicitly specified based on the 'best_params' results from RandomizedSearchCV and GridSearchCV."
   ]
  },
  {
   "cell_type": "code",
   "execution_count": 159,
   "metadata": {},
   "outputs": [
    {
     "name": "stdout",
     "output_type": "stream",
     "text": [
      "Train accuracy of cb_tuned: 0.9489737195472856\n",
      "Test Accuracy of cb_tuned: 0.7687979539641944\n"
     ]
    }
   ],
   "source": [
    "# Train a CatBoost on the dt_lingu_tra\n",
    "classes = np.unique(tra['author_encoded'])\n",
    "weights = compute_class_weight(class_weight = 'balanced', classes = classes, y = tra['author_encoded'])\n",
    "class_weights = dict(zip(classes, weights))\n",
    "\n",
    "cb_tuned = CatBoostClassifier(loss_function = 'MultiClass', class_weights = class_weights, iterations = 1000, \n",
    "                              learning_rate = 0.1, silent = True, depth = 6, l2_leaf_reg = 3, random_seed = 42)\n",
    "cb_tuned.fit(dt_lingu_tra, tra['author_encoded'])\n",
    "\n",
    "print('Train accuracy of cb_tuned:', accuracy_score(tra['author_encoded'], cb_tuned.predict(dt_lingu_tra)))\n",
    "print('Test Accuracy of cb_tuned:', accuracy_score(val['author_encoded'], cb_tuned.predict(dt_lingu_val)))"
   ]
  },
  {
   "cell_type": "markdown",
   "metadata": {},
   "source": [
    "After hyperparameter tuning, all the models’ performance improved slightly, with XGBoost showing the greatest improvement and achieving the highest test accuracy. However, the overfitting problem remains unresolved.\n",
    "\n",
    "| Model | Train Accuracy | Test Accuracy |\n",
    "| :-: | :-: | :-: |\n",
    "| Random Forest 'rf_tuned' | 0.9686 | 0.7360 |\n",
    "| XGBoost 'xgb_tuned' | 1.0 | 0.7749 | \n",
    "| LightGBM 'lgb_tuned' | 1.0 | 0.7698 |\n",
    "| CatBoost 'cb_tuned' | 0.9490 | 0.7688 |  "
   ]
  },
  {
   "cell_type": "markdown",
   "metadata": {},
   "source": [
    "Last, let's ensemble the models using VotingClassifier."
   ]
  },
  {
   "cell_type": "code",
   "execution_count": 160,
   "metadata": {},
   "outputs": [
    {
     "name": "stdout",
     "output_type": "stream",
     "text": [
      "Train accuracy of vc: 0.9998081718779973\n",
      "Test Accuracy of vc: 0.7767263427109975\n"
     ]
    }
   ],
   "source": [
    "# Create a votingclassifier with the four supervised learning models\n",
    "vc = VotingClassifier([('rf', rf_tuned), ('xgb', xgb_tuned), ('lgb', lgb_tuned), ('cb', cb_tuned)], voting = 'soft', n_jobs = 3)\n",
    "vc.fit(dt_lingu_tra, tra['author_encoded'], sample_weight = sample_weights)\n",
    "\n",
    "# Get accuracy score\n",
    "print('Train accuracy of vc:', accuracy_score(tra['author_encoded'], vc.predict(dt_lingu_tra)))\n",
    "print('Test Accuracy of vc:', accuracy_score(val['author_encoded'], vc.predict(dt_lingu_val)))"
   ]
  },
  {
   "cell_type": "code",
   "execution_count": 162,
   "metadata": {},
   "outputs": [
    {
     "name": "stdout",
     "output_type": "stream",
     "text": [
      "Log_loss of vc: 0.561951244117241\n",
      "Classification Report of vc:\n",
      "              precision    recall  f1-score   support\n",
      "\n",
      "           0       0.77      0.79      0.78      1578\n",
      "           1       0.76      0.77      0.76      1207\n",
      "           2       0.81      0.77      0.79      1125\n",
      "\n",
      "    accuracy                           0.78      3910\n",
      "   macro avg       0.78      0.78      0.78      3910\n",
      "weighted avg       0.78      0.78      0.78      3910\n",
      "\n"
     ]
    }
   ],
   "source": [
    "vc_pred_proba = vc.predict_proba(dt_lingu_val)\n",
    "\n",
    "vc_pred_proba = np.divide(vc_pred_proba, vc_pred_proba.sum(axis = 1, keepdims = True))\n",
    "\n",
    "vc_log_loss = log_loss(val['author_encoded'], vc_pred_proba)\n",
    "print(\"Log_loss of vc:\", vc_log_loss)\n",
    "print(\"Classification Report of vc:\")\n",
    "print(classification_report(val['author_encoded'], vc.predict(dt_lingu_val), labels = [0, 1, 2]))\n"
   ]
  },
  {
   "cell_type": "markdown",
   "metadata": {},
   "source": [
    "I ensemble the four models using VotingClassifier. The result above shows that the accuracy, precision, recall and f1-score are 0.78, while the log_loss is 0.56."
   ]
  },
  {
   "cell_type": "markdown",
   "metadata": {},
   "source": [
    "**Feature Importance**"
   ]
  },
  {
   "cell_type": "code",
   "execution_count": null,
   "metadata": {},
   "outputs": [],
   "source": [
    "# Get the feature importance from the XGBoost(the best performed model after hyperparameter tuning)\n",
    "xgb_feat_imp = pd.DataFrame({'Features': dt_lingu_tra.columns, 'Importance': xgb_tuned.feature_importances_})\n",
    "xgb_feat_imp.sort_values(by = 'Importance', ascending = False, inplace = True)"
   ]
  },
  {
   "cell_type": "code",
   "execution_count": null,
   "metadata": {},
   "outputs": [
    {
     "data": {
      "text/html": [
       "<div>\n",
       "<style scoped>\n",
       "    .dataframe tbody tr th:only-of-type {\n",
       "        vertical-align: middle;\n",
       "    }\n",
       "\n",
       "    .dataframe tbody tr th {\n",
       "        vertical-align: top;\n",
       "    }\n",
       "\n",
       "    .dataframe thead th {\n",
       "        text-align: right;\n",
       "    }\n",
       "</style>\n",
       "<table border=\"1\" class=\"dataframe\">\n",
       "  <thead>\n",
       "    <tr style=\"text-align: right;\">\n",
       "      <th></th>\n",
       "      <th>Features</th>\n",
       "      <th>Importance</th>\n",
       "    </tr>\n",
       "  </thead>\n",
       "  <tbody>\n",
       "    <tr>\n",
       "      <th>7</th>\n",
       "      <td>topic_nmf7</td>\n",
       "      <td>0.102136</td>\n",
       "    </tr>\n",
       "    <tr>\n",
       "      <th>5</th>\n",
       "      <td>topic_nmf5</td>\n",
       "      <td>0.015992</td>\n",
       "    </tr>\n",
       "    <tr>\n",
       "      <th>0</th>\n",
       "      <td>topic_nmf0</td>\n",
       "      <td>0.015666</td>\n",
       "    </tr>\n",
       "    <tr>\n",
       "      <th>17</th>\n",
       "      <td>bert_pca4</td>\n",
       "      <td>0.008217</td>\n",
       "    </tr>\n",
       "    <tr>\n",
       "      <th>20</th>\n",
       "      <td>bert_pca7</td>\n",
       "      <td>0.006445</td>\n",
       "    </tr>\n",
       "    <tr>\n",
       "      <th>19</th>\n",
       "      <td>bert_pca6</td>\n",
       "      <td>0.004808</td>\n",
       "    </tr>\n",
       "    <tr>\n",
       "      <th>35</th>\n",
       "      <td>bert_pca22</td>\n",
       "      <td>0.003191</td>\n",
       "    </tr>\n",
       "    <tr>\n",
       "      <th>16</th>\n",
       "      <td>bert_pca3</td>\n",
       "      <td>0.003063</td>\n",
       "    </tr>\n",
       "    <tr>\n",
       "      <th>29</th>\n",
       "      <td>bert_pca16</td>\n",
       "      <td>0.002487</td>\n",
       "    </tr>\n",
       "    <tr>\n",
       "      <th>1</th>\n",
       "      <td>topic_nmf1</td>\n",
       "      <td>0.002123</td>\n",
       "    </tr>\n",
       "    <tr>\n",
       "      <th>31</th>\n",
       "      <td>bert_pca18</td>\n",
       "      <td>0.002104</td>\n",
       "    </tr>\n",
       "    <tr>\n",
       "      <th>21</th>\n",
       "      <td>bert_pca8</td>\n",
       "      <td>0.002078</td>\n",
       "    </tr>\n",
       "    <tr>\n",
       "      <th>28</th>\n",
       "      <td>bert_pca15</td>\n",
       "      <td>0.001995</td>\n",
       "    </tr>\n",
       "    <tr>\n",
       "      <th>4</th>\n",
       "      <td>topic_nmf4</td>\n",
       "      <td>0.001701</td>\n",
       "    </tr>\n",
       "    <tr>\n",
       "      <th>33</th>\n",
       "      <td>bert_pca20</td>\n",
       "      <td>0.001260</td>\n",
       "    </tr>\n",
       "    <tr>\n",
       "      <th>34</th>\n",
       "      <td>bert_pca21</td>\n",
       "      <td>0.001177</td>\n",
       "    </tr>\n",
       "    <tr>\n",
       "      <th>42</th>\n",
       "      <td>bert_pca29</td>\n",
       "      <td>0.001125</td>\n",
       "    </tr>\n",
       "    <tr>\n",
       "      <th>24</th>\n",
       "      <td>bert_pca11</td>\n",
       "      <td>0.000863</td>\n",
       "    </tr>\n",
       "    <tr>\n",
       "      <th>51</th>\n",
       "      <td>type_token</td>\n",
       "      <td>0.000857</td>\n",
       "    </tr>\n",
       "    <tr>\n",
       "      <th>47</th>\n",
       "      <td>verb_freq</td>\n",
       "      <td>0.000793</td>\n",
       "    </tr>\n",
       "    <tr>\n",
       "      <th>37</th>\n",
       "      <td>bert_pca24</td>\n",
       "      <td>0.000774</td>\n",
       "    </tr>\n",
       "    <tr>\n",
       "      <th>39</th>\n",
       "      <td>bert_pca26</td>\n",
       "      <td>0.000761</td>\n",
       "    </tr>\n",
       "    <tr>\n",
       "      <th>2</th>\n",
       "      <td>topic_nmf2</td>\n",
       "      <td>0.000735</td>\n",
       "    </tr>\n",
       "    <tr>\n",
       "      <th>49</th>\n",
       "      <td>adv_freq</td>\n",
       "      <td>0.000678</td>\n",
       "    </tr>\n",
       "    <tr>\n",
       "      <th>25</th>\n",
       "      <td>bert_pca12</td>\n",
       "      <td>0.000614</td>\n",
       "    </tr>\n",
       "    <tr>\n",
       "      <th>38</th>\n",
       "      <td>bert_pca25</td>\n",
       "      <td>0.000524</td>\n",
       "    </tr>\n",
       "    <tr>\n",
       "      <th>27</th>\n",
       "      <td>bert_pca14</td>\n",
       "      <td>0.000416</td>\n",
       "    </tr>\n",
       "    <tr>\n",
       "      <th>26</th>\n",
       "      <td>bert_pca13</td>\n",
       "      <td>0.000396</td>\n",
       "    </tr>\n",
       "    <tr>\n",
       "      <th>45</th>\n",
       "      <td>word_len</td>\n",
       "      <td>0.000377</td>\n",
       "    </tr>\n",
       "    <tr>\n",
       "      <th>3</th>\n",
       "      <td>topic_nmf3</td>\n",
       "      <td>0.000371</td>\n",
       "    </tr>\n",
       "    <tr>\n",
       "      <th>22</th>\n",
       "      <td>bert_pca9</td>\n",
       "      <td>0.000364</td>\n",
       "    </tr>\n",
       "    <tr>\n",
       "      <th>9</th>\n",
       "      <td>topic_lda1</td>\n",
       "      <td>0.000352</td>\n",
       "    </tr>\n",
       "    <tr>\n",
       "      <th>12</th>\n",
       "      <td>topic_lda4</td>\n",
       "      <td>0.000339</td>\n",
       "    </tr>\n",
       "    <tr>\n",
       "      <th>18</th>\n",
       "      <td>bert_pca5</td>\n",
       "      <td>0.000313</td>\n",
       "    </tr>\n",
       "    <tr>\n",
       "      <th>23</th>\n",
       "      <td>bert_pca10</td>\n",
       "      <td>0.000307</td>\n",
       "    </tr>\n",
       "    <tr>\n",
       "      <th>14</th>\n",
       "      <td>bert_pca1</td>\n",
       "      <td>0.000288</td>\n",
       "    </tr>\n",
       "    <tr>\n",
       "      <th>8</th>\n",
       "      <td>topic_lda0</td>\n",
       "      <td>0.000281</td>\n",
       "    </tr>\n",
       "    <tr>\n",
       "      <th>11</th>\n",
       "      <td>topic_lda3</td>\n",
       "      <td>0.000281</td>\n",
       "    </tr>\n",
       "    <tr>\n",
       "      <th>15</th>\n",
       "      <td>bert_pca2</td>\n",
       "      <td>0.000262</td>\n",
       "    </tr>\n",
       "    <tr>\n",
       "      <th>40</th>\n",
       "      <td>bert_pca27</td>\n",
       "      <td>0.000237</td>\n",
       "    </tr>\n",
       "    <tr>\n",
       "      <th>30</th>\n",
       "      <td>bert_pca17</td>\n",
       "      <td>0.000230</td>\n",
       "    </tr>\n",
       "    <tr>\n",
       "      <th>6</th>\n",
       "      <td>topic_nmf6</td>\n",
       "      <td>0.000230</td>\n",
       "    </tr>\n",
       "    <tr>\n",
       "      <th>10</th>\n",
       "      <td>topic_lda2</td>\n",
       "      <td>0.000224</td>\n",
       "    </tr>\n",
       "    <tr>\n",
       "      <th>48</th>\n",
       "      <td>adj_freq</td>\n",
       "      <td>0.000166</td>\n",
       "    </tr>\n",
       "    <tr>\n",
       "      <th>46</th>\n",
       "      <td>noun_freq</td>\n",
       "      <td>0.000160</td>\n",
       "    </tr>\n",
       "    <tr>\n",
       "      <th>32</th>\n",
       "      <td>bert_pca19</td>\n",
       "      <td>0.000160</td>\n",
       "    </tr>\n",
       "    <tr>\n",
       "      <th>36</th>\n",
       "      <td>bert_pca23</td>\n",
       "      <td>0.000141</td>\n",
       "    </tr>\n",
       "    <tr>\n",
       "      <th>50</th>\n",
       "      <td>funct_word</td>\n",
       "      <td>0.000128</td>\n",
       "    </tr>\n",
       "    <tr>\n",
       "      <th>13</th>\n",
       "      <td>bert_pca0</td>\n",
       "      <td>0.000102</td>\n",
       "    </tr>\n",
       "    <tr>\n",
       "      <th>41</th>\n",
       "      <td>bert_pca28</td>\n",
       "      <td>0.000070</td>\n",
       "    </tr>\n",
       "    <tr>\n",
       "      <th>43</th>\n",
       "      <td>gunning_fog</td>\n",
       "      <td>0.000058</td>\n",
       "    </tr>\n",
       "    <tr>\n",
       "      <th>44</th>\n",
       "      <td>sent_len</td>\n",
       "      <td>0.000058</td>\n",
       "    </tr>\n",
       "  </tbody>\n",
       "</table>\n",
       "</div>"
      ],
      "text/plain": [
       "       Features  Importance\n",
       "7    topic_nmf7    0.102136\n",
       "5    topic_nmf5    0.015992\n",
       "0    topic_nmf0    0.015666\n",
       "17    bert_pca4    0.008217\n",
       "20    bert_pca7    0.006445\n",
       "19    bert_pca6    0.004808\n",
       "35   bert_pca22    0.003191\n",
       "16    bert_pca3    0.003063\n",
       "29   bert_pca16    0.002487\n",
       "1    topic_nmf1    0.002123\n",
       "31   bert_pca18    0.002104\n",
       "21    bert_pca8    0.002078\n",
       "28   bert_pca15    0.001995\n",
       "4    topic_nmf4    0.001701\n",
       "33   bert_pca20    0.001260\n",
       "34   bert_pca21    0.001177\n",
       "42   bert_pca29    0.001125\n",
       "24   bert_pca11    0.000863\n",
       "51   type_token    0.000857\n",
       "47    verb_freq    0.000793\n",
       "37   bert_pca24    0.000774\n",
       "39   bert_pca26    0.000761\n",
       "2    topic_nmf2    0.000735\n",
       "49     adv_freq    0.000678\n",
       "25   bert_pca12    0.000614\n",
       "38   bert_pca25    0.000524\n",
       "27   bert_pca14    0.000416\n",
       "26   bert_pca13    0.000396\n",
       "45     word_len    0.000377\n",
       "3    topic_nmf3    0.000371\n",
       "22    bert_pca9    0.000364\n",
       "9    topic_lda1    0.000352\n",
       "12   topic_lda4    0.000339\n",
       "18    bert_pca5    0.000313\n",
       "23   bert_pca10    0.000307\n",
       "14    bert_pca1    0.000288\n",
       "8    topic_lda0    0.000281\n",
       "11   topic_lda3    0.000281\n",
       "15    bert_pca2    0.000262\n",
       "40   bert_pca27    0.000237\n",
       "30   bert_pca17    0.000230\n",
       "6    topic_nmf6    0.000230\n",
       "10   topic_lda2    0.000224\n",
       "48     adj_freq    0.000166\n",
       "46    noun_freq    0.000160\n",
       "32   bert_pca19    0.000160\n",
       "36   bert_pca23    0.000141\n",
       "50   funct_word    0.000128\n",
       "13    bert_pca0    0.000102\n",
       "41   bert_pca28    0.000070\n",
       "43  gunning_fog    0.000058\n",
       "44     sent_len    0.000058"
      ]
     },
     "execution_count": 167,
     "metadata": {},
     "output_type": "execute_result"
    }
   ],
   "source": [
    "# Get permutaion importance from the VotingClassifier\n",
    "result = permutation_importance(vc, dt_lingu_tra, tra['author_encoded'], n_repeats = 10, random_state = 0).importances_mean\n",
    "\n",
    "feat_imp = pd.DataFrame({'Features': dt_lingu_tra.columns, 'Importance': result})\n",
    "\n",
    "feat_imp.sort_values(by = 'Importance', ascending = False, inplace = True)\n",
    "\n",
    "feat_imp"
   ]
  },
  {
   "cell_type": "code",
   "execution_count": null,
   "metadata": {},
   "outputs": [
    {
     "data": {
      "image/png": "[encoded data removed]",
      "text/plain": [
       "<Figure size 1000x500 with 2 Axes>"
      ]
     },
     "metadata": {},
     "output_type": "display_data"
    }
   ],
   "source": [
    "# Plot the top 15 most important features from XGBoost and VotingClassifier\n",
    "fig, (ax1, ax2) = plt.subplots(nrows = 1, ncols = 2, figsize = (10, 5))\n",
    "plt.subplots_adjust(wspace = 0.5)\n",
    "ax1 = sns.barplot(data = xgb_feat_imp.head(15), x = 'Importance', y = 'Features', \n",
    "                  color = 'skyblue', ax = ax1)\n",
    "ax1.set_title('Top15 Feature Importance: XGBoost')\n",
    "\n",
    "ax2 = sns.barplot(data = feat_imp.head(15), x = 'Importance', y = 'Features',\n",
    "                  color = 'lightsalmon', ax = ax2)\n",
    "ax2.set_ylabel('')\n",
    "ax2.set_title('Top15 Permutation Importance: VotingClassifier');"
   ]
  },
  {
   "cell_type": "markdown",
   "metadata": {},
   "source": [
    "#### Supervised Model"
   ]
  },
  {
   "cell_type": "code",
   "execution_count": 43,
   "metadata": {},
   "outputs": [
    {
     "name": "stdout",
     "output_type": "stream",
     "text": [
      "Train accuracy of rf_tfidf: 0.9978259479506363\n",
      "Test Accuracy of rf_tfidf: 0.6930946291560103\n"
     ]
    }
   ],
   "source": [
    "# Random forest on the tfidf matrix\n",
    "rf_tfidf = RandomForestClassifier(class_weight = 'balanced', random_state = 42).fit(tfidf_tuned_mx_tra, tra['author_encoded'])\n",
    "\n",
    "# Get accuracy score\n",
    "print('Train accuracy of rf_tfidf:', accuracy_score(tra['author_encoded'], rf_tfidf.predict(tfidf_tuned_mx_tra)))\n",
    "print('Test Accuracy of rf_tfidf:', accuracy_score(val['author_encoded'], rf_tfidf.predict(tfidf_tuned_mx_val)))"
   ]
  },
  {
   "cell_type": "code",
   "execution_count": 44,
   "metadata": {},
   "outputs": [
    {
     "name": "stdout",
     "output_type": "stream",
     "text": [
      "Train accuracy of xgb_tfidf: 0.8134791227060554\n",
      "Test Accuracy of xgb_tfidf: 0.6941176470588235\n"
     ]
    }
   ],
   "source": [
    "# XGBoost on the tfidf matrix\n",
    "xgb_tfidf = XGBClassifier(objective = 'multi:softmax', num_class = 3, random_state = 42)\n",
    "xgb_tfidf.fit(tfidf_tuned_mx_tra, tra['author_encoded'], sample_weight = sample_weights)\n",
    "\n",
    "# Get accuracy score\n",
    "print('Train accuracy of xgb_tfidf:', accuracy_score(tra['author_encoded'], xgb_tfidf.predict(tfidf_tuned_mx_tra)))\n",
    "print('Test Accuracy of xgb_tfidf:', accuracy_score(val['author_encoded'], xgb_tfidf.predict(tfidf_tuned_mx_val)))"
   ]
  },
  {
   "cell_type": "markdown",
   "metadata": {},
   "source": [
    "The test accuracy of the supervised models trained on the TF-IDF matrix is higher than that of the unsupervised models, but lower than that of the hybrid models.\n",
    "\n",
    "Since the focus of this project is exploring the use of unsupervised techniques for text classification, I will skip tuning the hyperparameters of the supervised models.\n",
    "\n",
    "### Submit prediction on test set to Kaggle\n",
    "  \n",
    "Finally, I will train the model on the entire training set and generate predictions for Kaggle's test set. Before doing so, I need to extract the hybrid features from the entire training set and test set. So far, I have been training and tuning the model on a subset of the training set ('tra') and testing it on the validation set ('val')."
   ]
  },
  {
   "cell_type": "code",
   "execution_count": 210,
   "metadata": {},
   "outputs": [],
   "source": [
    "# Create a tfidf vectorizer using the best_params --- for NMF model\n",
    "tfidf_nmf = TfidfVectorizer(stop_words= 'english', min_df = 4, max_df = 0.8, max_features = 9000, ngram_range = (1, 2))\n",
    "\n",
    "# Fit and transform the 'cleaned_text' from 'clean_train' and 'clean_test' into  tfidf-matrices\n",
    "tfidf_nmf.fit(clean_train['cleaned_text'])\n",
    "tfidf_nmf_train = tfidf_nmf.transform(clean_train['cleaned_text'])\n",
    "tfidf_nmf_test = tfidf_nmf.transform(clean_test['cleaned_text'])\n",
    "\n",
    "# Get w-matrix from NMF model \n",
    "nmf = NMF(n_components = 8, solver = 'mu', init = 'nndsvda', max_iter = 2000, beta_loss = 'kullback-leibler', random_state = 8)\n",
    "nmf.fit(tfidf_nmf_train)\n",
    "w_matrix_train = nmf.transform(tfidf_nmf_train)\n",
    "w_matrix_test = nmf.transform(tfidf_nmf_test)\n",
    "\n",
    "# Create a tfidf vectorizer using the best_params --- for LDA model\n",
    "tfidf_lda = TfidfVectorizer(stop_words= 'english', max_df = 0.8, min_df = 6, max_features = 6000, ngram_range = (1, 2))\n",
    "\n",
    "# Fit and transform the 'cleaned_text' from 'clean_train' and 'clean_test' into  tfidf-matrices\n",
    "tfidf_lda.fit(clean_train['cleaned_text'])\n",
    "tfidf_lda_train = tfidf_lda.transform(clean_train['cleaned_text'])\n",
    "tfidf_lda_test = tfidf_lda.transform(clean_test['cleaned_text'])\n",
    "\n",
    "# Get doc-topic matrix from LDA model\n",
    "lda = LatentDirichletAllocation(n_components = 5, learning_decay = 0.8, doc_topic_prior = 0.1, random_state = 8)\n",
    "lda.fit(tfidf_lda_train)\n",
    "lda_topics_train = lda.transform(tfidf_lda_train)\n",
    "lda_topics_test = lda.transform(tfidf_lda_test)\n"
   ]
  },
  {
   "cell_type": "code",
   "execution_count": 221,
   "metadata": {},
   "outputs": [],
   "source": [
    "# Get dimensionality reduced BERT Embedding\n",
    "pooled_output_train = pd.concat([pooled_output_tra, pooled_output_val])\n",
    "pooled_output_test.columns = pooled_output_train.columns\n",
    "pca = PCA(n_components= 0.95).fit(pooled_output_train)\n",
    "bert_pca_train = pca.transform(pooled_output_train)\n",
    "bert_pca_test = pca.transform(pooled_output_test)"
   ]
  },
  {
   "cell_type": "code",
   "execution_count": null,
   "metadata": {},
   "outputs": [],
   "source": [
    "# Concatenate doc-topic matrices and the dimensional reduced BERT Embedding\n",
    "hybrid_feature_train = np.concatenate((w_matrix_train, lda_topics_train, bert_pca_train), axis = 1)\n",
    "hybrid_feature_test = np.concatenate((w_matrix_test, lda_topics_test, bert_pca_test), axis = 1)\n",
    "\n",
    "# Convert hybrid_feature_train and hybrid_feature_test into a data frame\n",
    "hybrid_feature_train = pd.DataFrame(hybrid_feature_train, columns = [f'topic_nmf{i}' for i in range(8)] + [f'topic_lda{i}' for i in range(5)] + [f'bert_pca{i}' for i in range(30)])\n",
    "hybrid_feature_test = pd.DataFrame(hybrid_feature_test, columns = [f'topic_nmf{i}' for i in range(8)] + [f'topic_lda{i}' for i in range(5)] + [f'bert_pca{i}' for i in range(30)])\n",
    "\n",
    "# Concatenate 'dt_train' and 'dt_test with linguistic features\n",
    "hybrid_feature_train = pd.concat([hybrid_feature_train, clean_train[['gunning_fog', 'sent_len', 'word_len', 'noun_freq', 'verb_freq', \n",
    "                            'adj_freq', 'adv_freq', 'funct_word', 'type_token']]], axis = 1)\n",
    "hybrid_feature_test = pd.concat([hybrid_feature_test, clean_test[['gunning_fog', 'sent_len', 'word_len', 'noun_freq', 'verb_freq', \n",
    "                            'adj_freq', 'adv_freq', 'funct_word', 'type_token']]], axis = 1)"
   ]
  },
  {
   "cell_type": "code",
   "execution_count": 244,
   "metadata": {},
   "outputs": [
    {
     "data": {
      "text/html": [
       "<div>\n",
       "<style scoped>\n",
       "    .dataframe tbody tr th:only-of-type {\n",
       "        vertical-align: middle;\n",
       "    }\n",
       "\n",
       "    .dataframe tbody tr th {\n",
       "        vertical-align: top;\n",
       "    }\n",
       "\n",
       "    .dataframe thead th {\n",
       "        text-align: right;\n",
       "    }\n",
       "</style>\n",
       "<table border=\"1\" class=\"dataframe\">\n",
       "  <thead>\n",
       "    <tr style=\"text-align: right;\">\n",
       "      <th></th>\n",
       "      <th>id</th>\n",
       "      <th>EAP</th>\n",
       "      <th>HPL</th>\n",
       "      <th>MWS</th>\n",
       "    </tr>\n",
       "  </thead>\n",
       "  <tbody>\n",
       "    <tr>\n",
       "      <th>0</th>\n",
       "      <td>id02310</td>\n",
       "      <td>0.042103</td>\n",
       "      <td>0.065524</td>\n",
       "      <td>0.892373</td>\n",
       "    </tr>\n",
       "    <tr>\n",
       "      <th>1</th>\n",
       "      <td>id24541</td>\n",
       "      <td>0.291389</td>\n",
       "      <td>0.671225</td>\n",
       "      <td>0.037386</td>\n",
       "    </tr>\n",
       "    <tr>\n",
       "      <th>2</th>\n",
       "      <td>id00134</td>\n",
       "      <td>0.102710</td>\n",
       "      <td>0.884563</td>\n",
       "      <td>0.012727</td>\n",
       "    </tr>\n",
       "    <tr>\n",
       "      <th>3</th>\n",
       "      <td>id27757</td>\n",
       "      <td>0.083545</td>\n",
       "      <td>0.883755</td>\n",
       "      <td>0.032700</td>\n",
       "    </tr>\n",
       "    <tr>\n",
       "      <th>4</th>\n",
       "      <td>id04081</td>\n",
       "      <td>0.821852</td>\n",
       "      <td>0.062855</td>\n",
       "      <td>0.115293</td>\n",
       "    </tr>\n",
       "  </tbody>\n",
       "</table>\n",
       "</div>"
      ],
      "text/plain": [
       "        id       EAP       HPL       MWS\n",
       "0  id02310  0.042103  0.065524  0.892373\n",
       "1  id24541  0.291389  0.671225  0.037386\n",
       "2  id00134  0.102710  0.884563  0.012727\n",
       "3  id27757  0.083545  0.883755  0.032700\n",
       "4  id04081  0.821852  0.062855  0.115293"
      ]
     },
     "execution_count": 244,
     "metadata": {},
     "output_type": "execute_result"
    }
   ],
   "source": [
    "# Train the VotingClassifier on 'hybrid_feature_train'\n",
    "sample_weights_train = compute_sample_weight(class_weight = 'balanced', y = clean_train['author_encoded'])\n",
    "vc.fit(hybrid_feature_train, clean_train['author_encoded'], sample_weight = sample_weights_train)\n",
    "\n",
    "pred_proba_test = vc.predict_proba(hybrid_feature_test)\n",
    "\n",
    "pred_proba_test = pd.DataFrame(pred_proba_test, columns = ['EAP', 'MWS', 'HPL'])\n",
    "pred_proba_test = pd.concat([clean_test[['id']], pred_proba_test], axis = 1)\n",
    "pred_proba_test = pred_proba_test[['id', 'EAP', 'HPL', 'MWS']]\n",
    "pred_proba_test.head()"
   ]
  },
  {
   "cell_type": "code",
   "execution_count": 247,
   "metadata": {},
   "outputs": [
    {
     "data": {
      "text/html": [
       "<div>\n",
       "<style scoped>\n",
       "    .dataframe tbody tr th:only-of-type {\n",
       "        vertical-align: middle;\n",
       "    }\n",
       "\n",
       "    .dataframe tbody tr th {\n",
       "        vertical-align: top;\n",
       "    }\n",
       "\n",
       "    .dataframe thead th {\n",
       "        text-align: right;\n",
       "    }\n",
       "</style>\n",
       "<table border=\"1\" class=\"dataframe\">\n",
       "  <thead>\n",
       "    <tr style=\"text-align: right;\">\n",
       "      <th></th>\n",
       "      <th>id</th>\n",
       "      <th>EAP</th>\n",
       "      <th>HPL</th>\n",
       "      <th>MWS</th>\n",
       "    </tr>\n",
       "  </thead>\n",
       "  <tbody>\n",
       "    <tr>\n",
       "      <th>0</th>\n",
       "      <td>id02310</td>\n",
       "      <td>0.403494</td>\n",
       "      <td>0.287808</td>\n",
       "      <td>0.308698</td>\n",
       "    </tr>\n",
       "    <tr>\n",
       "      <th>1</th>\n",
       "      <td>id24541</td>\n",
       "      <td>0.403494</td>\n",
       "      <td>0.287808</td>\n",
       "      <td>0.308698</td>\n",
       "    </tr>\n",
       "    <tr>\n",
       "      <th>2</th>\n",
       "      <td>id00134</td>\n",
       "      <td>0.403494</td>\n",
       "      <td>0.287808</td>\n",
       "      <td>0.308698</td>\n",
       "    </tr>\n",
       "    <tr>\n",
       "      <th>3</th>\n",
       "      <td>id27757</td>\n",
       "      <td>0.403494</td>\n",
       "      <td>0.287808</td>\n",
       "      <td>0.308698</td>\n",
       "    </tr>\n",
       "    <tr>\n",
       "      <th>4</th>\n",
       "      <td>id04081</td>\n",
       "      <td>0.403494</td>\n",
       "      <td>0.287808</td>\n",
       "      <td>0.308698</td>\n",
       "    </tr>\n",
       "  </tbody>\n",
       "</table>\n",
       "</div>"
      ],
      "text/plain": [
       "        id       EAP       HPL       MWS\n",
       "0  id02310  0.403494  0.287808  0.308698\n",
       "1  id24541  0.403494  0.287808  0.308698\n",
       "2  id00134  0.403494  0.287808  0.308698\n",
       "3  id27757  0.403494  0.287808  0.308698\n",
       "4  id04081  0.403494  0.287808  0.308698"
      ]
     },
     "execution_count": 247,
     "metadata": {},
     "output_type": "execute_result"
    }
   ],
   "source": [
    "sample_submission.head()"
   ]
  },
  {
   "cell_type": "code",
   "execution_count": 248,
   "metadata": {},
   "outputs": [],
   "source": [
    "# Save the result\n",
    "pred_proba_test.to_csv('pred_proba_test.csv', index = False)"
   ]
  },
  {
   "cell_type": "markdown",
   "metadata": {},
   "source": [
    "I submitted the result to Kaggle and got a log-loss of 0.6553."
   ]
  }
 ],
 "metadata": {
  "kernelspec": {
   "display_name": "base",
   "language": "python",
   "name": "python3"
  },
  "language_info": {
   "codemirror_mode": {
    "name": "ipython",
    "version": 3
   },
   "file_extension": ".py",
   "mimetype": "text/x-python",
   "name": "python",
   "nbconvert_exporter": "python",
   "pygments_lexer": "ipython3",
   "version": "3.12.2"
  }
 },
 "nbformat": 4,
 "nbformat_minor": 2
}
