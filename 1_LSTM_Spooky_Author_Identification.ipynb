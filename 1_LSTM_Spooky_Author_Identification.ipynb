{
  "cells": [
    {
      "cell_type": "markdown",
      "metadata": {
        "id": "view-in-github",
        "colab_type": "text"
      },
      "source": [
        "<a href=\"https://colab.research.google.com/github/Doris-QZ/spooky_author_identification/blob/main/1_LSTM_Spooky_Author_Identification.ipynb\" target=\"_parent\"><img src=\"https://colab.research.google.com/assets/colab-badge.svg\" alt=\"Open In Colab\"/></a>"
      ]
    },
    {
      "cell_type": "markdown",
      "metadata": {
        "id": "-bE1SFfbcvoF"
      },
      "source": [
        "# Introduction\n",
        "\n",
        "This project is based on the expired Kaggle competition, Spooky Author Identification. In this project, I will train machine learning models to identify the author of excerpts from horror stories written by Edgar Allan Poe (EAP), H.P. Lovecraft (HPL), and Mary Shelley (MWS). This author identification task involves predicting the author based on their writing style.\n",
        "\n",
        "\n",
        "The primary challenge of this task lies in the excerpts originating from the same genre (horror story). In same-genre texts, the thematic content and vocabulary often overlap across authors, making it difficult to distinguish them. In my final project for the ‘Unsupervised Algorithms in Machine Learning’ course, I explored a hybrid approach, combining unsupervised and supervised techniques, and achieved a test accuracy of 0.78. This outperformed the purely supervised base model, which had an accuracy of 0.69. In the conclusion of the final report, I proposed that future research could explore the application of deep learning models, such as Recurrent Neural Networks (RNNs), which may better capture the nuances of same-genre texts, potentially improving test accuracy and providing new insights into authorship attribution.\n",
        "\n",
        "Therefore, in this project, I will explore three deep learning models: LSTM (Long Short-Term Memory, a type of RNN), LSTM with GloVe Embedding, and a fine-tuned BERT model—to see how they perform on author identification within the same genre.\n",
        "\n",
        "### Data\n",
        "The dataset contains text from works of fiction written by three authors: Edgar Allan Poe, HP Lovecraft and Mary Shelley. There are 19,579 entries with three attributes--id, text, and author--in the training set. The 'text' column contains excerpts from horror stories, and the 'author' column indicates who wrote each excerpt.\n",
        "\n",
        "**Data Source** Meg Risdal and Rachael Tatman. Spooky Author Identification. https://kaggle.com/competitions/spooky-author-identification, 2017. Kaggle.\n",
        "\n",
        "**Connect to Kaggle and download the dataset**"
      ]
    },
    {
      "cell_type": "code",
      "source": [
        "# Install Kaggle library\n",
        "!pip install kaggle\n",
        "\n",
        "# Mount Google Drive\n",
        "from google.colab import drive\n",
        "drive.mount('/content/drive')\n",
        "\n",
        "# Make a directory for kaggle\n",
        "!mkdir ~/.kaggle\n",
        "\n",
        "# Copy the kaggle.json file to the directory\n",
        "!cp /content/drive/MyDrive/ColabNotebooks/Kaggle_API_Key/kaggle.json ~/.kaggle/\n",
        "\n",
        "# Change the file permissions to read/write to the owner only\n",
        "!chmod 600 ~/.kaggle/kaggle.json\n",
        "\n",
        "# Download the dataset\n",
        "!kaggle competitions download spooky-author-identification\n",
        "\n",
        "# Unzip the data\n",
        "!unzip spooky-author-identification.zip\n",
        "!unzip train.zip\n",
        "!unzip test.zip\n",
        "!unzip sample_submission.zip"
      ],
      "metadata": {
        "colab": {
          "base_uri": "https://localhost:8080/"
        },
        "collapsed": true,
        "id": "Svgv73E0c7Hy",
        "outputId": "2c61e9ff-5aa4-4b00-fffd-49d7798cc231"
      },
      "execution_count": null,
      "outputs": [
        {
          "output_type": "stream",
          "name": "stdout",
          "text": [
            "Requirement already satisfied: kaggle in /usr/local/lib/python3.11/dist-packages (1.6.17)\n",
            "Requirement already satisfied: six>=1.10 in /usr/local/lib/python3.11/dist-packages (from kaggle) (1.17.0)\n",
            "Requirement already satisfied: certifi>=2023.7.22 in /usr/local/lib/python3.11/dist-packages (from kaggle) (2025.1.31)\n",
            "Requirement already satisfied: python-dateutil in /usr/local/lib/python3.11/dist-packages (from kaggle) (2.8.2)\n",
            "Requirement already satisfied: requests in /usr/local/lib/python3.11/dist-packages (from kaggle) (2.32.3)\n",
            "Requirement already satisfied: tqdm in /usr/local/lib/python3.11/dist-packages (from kaggle) (4.67.1)\n",
            "Requirement already satisfied: python-slugify in /usr/local/lib/python3.11/dist-packages (from kaggle) (8.0.4)\n",
            "Requirement already satisfied: urllib3 in /usr/local/lib/python3.11/dist-packages (from kaggle) (2.3.0)\n",
            "Requirement already satisfied: bleach in /usr/local/lib/python3.11/dist-packages (from kaggle) (6.2.0)\n",
            "Requirement already satisfied: webencodings in /usr/local/lib/python3.11/dist-packages (from bleach->kaggle) (0.5.1)\n",
            "Requirement already satisfied: text-unidecode>=1.3 in /usr/local/lib/python3.11/dist-packages (from python-slugify->kaggle) (1.3)\n",
            "Requirement already satisfied: charset-normalizer<4,>=2 in /usr/local/lib/python3.11/dist-packages (from requests->kaggle) (3.4.1)\n",
            "Requirement already satisfied: idna<4,>=2.5 in /usr/local/lib/python3.11/dist-packages (from requests->kaggle) (3.10)\n",
            "Mounted at /content/drive\n",
            "Downloading spooky-author-identification.zip to /content\n",
            "100% 1.81M/1.81M [00:01<00:00, 1.95MB/s]\n",
            "100% 1.81M/1.81M [00:01<00:00, 1.73MB/s]\n",
            "Archive:  spooky-author-identification.zip\n",
            "  inflating: sample_submission.zip   \n",
            "  inflating: test.zip                \n",
            "  inflating: train.zip               \n",
            "Archive:  train.zip\n",
            "  inflating: train.csv               \n",
            "Archive:  test.zip\n",
            "  inflating: test.csv                \n",
            "Archive:  sample_submission.zip\n",
            "  inflating: sample_submission.csv   \n"
          ]
        }
      ]
    },
    {
      "cell_type": "code",
      "execution_count": 2,
      "metadata": {
        "colab": {
          "base_uri": "https://localhost:8080/"
        },
        "id": "stRH002pcvoI",
        "outputId": "05315aeb-dbd0-4b6f-d29a-ed4b0c738fc6",
        "collapsed": true
      },
      "outputs": [
        {
          "output_type": "stream",
          "name": "stdout",
          "text": [
            "Collecting textstat\n",
            "  Downloading textstat-0.7.5-py3-none-any.whl.metadata (15 kB)\n",
            "Collecting pyphen (from textstat)\n",
            "  Downloading pyphen-0.17.2-py3-none-any.whl.metadata (3.2 kB)\n",
            "Collecting cmudict (from textstat)\n",
            "  Downloading cmudict-1.0.32-py3-none-any.whl.metadata (3.6 kB)\n",
            "Requirement already satisfied: setuptools in /usr/local/lib/python3.11/dist-packages (from textstat) (75.1.0)\n",
            "Requirement already satisfied: importlib-metadata>=5 in /usr/local/lib/python3.11/dist-packages (from cmudict->textstat) (8.6.1)\n",
            "Requirement already satisfied: importlib-resources>=5 in /usr/local/lib/python3.11/dist-packages (from cmudict->textstat) (6.5.2)\n",
            "Requirement already satisfied: zipp>=3.20 in /usr/local/lib/python3.11/dist-packages (from importlib-metadata>=5->cmudict->textstat) (3.21.0)\n",
            "Downloading textstat-0.7.5-py3-none-any.whl (105 kB)\n",
            "\u001b[?25l   \u001b[90m━━━━━━━━━━━━━━━━━━━━━━━━━━━━━━━━━━━━━━━━\u001b[0m \u001b[32m0.0/105.3 kB\u001b[0m \u001b[31m?\u001b[0m eta \u001b[36m-:--:--\u001b[0m\r\u001b[2K   \u001b[90m━━━━━━━━━━━━━━━━━━━━━━━━━━━━━━━━━━━━━━━━\u001b[0m \u001b[32m105.3/105.3 kB\u001b[0m \u001b[31m4.0 MB/s\u001b[0m eta \u001b[36m0:00:00\u001b[0m\n",
            "\u001b[?25hDownloading cmudict-1.0.32-py3-none-any.whl (939 kB)\n",
            "\u001b[2K   \u001b[90m━━━━━━━━━━━━━━━━━━━━━━━━━━━━━━━━━━━━━━━━\u001b[0m \u001b[32m939.4/939.4 kB\u001b[0m \u001b[31m26.1 MB/s\u001b[0m eta \u001b[36m0:00:00\u001b[0m\n",
            "\u001b[?25hDownloading pyphen-0.17.2-py3-none-any.whl (2.1 MB)\n",
            "\u001b[2K   \u001b[90m━━━━━━━━━━━━━━━━━━━━━━━━━━━━━━━━━━━━━━━━\u001b[0m \u001b[32m2.1/2.1 MB\u001b[0m \u001b[31m65.1 MB/s\u001b[0m eta \u001b[36m0:00:00\u001b[0m\n",
            "\u001b[?25hInstalling collected packages: pyphen, cmudict, textstat\n",
            "Successfully installed cmudict-1.0.32 pyphen-0.17.2 textstat-0.7.5\n",
            "Collecting keras_tuner\n",
            "  Downloading keras_tuner-1.4.7-py3-none-any.whl.metadata (5.4 kB)\n",
            "Requirement already satisfied: keras in /usr/local/lib/python3.11/dist-packages (from keras_tuner) (3.8.0)\n",
            "Requirement already satisfied: packaging in /usr/local/lib/python3.11/dist-packages (from keras_tuner) (24.2)\n",
            "Requirement already satisfied: requests in /usr/local/lib/python3.11/dist-packages (from keras_tuner) (2.32.3)\n",
            "Collecting kt-legacy (from keras_tuner)\n",
            "  Downloading kt_legacy-1.0.5-py3-none-any.whl.metadata (221 bytes)\n",
            "Requirement already satisfied: absl-py in /usr/local/lib/python3.11/dist-packages (from keras->keras_tuner) (1.4.0)\n",
            "Requirement already satisfied: numpy in /usr/local/lib/python3.11/dist-packages (from keras->keras_tuner) (2.0.2)\n",
            "Requirement already satisfied: rich in /usr/local/lib/python3.11/dist-packages (from keras->keras_tuner) (13.9.4)\n",
            "Requirement already satisfied: namex in /usr/local/lib/python3.11/dist-packages (from keras->keras_tuner) (0.0.8)\n",
            "Requirement already satisfied: h5py in /usr/local/lib/python3.11/dist-packages (from keras->keras_tuner) (3.12.1)\n",
            "Requirement already satisfied: optree in /usr/local/lib/python3.11/dist-packages (from keras->keras_tuner) (0.14.1)\n",
            "Requirement already satisfied: ml-dtypes in /usr/local/lib/python3.11/dist-packages (from keras->keras_tuner) (0.4.1)\n",
            "Requirement already satisfied: charset-normalizer<4,>=2 in /usr/local/lib/python3.11/dist-packages (from requests->keras_tuner) (3.4.1)\n",
            "Requirement already satisfied: idna<4,>=2.5 in /usr/local/lib/python3.11/dist-packages (from requests->keras_tuner) (3.10)\n",
            "Requirement already satisfied: urllib3<3,>=1.21.1 in /usr/local/lib/python3.11/dist-packages (from requests->keras_tuner) (2.3.0)\n",
            "Requirement already satisfied: certifi>=2017.4.17 in /usr/local/lib/python3.11/dist-packages (from requests->keras_tuner) (2025.1.31)\n",
            "Requirement already satisfied: typing-extensions>=4.5.0 in /usr/local/lib/python3.11/dist-packages (from optree->keras->keras_tuner) (4.12.2)\n",
            "Requirement already satisfied: markdown-it-py>=2.2.0 in /usr/local/lib/python3.11/dist-packages (from rich->keras->keras_tuner) (3.0.0)\n",
            "Requirement already satisfied: pygments<3.0.0,>=2.13.0 in /usr/local/lib/python3.11/dist-packages (from rich->keras->keras_tuner) (2.18.0)\n",
            "Requirement already satisfied: mdurl~=0.1 in /usr/local/lib/python3.11/dist-packages (from markdown-it-py>=2.2.0->rich->keras->keras_tuner) (0.1.2)\n",
            "Downloading keras_tuner-1.4.7-py3-none-any.whl (129 kB)\n",
            "\u001b[2K   \u001b[90m━━━━━━━━━━━━━━━━━━━━━━━━━━━━━━━━━━━━━━━━\u001b[0m \u001b[32m129.1/129.1 kB\u001b[0m \u001b[31m4.5 MB/s\u001b[0m eta \u001b[36m0:00:00\u001b[0m\n",
            "\u001b[?25hDownloading kt_legacy-1.0.5-py3-none-any.whl (9.6 kB)\n",
            "Installing collected packages: kt-legacy, keras_tuner\n",
            "Successfully installed keras_tuner-1.4.7 kt-legacy-1.0.5\n"
          ]
        },
        {
          "output_type": "stream",
          "name": "stderr",
          "text": [
            "<ipython-input-2-c0005275ccb6>:33: DeprecationWarning: `import kerastuner` is deprecated, please use `import keras_tuner`.\n",
            "  from kerastuner.tuners import BayesianOptimization\n"
          ]
        }
      ],
      "source": [
        "!pip install textstat\n",
        "!pip install keras_tuner\n",
        "\n",
        "# Load Important packages\n",
        "import pandas as pd\n",
        "import numpy as np\n",
        "import matplotlib.pyplot as plt\n",
        "import seaborn as sns\n",
        "import math\n",
        "\n",
        "# Feature Engineering and EDA\n",
        "import re\n",
        "import spacy\n",
        "import textstat\n",
        "from scipy.stats import f_oneway\n",
        "from statsmodels.stats.multicomp import pairwise_tukeyhsd\n",
        "import sklearn\n",
        "from sklearn.feature_extraction.text import CountVectorizer\n",
        "\n",
        "# Modeling\n",
        "import tensorflow as tf\n",
        "import tensorflow_hub as hub\n",
        "import tensorflow_text as text\n",
        "from tensorflow import keras\n",
        "from keras.models import Model, Sequential\n",
        "from keras.layers import Input, Embedding, SpatialDropout1D, Bidirectional, LSTM, GlobalMaxPooling1D\n",
        "from keras.layers import Dropout, Dense, TextVectorization, Concatenate\n",
        "from keras.optimizers import Adam\n",
        "from keras.losses import SparseCategoricalCrossentropy\n",
        "from keras.callbacks import EarlyStopping, ModelCheckpoint, ReduceLROnPlateau, Callback\n",
        "from keras.regularizers import L2\n",
        "import keras_tuner\n",
        "from kerastuner.tuners import BayesianOptimization\n",
        "from sklearn.model_selection import train_test_split\n",
        "from sklearn.metrics import log_loss, classification_report\n",
        "from sklearn.utils.class_weight import compute_class_weight\n",
        "from sklearn.preprocessing import StandardScaler\n",
        "from keras.saving import register_keras_serializable\n"
      ]
    },
    {
      "cell_type": "code",
      "execution_count": null,
      "metadata": {
        "id": "RonpJqoEcvoK"
      },
      "outputs": [],
      "source": [
        "# Load the data\n",
        "train = pd.read_csv('/content/train.csv')\n",
        "test = pd.read_csv('/content/test.csv')\n",
        "sample_submission = pd.read_csv('/content/sample_submission.csv')"
      ]
    },
    {
      "cell_type": "code",
      "execution_count": null,
      "metadata": {
        "colab": {
          "base_uri": "https://localhost:8080/"
        },
        "id": "cq3GMWp4cvoK",
        "outputId": "b86006b5-c18d-43f9-d1f9-eec565a083ac"
      },
      "outputs": [
        {
          "output_type": "stream",
          "name": "stdout",
          "text": [
            "<class 'pandas.core.frame.DataFrame'>\n",
            "RangeIndex: 19579 entries, 0 to 19578\n",
            "Data columns (total 3 columns):\n",
            " #   Column  Non-Null Count  Dtype \n",
            "---  ------  --------------  ----- \n",
            " 0   id      19579 non-null  object\n",
            " 1   text    19579 non-null  object\n",
            " 2   author  19579 non-null  object\n",
            "dtypes: object(3)\n",
            "memory usage: 459.0+ KB\n",
            "None\n",
            "        id                                                         text author\n",
            "0  id26305  This process, however, afforded me no means of ascertain...    EAP\n",
            "1  id17569  It never once occurred to me that the fumbling might be ...    HPL\n",
            "2  id11008  In his left hand was a gold snuff box, from which, as he...    EAP\n",
            "3  id27763  How lovely is spring As we looked from Windsor Terrace o...    MWS\n",
            "4  id12958  Finding nothing else, not even gold, the Superintendent ...    HPL\n"
          ]
        }
      ],
      "source": [
        "# Take a look at the data\n",
        "pd.set_option('display.max_colwidth', 60)\n",
        "print(train.info())\n",
        "print(train.head())"
      ]
    },
    {
      "cell_type": "markdown",
      "metadata": {
        "id": "ne65Z10wcvoK"
      },
      "source": [
        "# Exploratory Data Analysis (EDA)\n",
        "\n",
        "I will perform exploratory data analysis, which includes **inspecting, cleaning, and visualizing** the data, followed by **preparing the text data for modeling**."
      ]
    },
    {
      "cell_type": "code",
      "execution_count": null,
      "metadata": {
        "colab": {
          "base_uri": "https://localhost:8080/",
          "height": 428
        },
        "id": "BfVyM-oXcvoL",
        "outputId": "a6d24632-2e76-4b57-f852-5b6122960a3e"
      },
      "outputs": [
        {
          "output_type": "display_data",
          "data": {
            "text/plain": [
              "<Figure size 640x480 with 1 Axes>"
            ],
            "image/png": "[encoded data removed]"
          },
          "metadata": {}
        }
      ],
      "source": [
        "# Check the ratio of the text from different authors (The target labels)\n",
        "labels = train.author.replace(['EAP', 'MWS', 'HPL'], ['Edgar Allan Poe', 'Mary Shelley', 'HP Lovecraft']).value_counts().index\n",
        "values = train.author.replace(['EAP', 'MWS', 'HPL'], ['Edgar Allan Poe', 'Mary Shelley', 'HP Lovecraft']).value_counts().values\n",
        "\n",
        "plt.pie(values, labels = labels, colors = ['skyblue', 'lightsalmon', 'wheat'], autopct = '%1.0f%%')\n",
        "plt.title('Ratio of Authors');"
      ]
    },
    {
      "cell_type": "markdown",
      "metadata": {
        "id": "MDgWONo4cvoL"
      },
      "source": [
        "The dataset is roughly balanced, with about 10% more texts written by Edgar Allan Poe compared to the other two authors.  \n",
        "\n",
        "The data type of the target variable 'author' is object, which may pose a challenge for calculating model performance later. I will create a new column, 'author_encoded', using the integers 0, 1, and 2 to represent the authors."
      ]
    },
    {
      "cell_type": "code",
      "execution_count": null,
      "metadata": {
        "id": "LG1lWmNRcvoM"
      },
      "outputs": [],
      "source": [
        "# Create a new column of 'anthor_encoded'\n",
        "author_mapping = {'EAP': 0, 'MWS': 1, 'HPL': 2}\n",
        "train['author_encoded'] = train['author'].map(author_mapping)"
      ]
    },
    {
      "cell_type": "code",
      "execution_count": null,
      "metadata": {
        "colab": {
          "base_uri": "https://localhost:8080/"
        },
        "id": "O0XE74zpcvoM",
        "outputId": "427277e8-0af3-41e8-c4f7-07a4b000be1f"
      },
      "outputs": [
        {
          "output_type": "stream",
          "name": "stdout",
          "text": [
            "There are  0 duplicated rows.\n"
          ]
        }
      ],
      "source": [
        "# Check if there is duplicated rows\n",
        "print('There are ', train.duplicated(subset = ['text']).sum(), 'duplicated rows.')"
      ]
    },
    {
      "cell_type": "code",
      "execution_count": null,
      "metadata": {
        "colab": {
          "base_uri": "https://localhost:8080/"
        },
        "id": "XCJPvCJ7cvoN",
        "outputId": "716c665e-2eca-4fe1-aa32-785e2509d351"
      },
      "outputs": [
        {
          "output_type": "stream",
          "name": "stdout",
          "text": [
            "EAP\n",
            "1883     Observing my partiality for domestic pets, she lost no opportunity of procuring those of the most agreeable kind.   ...\n",
            "12131    I dreaded the first glance at objects around me.                                                                    ...\n",
            "8065     The difficulty of breathing, however, was diminished in a very slight degree, and I found that it would soon be posi...\n",
            "5595     During the whole of the day I continued to near the ice.                                                            ...\n",
            "114      Yet all these appearances have been given I beg pardon will be given by the learned of future ages, to the Ashimah o...\n",
            "Name: text, dtype: object\n",
            "\n",
            "HPL\n",
            "7292     And the cities of Cathuria are cinctured with golden walls, and their pavements also are of gold.                   ...\n",
            "19073    Upon the death of Theodoric in , Ibidus retired from public life to compose his celebrated work whose pure Ciceronia...\n",
            "13835    The evilly grinning beldame still clutched him, and beyond the table stood a figure he had never seen before a tall,...\n",
            "14020    After an hour his furtive taciturnity shewed signs of disappearing, but much to my disappointment he still sidetrack...\n",
            "822      This I perceived with unhealthy sharpness despite the fact that two of my other senses were violently assailed.     ...\n",
            "Name: text, dtype: object\n",
            "\n",
            "MWS\n",
            "5605     A residence in Turkey was abhorrent to her; her religion and her feelings were alike averse to it.                  ...\n",
            "5556     But he is generally melancholy and despairing, and sometimes he gnashes his teeth, as if impatient of the weight of ...\n",
            "15481    This lady died, but her lessons were indelibly impressed on the mind of Safie, who sickened at the prospect of again...\n",
            "18936    Think you that the groans of Clerval were music to my ears?                                                         ...\n",
            "776      Cast off the only gift that I have bestowed upon you, your grief, and rise from under my blighting influence as no f...\n",
            "Name: text, dtype: object\n",
            "\n"
          ]
        }
      ],
      "source": [
        "# Take a look at the text from each author\n",
        "pd.set_option('display.max_colwidth', 120)\n",
        "for category, group in train.groupby('author'):\n",
        "    print(category)\n",
        "    print(group['text'].str.ljust(120).sample(5))\n",
        "    print()"
      ]
    },
    {
      "cell_type": "code",
      "execution_count": null,
      "metadata": {
        "colab": {
          "base_uri": "https://localhost:8080/"
        },
        "id": "R6ouGysCcvoN",
        "outputId": "6db6395e-03e5-4948-e4a7-078875fc74bc"
      },
      "outputs": [
        {
          "output_type": "stream",
          "name": "stdout",
          "text": [
            "There are  0 text contains digit.\n"
          ]
        }
      ],
      "source": [
        "# Check if there are digits in the text\n",
        "print('There are ', len(train[train['text'].str.contains(r'\\d+')]), 'text contains digit.')"
      ]
    },
    {
      "cell_type": "markdown",
      "metadata": {
        "id": "NxdXC9u3cvoN"
      },
      "source": [
        "The text data appears clean, so I will skip the data cleaning.\n",
        "  \n",
        "  \n",
        "### Feature Engineering  \n",
        "    \n",
        "I will explore the linguistic features which reflect the writing style of different authors through the following perspectives:    \n",
        "\n",
        "1. **Flesch Reading Ease score**: a score that measures how easy a text is to read. The higher the score, the easier it is to understand the document.\n",
        "\n",
        "2. **Gunning Fog Index**: a readability test for English writing. The index estimates the years of formal education a person needs to understand the text on the first reading.\n",
        "\n",
        "3. **Sentence Length**: the average length of sentences in a text.\n",
        "\n",
        "4. **Word Length**: the average length of words used by the authors.\n",
        "\n",
        "5. **POS Tags Distribution**: frequencies of part-of-speech (POS) tags like nouns, verbs, adjectives, and adverbs.\n",
        "  \n",
        "6. **Usage of Function Words**: the ratio of function words to the total number of words.  \n",
        "  \n",
        "7. **Type-Token Ratio**: the ratio of unique words (types) to the total number of words (tokens) in a text.  \n",
        "  \n",
        "8. **Word Frequency**: the frequency of words used by the authors.  "
      ]
    },
    {
      "cell_type": "code",
      "execution_count": null,
      "metadata": {
        "id": "kQuLDteUcvoO"
      },
      "outputs": [],
      "source": [
        "# Load spaCy's English model\n",
        "nlp = spacy.load('en_core_web_sm')\n",
        "\n",
        "# Define the function POS tags for function words\n",
        "function_pos = {\"DET\", \"PRON\", \"ADP\", \"CONJ\", \"AUX\", \"CCONJ\", \"SCONJ\", \"PART\", \"INTJ\"}\n",
        "\n",
        "# Define a function to extract features reflecting writing styles\n",
        "def linguistic_features(text):\n",
        "    # Flesch Reading Ease score\n",
        "    flesch_reading_ease = textstat.flesch_reading_ease(text)\n",
        "\n",
        "    # Gunning For Index\n",
        "    gunning_fog_index = textstat.gunning_fog(text)\n",
        "\n",
        "    # Creating a Doc container using spaCy package\n",
        "    text = text.lower()\n",
        "    doc = nlp(text)\n",
        "\n",
        "    # Sentence length\n",
        "    sentence_length = [len(sent) for sent in doc.sents]\n",
        "    sentence_length_avg = np.mean(sentence_length) if sentence_length else 0\n",
        "\n",
        "    # Word length\n",
        "    word_length = [len(token.text) for token in doc if token.is_alpha]\n",
        "    word_length_avg = np.mean(word_length) if word_length else 0\n",
        "\n",
        "     # Count total words and unique words\n",
        "    tokens = [token.text for token in doc if token.is_alpha]\n",
        "    total_words = len(tokens)\n",
        "    unique_words = len(set(tokens))\n",
        "\n",
        "    # Count nouns, verbs, adj, adv, function words, and unique words\n",
        "    count_nouns = len([token.text for token in doc if token.pos_ == 'NOUN'])\n",
        "    count_verbs = len([token.text for token in doc if token.pos_ == 'VERB'])\n",
        "    count_adj = len([token.text for token in doc if token.pos_ == 'ADJ'])\n",
        "    count_adv = len([token.text for token in doc if token.pos_ == 'ADV'])\n",
        "    count_function_words = len([token.text for token in doc if (token.is_alpha and token.pos_ in function_pos)])\n",
        "\n",
        "    # Calculate ratios\n",
        "    nouns_ratio =  count_nouns / total_words if total_words > 0 else 0\n",
        "    verbs_ratio =  count_verbs / total_words if total_words > 0 else 0\n",
        "    adj_ratio =  count_adj / total_words if total_words > 0 else 0\n",
        "    adv_ratio =  count_adv / total_words if total_words > 0 else 0\n",
        "    function_words_ratio = count_function_words / total_words if total_words > 0 else 0\n",
        "    type_token_ratio = unique_words / total_words if total_words > 0 else 0\n",
        "\n",
        "    return flesch_reading_ease, gunning_fog_index, sentence_length_avg, word_length_avg, nouns_ratio, verbs_ratio, adj_ratio, adv_ratio, function_words_ratio, type_token_ratio\n"
      ]
    },
    {
      "cell_type": "code",
      "execution_count": null,
      "metadata": {
        "id": "L-GKK2cYcvoO"
      },
      "outputs": [],
      "source": [
        "# Extract linguistic features of text data in training set\n",
        "lingu_feature_train = train['text'].apply(linguistic_features).apply(pd.Series)\n",
        "lingu_feature_train.columns = ['flesch_reading', 'gunning_fog', 'sent_len', 'word_len', 'noun_freq',\n",
        "                               'verb_freq', 'adj_freq', 'adv_freq', 'funct_word', 'type_token']\n",
        "\n",
        "train = pd.concat([train, lingu_feature_train], axis = 1)"
      ]
    },
    {
      "cell_type": "code",
      "execution_count": null,
      "metadata": {
        "id": "yAHy5BXUcvoO"
      },
      "outputs": [],
      "source": [
        "# Extract linguistic features of text data in test set\n",
        "lingu_feature_test = test['text'].apply(linguistic_features).apply(pd.Series)\n",
        "lingu_feature_test.columns = ['flesch_reading', 'gunning_fog', 'sent_len', 'word_len', 'noun_freq',\n",
        "                               'verb_freq', 'adj_freq', 'adv_freq', 'funct_word', 'type_token']\n",
        "\n",
        "test = pd.concat([test, lingu_feature_test], axis = 1)"
      ]
    },
    {
      "cell_type": "code",
      "execution_count": null,
      "metadata": {
        "id": "IxKFgFiDcvoP",
        "colab": {
          "base_uri": "https://localhost:8080/",
          "height": 540
        },
        "outputId": "c7d6b8c1-1480-4660-9a2e-3da750a44ab1"
      },
      "outputs": [
        {
          "output_type": "display_data",
          "data": {
            "text/plain": [
              "<Figure size 1600x800 with 10 Axes>"
            ],
            "image/png": "[encoded data removed]"
          },
          "metadata": {}
        }
      ],
      "source": [
        "# Create a figure with 10 subplots (2 rows and 5 columns)\n",
        "fig, axs = plt.subplots(nrows = 2, ncols = 5, figsize = [16, 8])\n",
        "plt.subplots_adjust(wspace = 0.3)\n",
        "\n",
        "# Flatten the axs for easy iteration\n",
        "axs = axs.flatten()\n",
        "\n",
        "# The column names of linguistic features\n",
        "lingu_cols = ['flesch_reading', 'gunning_fog', 'sent_len', 'word_len', 'noun_freq',\n",
        "            'verb_freq', 'adj_freq', 'adv_freq', 'funct_word', 'type_token']\n",
        "\n",
        "# Plot the linguistic features\n",
        "for i, col in enumerate(lingu_cols):\n",
        "    sns.boxplot(data = train, x = 'author', y = col, hue = 'author',\n",
        "                palette = ['skyblue', 'lightsalmon', 'wheat'], ax = axs[i])\n",
        "    axs[i].set_ylabel('')\n",
        "    axs[i].set_xlabel('')\n",
        "    axs[i].set_title(col);"
      ]
    },
    {
      "cell_type": "markdown",
      "metadata": {
        "id": "IuNO_Og8cvoP"
      },
      "source": [
        "The plots above show slight deviations among authors in terms of linguistic features, but these differences are not very pronounced.\n",
        "\n",
        "I will use an ANOVA test to determine if there are statistically significant differences between the means of these features across the author groups, setting $\\alpha$ = 0.05."
      ]
    },
    {
      "cell_type": "code",
      "execution_count": null,
      "metadata": {
        "colab": {
          "base_uri": "https://localhost:8080/"
        },
        "id": "3hB-xurbcvoQ",
        "outputId": "799e4c3c-07fd-453e-88c9-70a4ed5bb3e4"
      },
      "outputs": [
        {
          "output_type": "stream",
          "name": "stdout",
          "text": [
            "Feature: flesch_reading, P-value:  0.067\n",
            "Feature: gunning_fog, P-value:  0.000\n",
            "Feature: sent_len, P-value:  0.000\n",
            "Feature: word_len, P-value:  0.000\n",
            "Feature: noun_freq, P-value:  0.002\n",
            "Feature: verb_freq, P-value:  0.000\n",
            "Feature: adj_freq, P-value:  0.000\n",
            "Feature: adv_freq, P-value:  0.000\n",
            "Feature: funct_word, P-value:  0.000\n",
            "Feature: type_token, P-value:  0.002\n"
          ]
        }
      ],
      "source": [
        "# Group the data by 'author'\n",
        "authors = train['author'].unique()\n",
        "\n",
        "# Apply ANOVA for each continuous feature across the author groups\n",
        "for feature in lingu_cols:\n",
        "    # Create groups for each author\n",
        "    groups = [train[train['author'] == author][feature] for author in authors]\n",
        "\n",
        "    # Perform one-way ANOVA\n",
        "    f_statistic, p_value = f_oneway(*groups)\n",
        "\n",
        "    # Print results\n",
        "    print(f\"Feature: {feature}, P-value: {p_value: .3f}\")"
      ]
    },
    {
      "cell_type": "markdown",
      "metadata": {
        "id": "uPKr_QYDcvoQ"
      },
      "source": [
        "Most of the p-values are less than 0.05, suggesting that there are statistically significant differences among the means of these features across the author groups, except for the Flesch Reading Score which has a p-value of 0.067. I will remove 'flesch_reading' from the training and test set, and keep the rest linguistic features.\n",
        "\n",
        "However, the ANOVA test only tells us that there are differences between the groups, but it doesn't specify which groups differ or in what way. I will use Tukey HSD to uncover more details."
      ]
    },
    {
      "cell_type": "code",
      "execution_count": null,
      "metadata": {
        "id": "9B6lNEeAcvoQ"
      },
      "outputs": [],
      "source": [
        "# Drop the column 'flesch_reading'\n",
        "train = train.drop(columns = ['flesch_reading'])\n",
        "test = test.drop(columns = ['flesch_reading'])"
      ]
    },
    {
      "cell_type": "code",
      "execution_count": null,
      "metadata": {
        "colab": {
          "base_uri": "https://localhost:8080/"
        },
        "id": "w6K-63WXcvoQ",
        "outputId": "059683b7-89fb-4806-dd30-c3363edd58d4"
      },
      "outputs": [
        {
          "output_type": "stream",
          "name": "stdout",
          "text": [
            "gunning_fog\n",
            "Multiple Comparison of Means - Tukey HSD, FWER=0.05\n",
            "==================================================\n",
            "group1 group2 meandiff p-adj  lower  upper  reject\n",
            "--------------------------------------------------\n",
            "   EAP    HPL    0.376 0.0199 0.0477 0.7043   True\n",
            "   EAP    MWS   0.5817 0.0001   0.26 0.9034   True\n",
            "   HPL    MWS   0.2057   0.35 -0.143 0.5543  False\n",
            "--------------------------------------------------\n",
            "\n",
            "sent_len\n",
            "Multiple Comparison of Means - Tukey HSD, FWER=0.05\n",
            "===================================================\n",
            "group1 group2 meandiff p-adj   lower  upper  reject\n",
            "---------------------------------------------------\n",
            "   EAP    HPL   1.9877    0.0  1.2287 2.7467   True\n",
            "   EAP    MWS   1.8321    0.0  1.0883  2.576   True\n",
            "   HPL    MWS  -0.1556 0.8933 -0.9616 0.6505  False\n",
            "---------------------------------------------------\n",
            "\n",
            "word_len\n",
            "Multiple Comparison of Means - Tukey HSD, FWER=0.05 \n",
            "====================================================\n",
            "group1 group2 meandiff p-adj   lower   upper  reject\n",
            "----------------------------------------------------\n",
            "   EAP    HPL   0.0365 0.0009  0.0128  0.0602   True\n",
            "   EAP    MWS  -0.0251 0.0305 -0.0483 -0.0019   True\n",
            "   HPL    MWS  -0.0616    0.0 -0.0867 -0.0364   True\n",
            "----------------------------------------------------\n",
            "\n",
            "noun_freq\n",
            "Multiple Comparison of Means - Tukey HSD, FWER=0.05 \n",
            "====================================================\n",
            "group1 group2 meandiff p-adj   lower   upper  reject\n",
            "----------------------------------------------------\n",
            "   EAP    HPL   0.0047 0.0018  0.0015  0.0079   True\n",
            "   EAP    MWS   0.0007 0.8535 -0.0024  0.0039  False\n",
            "   HPL    MWS   -0.004 0.0172 -0.0074 -0.0006   True\n",
            "----------------------------------------------------\n",
            "\n",
            "verb_freq\n",
            "Multiple Comparison of Means - Tukey HSD, FWER=0.05\n",
            "=================================================\n",
            "group1 group2 meandiff p-adj lower  upper  reject\n",
            "-------------------------------------------------\n",
            "   EAP    HPL     0.01   0.0 0.0074 0.0126   True\n",
            "   EAP    MWS   0.0182   0.0 0.0156 0.0207   True\n",
            "   HPL    MWS   0.0082   0.0 0.0054 0.0109   True\n",
            "-------------------------------------------------\n",
            "\n",
            "adj_freq\n",
            "Multiple Comparison of Means - Tukey HSD, FWER=0.05\n",
            "===================================================\n",
            "group1 group2 meandiff p-adj  lower   upper  reject\n",
            "---------------------------------------------------\n",
            "   EAP    HPL   0.0141   0.0  0.0115  0.0168   True\n",
            "   EAP    MWS  -0.0064   0.0  -0.009 -0.0038   True\n",
            "   HPL    MWS  -0.0206   0.0 -0.0233 -0.0178   True\n",
            "---------------------------------------------------\n",
            "\n",
            "adv_freq\n",
            "Multiple Comparison of Means - Tukey HSD, FWER=0.05 \n",
            "====================================================\n",
            "group1 group2 meandiff p-adj   lower   upper  reject\n",
            "----------------------------------------------------\n",
            "   EAP    HPL  -0.0045 0.0001  -0.007  -0.002   True\n",
            "   EAP    MWS  -0.0193    0.0 -0.0218 -0.0168   True\n",
            "   HPL    MWS  -0.0148    0.0 -0.0175 -0.0122   True\n",
            "----------------------------------------------------\n",
            "\n",
            "funct_word\n",
            "Multiple Comparison of Means - Tukey HSD, FWER=0.05\n",
            "===================================================\n",
            "group1 group2 meandiff p-adj  lower   upper  reject\n",
            "---------------------------------------------------\n",
            "   EAP    HPL  -0.0257   0.0 -0.0295 -0.0219   True\n",
            "   EAP    MWS   0.0139   0.0  0.0102  0.0176   True\n",
            "   HPL    MWS   0.0396   0.0  0.0356  0.0436   True\n",
            "---------------------------------------------------\n",
            "\n",
            "type_token\n",
            "Multiple Comparison of Means - Tukey HSD, FWER=0.05 \n",
            "====================================================\n",
            "group1 group2 meandiff p-adj   lower   upper  reject\n",
            "----------------------------------------------------\n",
            "   EAP    HPL   0.0006 0.9081 -0.0029  0.0042  False\n",
            "   EAP    MWS  -0.0045 0.0072  -0.008  -0.001   True\n",
            "   HPL    MWS  -0.0051 0.0043 -0.0089 -0.0013   True\n",
            "----------------------------------------------------\n",
            "\n"
          ]
        }
      ],
      "source": [
        "columns = ['gunning_fog', 'sent_len', 'word_len', 'noun_freq',\n",
        "            'verb_freq', 'adj_freq', 'adv_freq', 'funct_word', 'type_token']\n",
        "\n",
        "# Perform TukeyHSD\n",
        "for col in columns:\n",
        "    tukey = pairwise_tukeyhsd(endog = train[col], groups = train['author'], alpha = 0.05)\n",
        "    print(col)\n",
        "    print(tukey)\n",
        "    print()"
      ]
    },
    {
      "cell_type": "markdown",
      "metadata": {
        "id": "pviwkPThcvoR"
      },
      "source": [
        "The Tukey HSD results show that:\n",
        "\n",
        "* Texts by EAP are more difficult to read (higher Gunning Fog Index) and contain longer sentences than those by the other two authors.\n",
        "* MWS tends to use longer words, followed by EAP, then HPL.\n",
        "* EAP uses more nouns and verbs; MWS uses more nouns, adjectives, and adverbs; HPL uses more function words.\n",
        "* MWS has the highest type-token ratio.\n",
        "  \n",
        "Now, let's check the authors' preference for particular vocabularies.    "
      ]
    },
    {
      "cell_type": "code",
      "execution_count": null,
      "metadata": {
        "id": "weNR3Qu3cvoR"
      },
      "outputs": [],
      "source": [
        "# Rename the column 'author' to avoid ambiguous ('author' could be both an index level and a column label in 'doc_term_df' below)\n",
        "train.rename(columns = {'author': 'Author'}, inplace = True)\n",
        "\n",
        "# Create a count vectorizer\n",
        "cv = CountVectorizer(ngram_range = (1, 2), stop_words = 'english', min_df = 2)\n",
        "\n",
        "# transform the text data in training set to a document-term matrix\n",
        "doc_term_mx = cv.fit_transform(train['text'])\n",
        "\n",
        "# Convert the document-term matrix to a DataFrame\n",
        "doc_term_df = pd.DataFrame(doc_term_mx.toarray(), columns = cv.get_feature_names_out(),\n",
        "                         index = train['Author'])\n",
        "\n",
        "# Group by author and sum the value for each author\n",
        "author_term = doc_term_df.groupby('Author').sum()\n",
        "author_term = author_term.reset_index()\n"
      ]
    },
    {
      "cell_type": "code",
      "execution_count": null,
      "metadata": {
        "id": "eWQC_-j5cvoR"
      },
      "outputs": [],
      "source": [
        "# Define a function to plot top n-grams\n",
        "def plot_top_ngrams(author, n_gram, top_n, ax):\n",
        "    df = author_term[author_term['Author'] == author].drop(columns = 'Author').T\n",
        "    df.columns = ['Frequency']\n",
        "    ngrams = [ngram for ngram in df.index if len(ngram.split()) == n_gram]\n",
        "    df_ngrams = df.loc[ngrams, 'Frequency'].sort_values(ascending = False).head(top_n).to_frame()\n",
        "\n",
        "    sns.barplot(x = df_ngrams['Frequency'], y = df_ngrams.index, color = 'skyblue', ax = ax)\n",
        "    ax.set_title(f'Top {top_n} {n_gram}-grams from {author}')\n",
        "    ax.set_ylabel('')\n",
        "\n",
        "    return ax\n"
      ]
    },
    {
      "cell_type": "code",
      "execution_count": null,
      "metadata": {
        "colab": {
          "base_uri": "https://localhost:8080/",
          "height": 405
        },
        "id": "dj3JCj2ccvoR",
        "outputId": "68a8b342-1ceb-4d6b-cd28-e09172566bef"
      },
      "outputs": [
        {
          "output_type": "display_data",
          "data": {
            "text/plain": [
              "<Figure size 1200x400 with 3 Axes>"
            ],
            "image/png": "[encoded data removed]"
          },
          "metadata": {}
        }
      ],
      "source": [
        "# Plot top unigrams\n",
        "fig, ax = plt.subplots(nrows = 1, ncols = 3, figsize = (12, 4))\n",
        "plt.subplots_adjust(wspace = 0.3)\n",
        "\n",
        "for i, author in enumerate(train['Author'].unique()):\n",
        "    plot_top_ngrams(author, 1, 15, ax[i])"
      ]
    },
    {
      "cell_type": "code",
      "execution_count": null,
      "metadata": {
        "colab": {
          "base_uri": "https://localhost:8080/",
          "height": 313
        },
        "id": "GhOE2VHOcvoS",
        "outputId": "51d50d1a-3062-4391-e56f-9355d1b4f3ae"
      },
      "outputs": [
        {
          "output_type": "display_data",
          "data": {
            "text/plain": [
              "<Figure size 1500x400 with 3 Axes>"
            ],
            "image/png": "[encoded data removed]"
          },
          "metadata": {}
        }
      ],
      "source": [
        "# Plot top bigrams\n",
        "fig, ax = plt.subplots(nrows = 1, ncols = 3, figsize = (15, 4))\n",
        "plt.subplots_adjust(wspace = 0.5)\n",
        "\n",
        "for i, author in enumerate(train['Author'].unique()):\n",
        "    plot_top_ngrams(author, 2, 15, ax[i])"
      ]
    },
    {
      "cell_type": "markdown",
      "metadata": {
        "id": "y5gX0w-hcvoS"
      },
      "source": [
        "As we can see from the plots above, there are multiple overlapping top unigrams and even bigrams across the authors. For example: 'old man', 'years ago', and 'long time'. This makes sense, since they all come from the same genre—horror stories."
      ]
    },
    {
      "cell_type": "markdown",
      "metadata": {
        "id": "ldTR4rTjcvoT"
      },
      "source": [
        "##### Summary of EDA  \n",
        "\n",
        "Here is what I have done during the EDA:\n",
        "\n",
        "* Checked the proportion of each target label (author) in the training set and found that the dataset is roughly **balanced**.\n",
        "\n",
        "* Created a new column, 'author_encoded', using integers to represent the authors (**label encoding**) in order to address the challenge of model performance calculation.  \n",
        "  \n",
        "* Reviewed the text data and found it **clean**, so skipped data cleaning.  \n",
        "\n",
        "* Explored **linguistic features** which reflect authors' writing styles through features such as Gunning Fog Index, sentence length, word length, POS Tags Distribution, function word usage, type-token ratio. The results of ANOVA test and TukeyHSD shows that there are statistically significant differences among the means of most linguistic features across the author groups, except for the Flesch Reading Score.\n",
        "\n",
        "* Plotted the **top n-grams** by author and observed several overlapping top unigrams and bigrams across the authors, making the distinction between them relatively small in terms of word frequency.  \n",
        "  \n",
        "**Potential Challenges**:   \n",
        "  \n",
        "The overlap of top n-grams blurs the boundaries between the authors, potentially challenging the performance of models we plan to build"
      ]
    },
    {
      "cell_type": "code",
      "source": [
        "train.to_csv('/content/drive/MyDrive/ColabNotebooks/Spooky_Author_Identification/train.csv', index = False)\n",
        "test.to_csv('/content/drive/MyDrive/ColabNotebooks/Spooky_Author_Identification/test.csv', index = False)"
      ],
      "metadata": {
        "id": "vTirq3r0Gi6s"
      },
      "execution_count": null,
      "outputs": []
    },
    {
      "cell_type": "markdown",
      "metadata": {
        "id": "nnxziDHxcvoT"
      },
      "source": [
        "### Modeling  \n",
        "\n",
        "**Models**\n",
        "\n",
        "\n",
        "* BiLSTM with regularization\n",
        "* BERT Model\n",
        "\n",
        "\n",
        "**Metrics**\n",
        "This is a multi-class classification problem. I will use accuracy as the primary evaluation metric, while log-loss will be used for submissions, as the Kaggle competition evaluates models using multi-class logarithmic loss. Efficiency (wall time) will also be considered if the accuracies of two models are very close.\n"
      ]
    },
    {
      "cell_type": "code",
      "execution_count": 4,
      "metadata": {
        "id": "CNbofuX2cvoT"
      },
      "outputs": [],
      "source": [
        "# Split the training set to training and validation set\n",
        "training_set, validation_set = train_test_split(train, test_size = 0.2, stratify = train['Author'], random_state = 1)"
      ]
    },
    {
      "cell_type": "code",
      "source": [
        "# Check the number of unique words in the text data\n",
        "words = re.sub(r'[^\\w\\s]', '', ' '.join(training_set['text']).lower()).split()\n",
        "vocab_size = len(set(words))\n",
        "vocab_size"
      ],
      "metadata": {
        "colab": {
          "base_uri": "https://localhost:8080/"
        },
        "id": "d9CGx0aizQ9u",
        "outputId": "75242a93-3405-4c78-a48e-661b657325d4"
      },
      "execution_count": 21,
      "outputs": [
        {
          "output_type": "execute_result",
          "data": {
            "text/plain": [
              "23230"
            ]
          },
          "metadata": {},
          "execution_count": 21
        }
      ]
    },
    {
      "cell_type": "code",
      "source": [
        "# Check the length of each text\n",
        "text_length = training_set['text'].str.split().str.len()\n",
        "print(text_length.describe())\n",
        "\n",
        "# Find the 95th percentile\n",
        "sequence_length = int(text_length.quantile(0.95))\n",
        "print(f'95% of texts have {sequence_length} words or fewer.')\n"
      ],
      "metadata": {
        "colab": {
          "base_uri": "https://localhost:8080/"
        },
        "id": "tTOd2yV97izW",
        "outputId": "2981090d-1007-4187-b78f-7450c0399ca9"
      },
      "execution_count": 22,
      "outputs": [
        {
          "output_type": "stream",
          "name": "stdout",
          "text": [
            "count    15663.000000\n",
            "mean        26.726553\n",
            "std         19.472995\n",
            "min          2.000000\n",
            "25%         15.000000\n",
            "50%         23.000000\n",
            "75%         34.000000\n",
            "max        861.000000\n",
            "Name: text, dtype: float64\n",
            "95% of texts have 58 words or fewer.\n"
          ]
        }
      ]
    },
    {
      "cell_type": "markdown",
      "source": [
        "The length of the text data has a wide range, from 2 to 861, with a mean of 27 and a median of 23. Since 95% of texts have 58 words or fewer, I will set the sequence length in the TextVectorization to be 58."
      ],
      "metadata": {
        "id": "JFAIsOUr-ZHW"
      }
    },
    {
      "cell_type": "code",
      "source": [
        "# Create the text vectorizer\n",
        "vectorizer = TextVectorization(\n",
        "    max_tokens = vocab_size,\n",
        "    output_mode = 'int',\n",
        "    output_sequence_length = sequence_length\n",
        ")\n",
        "\n",
        "# Build a vocabulary of all string tokens seen in the training_set['text']\n",
        "vectorizer.adapt(training_set['text'].values)\n",
        "\n",
        "# Vectorize the data\n",
        "training_text = vectorizer(training_set['text'].values)\n",
        "validation_text = vectorizer(validation_set['text'].values)"
      ],
      "metadata": {
        "id": "dbgnVcfi-w2X"
      },
      "execution_count": 23,
      "outputs": []
    },
    {
      "cell_type": "markdown",
      "source": [
        "#### The first Bidirectional LSTM model"
      ],
      "metadata": {
        "id": "RwwsIEX9VmX3"
      }
    },
    {
      "cell_type": "code",
      "source": [
        "# An integer input for vocabulary indices\n",
        "inputs = Input(shape = (None, ), dtype = 'int64')\n",
        "\n",
        "# Embedding layer\n",
        "x = Embedding(vocab_size + 1, 128)(inputs)\n",
        "\n",
        "# Embedding dropout\n",
        "x = SpatialDropout1D(0.1)(x)\n",
        "\n",
        "# Bidirectional LSTM layer\n",
        "x = Bidirectional(LSTM(512, recurrent_dropout = 0.2, return_sequences=True))(x)\n",
        "\n",
        "# Maxpooling layer\n",
        "x = GlobalMaxPooling1D()(x)\n",
        "\n",
        "# Dropout\n",
        "x = Dropout(0.5)(x)\n",
        "\n",
        "# Output\n",
        "outputs = Dense(3, activation = 'softmax')(x)\n",
        "\n",
        "bi_lstm1 = Model(inputs, outputs)\n",
        "bi_lstm1.summary()"
      ],
      "metadata": {
        "colab": {
          "base_uri": "https://localhost:8080/",
          "height": 369
        },
        "id": "IzUh07-lUqPZ",
        "outputId": "2e15d9d1-e710-4e17-c7c9-cb6a51ebb81a"
      },
      "execution_count": null,
      "outputs": [
        {
          "output_type": "display_data",
          "data": {
            "text/plain": [
              "\u001b[1mModel: \"functional\"\u001b[0m\n"
            ],
            "text/html": [
              "<pre style=\"white-space:pre;overflow-x:auto;line-height:normal;font-family:Menlo,'DejaVu Sans Mono',consolas,'Courier New',monospace\"><span style=\"font-weight: bold\">Model: \"functional\"</span>\n",
              "</pre>\n"
            ]
          },
          "metadata": {}
        },
        {
          "output_type": "display_data",
          "data": {
            "text/plain": [
              "┏━━━━━━━━━━━━━━━━━━━━━━━━━━━━━━━━━━━━━━┳━━━━━━━━━━━━━━━━━━━━━━━━━━━━━┳━━━━━━━━━━━━━━━━━┓\n",
              "┃\u001b[1m \u001b[0m\u001b[1mLayer (type)                        \u001b[0m\u001b[1m \u001b[0m┃\u001b[1m \u001b[0m\u001b[1mOutput Shape               \u001b[0m\u001b[1m \u001b[0m┃\u001b[1m \u001b[0m\u001b[1m        Param #\u001b[0m\u001b[1m \u001b[0m┃\n",
              "┡━━━━━━━━━━━━━━━━━━━━━━━━━━━━━━━━━━━━━━╇━━━━━━━━━━━━━━━━━━━━━━━━━━━━━╇━━━━━━━━━━━━━━━━━┩\n",
              "│ input_layer (\u001b[38;5;33mInputLayer\u001b[0m)             │ (\u001b[38;5;45mNone\u001b[0m, \u001b[38;5;45mNone\u001b[0m)                │               \u001b[38;5;34m0\u001b[0m │\n",
              "├──────────────────────────────────────┼─────────────────────────────┼─────────────────┤\n",
              "│ embedding (\u001b[38;5;33mEmbedding\u001b[0m)                │ (\u001b[38;5;45mNone\u001b[0m, \u001b[38;5;45mNone\u001b[0m, \u001b[38;5;34m128\u001b[0m)           │       \u001b[38;5;34m2,973,568\u001b[0m │\n",
              "├──────────────────────────────────────┼─────────────────────────────┼─────────────────┤\n",
              "│ spatial_dropout1d (\u001b[38;5;33mSpatialDropout1D\u001b[0m) │ (\u001b[38;5;45mNone\u001b[0m, \u001b[38;5;45mNone\u001b[0m, \u001b[38;5;34m128\u001b[0m)           │               \u001b[38;5;34m0\u001b[0m │\n",
              "├──────────────────────────────────────┼─────────────────────────────┼─────────────────┤\n",
              "│ bidirectional (\u001b[38;5;33mBidirectional\u001b[0m)        │ (\u001b[38;5;45mNone\u001b[0m, \u001b[38;5;45mNone\u001b[0m, \u001b[38;5;34m1024\u001b[0m)          │       \u001b[38;5;34m2,625,536\u001b[0m │\n",
              "├──────────────────────────────────────┼─────────────────────────────┼─────────────────┤\n",
              "│ global_max_pooling1d                 │ (\u001b[38;5;45mNone\u001b[0m, \u001b[38;5;34m1024\u001b[0m)                │               \u001b[38;5;34m0\u001b[0m │\n",
              "│ (\u001b[38;5;33mGlobalMaxPooling1D\u001b[0m)                 │                             │                 │\n",
              "├──────────────────────────────────────┼─────────────────────────────┼─────────────────┤\n",
              "│ dropout (\u001b[38;5;33mDropout\u001b[0m)                    │ (\u001b[38;5;45mNone\u001b[0m, \u001b[38;5;34m1024\u001b[0m)                │               \u001b[38;5;34m0\u001b[0m │\n",
              "├──────────────────────────────────────┼─────────────────────────────┼─────────────────┤\n",
              "│ dense (\u001b[38;5;33mDense\u001b[0m)                        │ (\u001b[38;5;45mNone\u001b[0m, \u001b[38;5;34m3\u001b[0m)                   │           \u001b[38;5;34m3,075\u001b[0m │\n",
              "└──────────────────────────────────────┴─────────────────────────────┴─────────────────┘\n"
            ],
            "text/html": [
              "<pre style=\"white-space:pre;overflow-x:auto;line-height:normal;font-family:Menlo,'DejaVu Sans Mono',consolas,'Courier New',monospace\">┏━━━━━━━━━━━━━━━━━━━━━━━━━━━━━━━━━━━━━━┳━━━━━━━━━━━━━━━━━━━━━━━━━━━━━┳━━━━━━━━━━━━━━━━━┓\n",
              "┃<span style=\"font-weight: bold\"> Layer (type)                         </span>┃<span style=\"font-weight: bold\"> Output Shape                </span>┃<span style=\"font-weight: bold\">         Param # </span>┃\n",
              "┡━━━━━━━━━━━━━━━━━━━━━━━━━━━━━━━━━━━━━━╇━━━━━━━━━━━━━━━━━━━━━━━━━━━━━╇━━━━━━━━━━━━━━━━━┩\n",
              "│ input_layer (<span style=\"color: #0087ff; text-decoration-color: #0087ff\">InputLayer</span>)             │ (<span style=\"color: #00d7ff; text-decoration-color: #00d7ff\">None</span>, <span style=\"color: #00d7ff; text-decoration-color: #00d7ff\">None</span>)                │               <span style=\"color: #00af00; text-decoration-color: #00af00\">0</span> │\n",
              "├──────────────────────────────────────┼─────────────────────────────┼─────────────────┤\n",
              "│ embedding (<span style=\"color: #0087ff; text-decoration-color: #0087ff\">Embedding</span>)                │ (<span style=\"color: #00d7ff; text-decoration-color: #00d7ff\">None</span>, <span style=\"color: #00d7ff; text-decoration-color: #00d7ff\">None</span>, <span style=\"color: #00af00; text-decoration-color: #00af00\">128</span>)           │       <span style=\"color: #00af00; text-decoration-color: #00af00\">2,973,568</span> │\n",
              "├──────────────────────────────────────┼─────────────────────────────┼─────────────────┤\n",
              "│ spatial_dropout1d (<span style=\"color: #0087ff; text-decoration-color: #0087ff\">SpatialDropout1D</span>) │ (<span style=\"color: #00d7ff; text-decoration-color: #00d7ff\">None</span>, <span style=\"color: #00d7ff; text-decoration-color: #00d7ff\">None</span>, <span style=\"color: #00af00; text-decoration-color: #00af00\">128</span>)           │               <span style=\"color: #00af00; text-decoration-color: #00af00\">0</span> │\n",
              "├──────────────────────────────────────┼─────────────────────────────┼─────────────────┤\n",
              "│ bidirectional (<span style=\"color: #0087ff; text-decoration-color: #0087ff\">Bidirectional</span>)        │ (<span style=\"color: #00d7ff; text-decoration-color: #00d7ff\">None</span>, <span style=\"color: #00d7ff; text-decoration-color: #00d7ff\">None</span>, <span style=\"color: #00af00; text-decoration-color: #00af00\">1024</span>)          │       <span style=\"color: #00af00; text-decoration-color: #00af00\">2,625,536</span> │\n",
              "├──────────────────────────────────────┼─────────────────────────────┼─────────────────┤\n",
              "│ global_max_pooling1d                 │ (<span style=\"color: #00d7ff; text-decoration-color: #00d7ff\">None</span>, <span style=\"color: #00af00; text-decoration-color: #00af00\">1024</span>)                │               <span style=\"color: #00af00; text-decoration-color: #00af00\">0</span> │\n",
              "│ (<span style=\"color: #0087ff; text-decoration-color: #0087ff\">GlobalMaxPooling1D</span>)                 │                             │                 │\n",
              "├──────────────────────────────────────┼─────────────────────────────┼─────────────────┤\n",
              "│ dropout (<span style=\"color: #0087ff; text-decoration-color: #0087ff\">Dropout</span>)                    │ (<span style=\"color: #00d7ff; text-decoration-color: #00d7ff\">None</span>, <span style=\"color: #00af00; text-decoration-color: #00af00\">1024</span>)                │               <span style=\"color: #00af00; text-decoration-color: #00af00\">0</span> │\n",
              "├──────────────────────────────────────┼─────────────────────────────┼─────────────────┤\n",
              "│ dense (<span style=\"color: #0087ff; text-decoration-color: #0087ff\">Dense</span>)                        │ (<span style=\"color: #00d7ff; text-decoration-color: #00d7ff\">None</span>, <span style=\"color: #00af00; text-decoration-color: #00af00\">3</span>)                   │           <span style=\"color: #00af00; text-decoration-color: #00af00\">3,075</span> │\n",
              "└──────────────────────────────────────┴─────────────────────────────┴─────────────────┘\n",
              "</pre>\n"
            ]
          },
          "metadata": {}
        },
        {
          "output_type": "display_data",
          "data": {
            "text/plain": [
              "\u001b[1m Total params: \u001b[0m\u001b[38;5;34m5,602,179\u001b[0m (21.37 MB)\n"
            ],
            "text/html": [
              "<pre style=\"white-space:pre;overflow-x:auto;line-height:normal;font-family:Menlo,'DejaVu Sans Mono',consolas,'Courier New',monospace\"><span style=\"font-weight: bold\"> Total params: </span><span style=\"color: #00af00; text-decoration-color: #00af00\">5,602,179</span> (21.37 MB)\n",
              "</pre>\n"
            ]
          },
          "metadata": {}
        },
        {
          "output_type": "display_data",
          "data": {
            "text/plain": [
              "\u001b[1m Trainable params: \u001b[0m\u001b[38;5;34m5,602,179\u001b[0m (21.37 MB)\n"
            ],
            "text/html": [
              "<pre style=\"white-space:pre;overflow-x:auto;line-height:normal;font-family:Menlo,'DejaVu Sans Mono',consolas,'Courier New',monospace\"><span style=\"font-weight: bold\"> Trainable params: </span><span style=\"color: #00af00; text-decoration-color: #00af00\">5,602,179</span> (21.37 MB)\n",
              "</pre>\n"
            ]
          },
          "metadata": {}
        },
        {
          "output_type": "display_data",
          "data": {
            "text/plain": [
              "\u001b[1m Non-trainable params: \u001b[0m\u001b[38;5;34m0\u001b[0m (0.00 B)\n"
            ],
            "text/html": [
              "<pre style=\"white-space:pre;overflow-x:auto;line-height:normal;font-family:Menlo,'DejaVu Sans Mono',consolas,'Courier New',monospace\"><span style=\"font-weight: bold\"> Non-trainable params: </span><span style=\"color: #00af00; text-decoration-color: #00af00\">0</span> (0.00 B)\n",
              "</pre>\n"
            ]
          },
          "metadata": {}
        }
      ]
    },
    {
      "cell_type": "code",
      "source": [
        "# Compile the model with optimizer, loss function, and metrics\n",
        "bi_lstm1.compile(optimizer = Adam(learning_rate = 0.001),\n",
        "    loss = SparseCategoricalCrossentropy(),\n",
        "    metrics = ['accuracy']\n",
        ")"
      ],
      "metadata": {
        "id": "VNt7yL9Zich3"
      },
      "execution_count": null,
      "outputs": []
    },
    {
      "cell_type": "markdown",
      "source": [
        "I'll define a custom callback called `TemporalAveraging` that performs temporal averaging of model weights at the epoch level. It maintains an exponential moving average (EMA) during training and loads the averaged weights into the model at the end."
      ],
      "metadata": {
        "id": "Uh2lTnbvSz42"
      }
    },
    {
      "cell_type": "code",
      "source": [
        "@register_keras_serializable()\n",
        "class TemporalAveraging(Callback):\n",
        "    def __init__(self, beta=0.99):\n",
        "        super().__init__()\n",
        "        self.beta = beta\n",
        "        self.ema_weights = None\n",
        "        self.epochs = 0\n",
        "\n",
        "    # Initialize EMA weights at the start of training\n",
        "    def on_train_begin(self, logs=None):\n",
        "        self.ema_weights = [w.numpy() for w in self.model.trainable_weights]\n",
        "        self.epochs = 0\n",
        "\n",
        "    # Update EMA weights after each epoch\n",
        "    def on_epoch_end(self, epoch, logs=None):\n",
        "        self.epochs += 1\n",
        "        for i, w in enumerate(self.model.trainable_weights):\n",
        "            current_w = w.numpy()\n",
        "            self.ema_weights[i] = (\n",
        "                self.beta * self.ema_weights[i] + (1.0 - self.beta) * current_w\n",
        "            )\n",
        "\n",
        "    # Load the averaged weights into the model at the end of training\n",
        "    def on_train_end(self, logs=None):\n",
        "        # Correction to counteract bias towards zero at the start\n",
        "        correction = 1.0 - self.beta ** self.epochs if self.epochs > 0 else 1.0\n",
        "        corrected_weights = [w / correction for w in self.ema_weights]\n",
        "\n",
        "        # Update model weights with averaged weights\n",
        "        for w, avg_w in zip(self.model.trainable_weights, corrected_weights):\n",
        "            w.assign(avg_w)\n",
        "\n",
        "    # Returns the config of the callback. Enables serialization and deserialization\n",
        "    def get_config(self):\n",
        "        config = super().get_config()\n",
        "        config.update({\n",
        "            'beta': self.beta,\n",
        "        })\n",
        "        return config"
      ],
      "metadata": {
        "id": "x2KVjs1hPuDh"
      },
      "execution_count": 8,
      "outputs": []
    },
    {
      "cell_type": "code",
      "source": [
        "# Define the other callbacks\n",
        "early_stoppig = EarlyStopping(\n",
        "    monitor = 'val_accuracy',\n",
        "    patience = 5,\n",
        "    verbose = 1,\n",
        "    restore_best_weights = True\n",
        ")\n",
        "\n",
        "check_point = ModelCheckpoint(\n",
        "    filepath = '/content/drive/MyDrive/ColabNotebooks/Spooky_Author_Identification/trained_embedding_lstm1.keras',\n",
        "    monitor = 'val_accuracy',\n",
        "    save_best_only = True\n",
        ")\n",
        "\n",
        "reduced_lr = ReduceLROnPlateau(\n",
        "    monitor = 'val_loss',\n",
        "    factor = 0.5,\n",
        "    patience = 3,\n",
        "    verbose = 1\n",
        ")"
      ],
      "metadata": {
        "id": "dGnoa3VRgfB9"
      },
      "execution_count": 9,
      "outputs": []
    },
    {
      "cell_type": "code",
      "source": [
        "history1 = bi_lstm1.fit(\n",
        "    training_text,\n",
        "    training_set['author_encoded'],\n",
        "    steps_per_epoch = math.ceil(training_set.shape[0] / 64),\n",
        "    batch_size = 64,\n",
        "    validation_data = (validation_text, validation_set['author_encoded']),\n",
        "    validation_steps = math.ceil(validation_set.shape[0] / 64),\n",
        "    epochs = 20,\n",
        "    callbacks = [early_stoppig, check_point, reduced_lr, TemporalAveraging()]\n",
        ")"
      ],
      "metadata": {
        "colab": {
          "base_uri": "https://localhost:8080/"
        },
        "id": "-4ULy6FEWERc",
        "outputId": "8f71ec98-f36e-4a63-dd5d-7a98e1364e3c"
      },
      "execution_count": null,
      "outputs": [
        {
          "output_type": "stream",
          "name": "stdout",
          "text": [
            "Epoch 1/20\n",
            "\u001b[1m245/245\u001b[0m \u001b[32m━━━━━━━━━━━━━━━━━━━━\u001b[0m\u001b[37m\u001b[0m \u001b[1m109s\u001b[0m 425ms/step - accuracy: 0.5101 - loss: 0.9772 - val_accuracy: 0.8085 - val_loss: 0.5106 - learning_rate: 0.0010\n",
            "Epoch 2/20\n",
            "\u001b[1m245/245\u001b[0m \u001b[32m━━━━━━━━━━━━━━━━━━━━\u001b[0m\u001b[37m\u001b[0m \u001b[1m136s\u001b[0m 410ms/step - accuracy: 0.8809 - loss: 0.3353 - val_accuracy: 0.8322 - val_loss: 0.4305 - learning_rate: 0.0010\n",
            "Epoch 3/20\n",
            "\u001b[1m245/245\u001b[0m \u001b[32m━━━━━━━━━━━━━━━━━━━━\u001b[0m\u001b[37m\u001b[0m \u001b[1m106s\u001b[0m 435ms/step - accuracy: 0.9472 - loss: 0.1541 - val_accuracy: 0.8368 - val_loss: 0.4759 - learning_rate: 0.0010\n",
            "Epoch 4/20\n",
            "\u001b[1m245/245\u001b[0m \u001b[32m━━━━━━━━━━━━━━━━━━━━\u001b[0m\u001b[37m\u001b[0m \u001b[1m118s\u001b[0m 337ms/step - accuracy: 0.9694 - loss: 0.0864 - val_accuracy: 0.8266 - val_loss: 0.5998 - learning_rate: 0.0010\n",
            "Epoch 5/20\n",
            "\u001b[1m245/245\u001b[0m \u001b[32m━━━━━━━━━━━━━━━━━━━━\u001b[0m\u001b[37m\u001b[0m \u001b[1m0s\u001b[0m 320ms/step - accuracy: 0.9839 - loss: 0.0502\n",
            "Epoch 5: ReduceLROnPlateau reducing learning rate to 0.0005000000237487257.\n",
            "\u001b[1m245/245\u001b[0m \u001b[32m━━━━━━━━━━━━━━━━━━━━\u001b[0m\u001b[37m\u001b[0m \u001b[1m143s\u001b[0m 341ms/step - accuracy: 0.9839 - loss: 0.0503 - val_accuracy: 0.8159 - val_loss: 0.6624 - learning_rate: 0.0010\n",
            "Epoch 6/20\n",
            "\u001b[1m245/245\u001b[0m \u001b[32m━━━━━━━━━━━━━━━━━━━━\u001b[0m\u001b[37m\u001b[0m \u001b[1m146s\u001b[0m 357ms/step - accuracy: 0.9856 - loss: 0.0401 - val_accuracy: 0.8251 - val_loss: 0.7595 - learning_rate: 5.0000e-04\n",
            "Epoch 7/20\n",
            "\u001b[1m245/245\u001b[0m \u001b[32m━━━━━━━━━━━━━━━━━━━━\u001b[0m\u001b[37m\u001b[0m \u001b[1m83s\u001b[0m 338ms/step - accuracy: 0.9945 - loss: 0.0184 - val_accuracy: 0.8256 - val_loss: 0.8583 - learning_rate: 5.0000e-04\n",
            "Epoch 8/20\n",
            "\u001b[1m245/245\u001b[0m \u001b[32m━━━━━━━━━━━━━━━━━━━━\u001b[0m\u001b[37m\u001b[0m \u001b[1m0s\u001b[0m 323ms/step - accuracy: 0.9960 - loss: 0.0125\n",
            "Epoch 8: ReduceLROnPlateau reducing learning rate to 0.0002500000118743628.\n",
            "\u001b[1m245/245\u001b[0m \u001b[32m━━━━━━━━━━━━━━━━━━━━\u001b[0m\u001b[37m\u001b[0m \u001b[1m143s\u001b[0m 344ms/step - accuracy: 0.9960 - loss: 0.0126 - val_accuracy: 0.8182 - val_loss: 0.8658 - learning_rate: 5.0000e-04\n",
            "Epoch 8: early stopping\n",
            "Restoring model weights from the end of the best epoch: 3.\n"
          ]
        }
      ]
    },
    {
      "cell_type": "markdown",
      "source": [
        "Early stopping was triggered at epoch 8, with the best weights occurring at epoch 3 (val_accuracy 0.8368). The training accuracy gets to 0.99 in the end, while the validation accuracy hovered around 0.8, indicating overfitting.  \n",
        "\n",
        "\n",
        "#### Bidirectional LSTM with linguistic features\n",
        "\n",
        "I will add linguistic features to the model and also include a ReduceLROnPlateau callback, which will reduce the learning rate by 50% when the validation loss stays on a plateau for 3 epochs."
      ],
      "metadata": {
        "id": "N07SbxpzivWt"
      }
    },
    {
      "cell_type": "code",
      "source": [
        "# Extract linguistic features\n",
        "lingu_train = training_set[['gunning_fog', 'sent_len', 'word_len', 'noun_freq',\n",
        "            'verb_freq', 'adj_freq', 'adv_freq', 'funct_word', 'type_token']]\n",
        "lingu_validation = validation_set[['gunning_fog', 'sent_len', 'word_len', 'noun_freq',\n",
        "            'verb_freq', 'adj_freq', 'adv_freq', 'funct_word', 'type_token']]\n",
        "\n",
        "# Normalize the linguistic features\n",
        "scaler = StandardScaler()\n",
        "lingu_train = scaler.fit_transform(lingu_train)\n",
        "lingu_validation = scaler.transform(lingu_validation)"
      ],
      "metadata": {
        "id": "AW3gYeTLx87I"
      },
      "execution_count": null,
      "outputs": []
    },
    {
      "cell_type": "code",
      "source": [
        "# Define the input layer for text\n",
        "input_text = Input(shape = (None, ), dtype = 'int64')\n",
        "\n",
        "# Define the input layer for linguistic features\n",
        "input_lingu = Input(shape = (9, ))\n",
        "\n",
        "# Embedding layer\n",
        "x = Embedding(vocab_size + 1, 128)(input_text)\n",
        "\n",
        "# Embedding dropout\n",
        "x = SpatialDropout1D(0.1)(x)\n",
        "\n",
        "# Bidirectional LSTM layer\n",
        "x = Bidirectional(LSTM(512, recurrent_dropout = 0.2, return_sequences=True))(x)\n",
        "\n",
        "# Maxpooling layer\n",
        "x = GlobalMaxPooling1D()(x)\n",
        "\n",
        "# Concatenate maxpooling layer and the linguistic features\n",
        "x = Concatenate()([x, input_lingu])\n",
        "\n",
        "# Dropout\n",
        "x = Dropout(0.5)(x)\n",
        "\n",
        "# Output\n",
        "outputs = Dense(3, activation = 'softmax')(x)\n",
        "\n",
        "bi_lstm2 = Model([input_text, input_lingu], outputs)\n",
        "bi_lstm2.summary()"
      ],
      "metadata": {
        "id": "w_x_wL6Ax_Fj",
        "colab": {
          "base_uri": "https://localhost:8080/",
          "height": 513
        },
        "outputId": "bef25392-2ca1-44f9-eac9-72b7d95270a7"
      },
      "execution_count": null,
      "outputs": [
        {
          "output_type": "display_data",
          "data": {
            "text/plain": [
              "\u001b[1mModel: \"functional_1\"\u001b[0m\n"
            ],
            "text/html": [
              "<pre style=\"white-space:pre;overflow-x:auto;line-height:normal;font-family:Menlo,'DejaVu Sans Mono',consolas,'Courier New',monospace\"><span style=\"font-weight: bold\">Model: \"functional_1\"</span>\n",
              "</pre>\n"
            ]
          },
          "metadata": {}
        },
        {
          "output_type": "display_data",
          "data": {
            "text/plain": [
              "┏━━━━━━━━━━━━━━━━━━━━━━━━━━━┳━━━━━━━━━━━━━━━━━━━━━━━━┳━━━━━━━━━━━━━━━━┳━━━━━━━━━━━━━━━━━━━━━━━━┓\n",
              "┃\u001b[1m \u001b[0m\u001b[1mLayer (type)             \u001b[0m\u001b[1m \u001b[0m┃\u001b[1m \u001b[0m\u001b[1mOutput Shape          \u001b[0m\u001b[1m \u001b[0m┃\u001b[1m \u001b[0m\u001b[1m       Param #\u001b[0m\u001b[1m \u001b[0m┃\u001b[1m \u001b[0m\u001b[1mConnected to          \u001b[0m\u001b[1m \u001b[0m┃\n",
              "┡━━━━━━━━━━━━━━━━━━━━━━━━━━━╇━━━━━━━━━━━━━━━━━━━━━━━━╇━━━━━━━━━━━━━━━━╇━━━━━━━━━━━━━━━━━━━━━━━━┩\n",
              "│ input_layer_1             │ (\u001b[38;5;45mNone\u001b[0m, \u001b[38;5;45mNone\u001b[0m)           │              \u001b[38;5;34m0\u001b[0m │ -                      │\n",
              "│ (\u001b[38;5;33mInputLayer\u001b[0m)              │                        │                │                        │\n",
              "├───────────────────────────┼────────────────────────┼────────────────┼────────────────────────┤\n",
              "│ embedding_1 (\u001b[38;5;33mEmbedding\u001b[0m)   │ (\u001b[38;5;45mNone\u001b[0m, \u001b[38;5;45mNone\u001b[0m, \u001b[38;5;34m128\u001b[0m)      │      \u001b[38;5;34m2,973,568\u001b[0m │ input_layer_1[\u001b[38;5;34m0\u001b[0m][\u001b[38;5;34m0\u001b[0m]    │\n",
              "├───────────────────────────┼────────────────────────┼────────────────┼────────────────────────┤\n",
              "│ spatial_dropout1d_1       │ (\u001b[38;5;45mNone\u001b[0m, \u001b[38;5;45mNone\u001b[0m, \u001b[38;5;34m128\u001b[0m)      │              \u001b[38;5;34m0\u001b[0m │ embedding_1[\u001b[38;5;34m0\u001b[0m][\u001b[38;5;34m0\u001b[0m]      │\n",
              "│ (\u001b[38;5;33mSpatialDropout1D\u001b[0m)        │                        │                │                        │\n",
              "├───────────────────────────┼────────────────────────┼────────────────┼────────────────────────┤\n",
              "│ bidirectional_1           │ (\u001b[38;5;45mNone\u001b[0m, \u001b[38;5;45mNone\u001b[0m, \u001b[38;5;34m1024\u001b[0m)     │      \u001b[38;5;34m2,625,536\u001b[0m │ spatial_dropout1d_1[\u001b[38;5;34m0\u001b[0m… │\n",
              "│ (\u001b[38;5;33mBidirectional\u001b[0m)           │                        │                │                        │\n",
              "├───────────────────────────┼────────────────────────┼────────────────┼────────────────────────┤\n",
              "│ global_max_pooling1d_1    │ (\u001b[38;5;45mNone\u001b[0m, \u001b[38;5;34m1024\u001b[0m)           │              \u001b[38;5;34m0\u001b[0m │ bidirectional_1[\u001b[38;5;34m0\u001b[0m][\u001b[38;5;34m0\u001b[0m]  │\n",
              "│ (\u001b[38;5;33mGlobalMaxPooling1D\u001b[0m)      │                        │                │                        │\n",
              "├───────────────────────────┼────────────────────────┼────────────────┼────────────────────────┤\n",
              "│ input_layer_2             │ (\u001b[38;5;45mNone\u001b[0m, \u001b[38;5;34m9\u001b[0m)              │              \u001b[38;5;34m0\u001b[0m │ -                      │\n",
              "│ (\u001b[38;5;33mInputLayer\u001b[0m)              │                        │                │                        │\n",
              "├───────────────────────────┼────────────────────────┼────────────────┼────────────────────────┤\n",
              "│ concatenate (\u001b[38;5;33mConcatenate\u001b[0m) │ (\u001b[38;5;45mNone\u001b[0m, \u001b[38;5;34m1033\u001b[0m)           │              \u001b[38;5;34m0\u001b[0m │ global_max_pooling1d_… │\n",
              "│                           │                        │                │ input_layer_2[\u001b[38;5;34m0\u001b[0m][\u001b[38;5;34m0\u001b[0m]    │\n",
              "├───────────────────────────┼────────────────────────┼────────────────┼────────────────────────┤\n",
              "│ dropout_1 (\u001b[38;5;33mDropout\u001b[0m)       │ (\u001b[38;5;45mNone\u001b[0m, \u001b[38;5;34m1033\u001b[0m)           │              \u001b[38;5;34m0\u001b[0m │ concatenate[\u001b[38;5;34m0\u001b[0m][\u001b[38;5;34m0\u001b[0m]      │\n",
              "├───────────────────────────┼────────────────────────┼────────────────┼────────────────────────┤\n",
              "│ dense_1 (\u001b[38;5;33mDense\u001b[0m)           │ (\u001b[38;5;45mNone\u001b[0m, \u001b[38;5;34m3\u001b[0m)              │          \u001b[38;5;34m3,102\u001b[0m │ dropout_1[\u001b[38;5;34m0\u001b[0m][\u001b[38;5;34m0\u001b[0m]        │\n",
              "└───────────────────────────┴────────────────────────┴────────────────┴────────────────────────┘\n"
            ],
            "text/html": [
              "<pre style=\"white-space:pre;overflow-x:auto;line-height:normal;font-family:Menlo,'DejaVu Sans Mono',consolas,'Courier New',monospace\">┏━━━━━━━━━━━━━━━━━━━━━━━━━━━┳━━━━━━━━━━━━━━━━━━━━━━━━┳━━━━━━━━━━━━━━━━┳━━━━━━━━━━━━━━━━━━━━━━━━┓\n",
              "┃<span style=\"font-weight: bold\"> Layer (type)              </span>┃<span style=\"font-weight: bold\"> Output Shape           </span>┃<span style=\"font-weight: bold\">        Param # </span>┃<span style=\"font-weight: bold\"> Connected to           </span>┃\n",
              "┡━━━━━━━━━━━━━━━━━━━━━━━━━━━╇━━━━━━━━━━━━━━━━━━━━━━━━╇━━━━━━━━━━━━━━━━╇━━━━━━━━━━━━━━━━━━━━━━━━┩\n",
              "│ input_layer_1             │ (<span style=\"color: #00d7ff; text-decoration-color: #00d7ff\">None</span>, <span style=\"color: #00d7ff; text-decoration-color: #00d7ff\">None</span>)           │              <span style=\"color: #00af00; text-decoration-color: #00af00\">0</span> │ -                      │\n",
              "│ (<span style=\"color: #0087ff; text-decoration-color: #0087ff\">InputLayer</span>)              │                        │                │                        │\n",
              "├───────────────────────────┼────────────────────────┼────────────────┼────────────────────────┤\n",
              "│ embedding_1 (<span style=\"color: #0087ff; text-decoration-color: #0087ff\">Embedding</span>)   │ (<span style=\"color: #00d7ff; text-decoration-color: #00d7ff\">None</span>, <span style=\"color: #00d7ff; text-decoration-color: #00d7ff\">None</span>, <span style=\"color: #00af00; text-decoration-color: #00af00\">128</span>)      │      <span style=\"color: #00af00; text-decoration-color: #00af00\">2,973,568</span> │ input_layer_1[<span style=\"color: #00af00; text-decoration-color: #00af00\">0</span>][<span style=\"color: #00af00; text-decoration-color: #00af00\">0</span>]    │\n",
              "├───────────────────────────┼────────────────────────┼────────────────┼────────────────────────┤\n",
              "│ spatial_dropout1d_1       │ (<span style=\"color: #00d7ff; text-decoration-color: #00d7ff\">None</span>, <span style=\"color: #00d7ff; text-decoration-color: #00d7ff\">None</span>, <span style=\"color: #00af00; text-decoration-color: #00af00\">128</span>)      │              <span style=\"color: #00af00; text-decoration-color: #00af00\">0</span> │ embedding_1[<span style=\"color: #00af00; text-decoration-color: #00af00\">0</span>][<span style=\"color: #00af00; text-decoration-color: #00af00\">0</span>]      │\n",
              "│ (<span style=\"color: #0087ff; text-decoration-color: #0087ff\">SpatialDropout1D</span>)        │                        │                │                        │\n",
              "├───────────────────────────┼────────────────────────┼────────────────┼────────────────────────┤\n",
              "│ bidirectional_1           │ (<span style=\"color: #00d7ff; text-decoration-color: #00d7ff\">None</span>, <span style=\"color: #00d7ff; text-decoration-color: #00d7ff\">None</span>, <span style=\"color: #00af00; text-decoration-color: #00af00\">1024</span>)     │      <span style=\"color: #00af00; text-decoration-color: #00af00\">2,625,536</span> │ spatial_dropout1d_1[<span style=\"color: #00af00; text-decoration-color: #00af00\">0</span>… │\n",
              "│ (<span style=\"color: #0087ff; text-decoration-color: #0087ff\">Bidirectional</span>)           │                        │                │                        │\n",
              "├───────────────────────────┼────────────────────────┼────────────────┼────────────────────────┤\n",
              "│ global_max_pooling1d_1    │ (<span style=\"color: #00d7ff; text-decoration-color: #00d7ff\">None</span>, <span style=\"color: #00af00; text-decoration-color: #00af00\">1024</span>)           │              <span style=\"color: #00af00; text-decoration-color: #00af00\">0</span> │ bidirectional_1[<span style=\"color: #00af00; text-decoration-color: #00af00\">0</span>][<span style=\"color: #00af00; text-decoration-color: #00af00\">0</span>]  │\n",
              "│ (<span style=\"color: #0087ff; text-decoration-color: #0087ff\">GlobalMaxPooling1D</span>)      │                        │                │                        │\n",
              "├───────────────────────────┼────────────────────────┼────────────────┼────────────────────────┤\n",
              "│ input_layer_2             │ (<span style=\"color: #00d7ff; text-decoration-color: #00d7ff\">None</span>, <span style=\"color: #00af00; text-decoration-color: #00af00\">9</span>)              │              <span style=\"color: #00af00; text-decoration-color: #00af00\">0</span> │ -                      │\n",
              "│ (<span style=\"color: #0087ff; text-decoration-color: #0087ff\">InputLayer</span>)              │                        │                │                        │\n",
              "├───────────────────────────┼────────────────────────┼────────────────┼────────────────────────┤\n",
              "│ concatenate (<span style=\"color: #0087ff; text-decoration-color: #0087ff\">Concatenate</span>) │ (<span style=\"color: #00d7ff; text-decoration-color: #00d7ff\">None</span>, <span style=\"color: #00af00; text-decoration-color: #00af00\">1033</span>)           │              <span style=\"color: #00af00; text-decoration-color: #00af00\">0</span> │ global_max_pooling1d_… │\n",
              "│                           │                        │                │ input_layer_2[<span style=\"color: #00af00; text-decoration-color: #00af00\">0</span>][<span style=\"color: #00af00; text-decoration-color: #00af00\">0</span>]    │\n",
              "├───────────────────────────┼────────────────────────┼────────────────┼────────────────────────┤\n",
              "│ dropout_1 (<span style=\"color: #0087ff; text-decoration-color: #0087ff\">Dropout</span>)       │ (<span style=\"color: #00d7ff; text-decoration-color: #00d7ff\">None</span>, <span style=\"color: #00af00; text-decoration-color: #00af00\">1033</span>)           │              <span style=\"color: #00af00; text-decoration-color: #00af00\">0</span> │ concatenate[<span style=\"color: #00af00; text-decoration-color: #00af00\">0</span>][<span style=\"color: #00af00; text-decoration-color: #00af00\">0</span>]      │\n",
              "├───────────────────────────┼────────────────────────┼────────────────┼────────────────────────┤\n",
              "│ dense_1 (<span style=\"color: #0087ff; text-decoration-color: #0087ff\">Dense</span>)           │ (<span style=\"color: #00d7ff; text-decoration-color: #00d7ff\">None</span>, <span style=\"color: #00af00; text-decoration-color: #00af00\">3</span>)              │          <span style=\"color: #00af00; text-decoration-color: #00af00\">3,102</span> │ dropout_1[<span style=\"color: #00af00; text-decoration-color: #00af00\">0</span>][<span style=\"color: #00af00; text-decoration-color: #00af00\">0</span>]        │\n",
              "└───────────────────────────┴────────────────────────┴────────────────┴────────────────────────┘\n",
              "</pre>\n"
            ]
          },
          "metadata": {}
        },
        {
          "output_type": "display_data",
          "data": {
            "text/plain": [
              "\u001b[1m Total params: \u001b[0m\u001b[38;5;34m5,602,206\u001b[0m (21.37 MB)\n"
            ],
            "text/html": [
              "<pre style=\"white-space:pre;overflow-x:auto;line-height:normal;font-family:Menlo,'DejaVu Sans Mono',consolas,'Courier New',monospace\"><span style=\"font-weight: bold\"> Total params: </span><span style=\"color: #00af00; text-decoration-color: #00af00\">5,602,206</span> (21.37 MB)\n",
              "</pre>\n"
            ]
          },
          "metadata": {}
        },
        {
          "output_type": "display_data",
          "data": {
            "text/plain": [
              "\u001b[1m Trainable params: \u001b[0m\u001b[38;5;34m5,602,206\u001b[0m (21.37 MB)\n"
            ],
            "text/html": [
              "<pre style=\"white-space:pre;overflow-x:auto;line-height:normal;font-family:Menlo,'DejaVu Sans Mono',consolas,'Courier New',monospace\"><span style=\"font-weight: bold\"> Trainable params: </span><span style=\"color: #00af00; text-decoration-color: #00af00\">5,602,206</span> (21.37 MB)\n",
              "</pre>\n"
            ]
          },
          "metadata": {}
        },
        {
          "output_type": "display_data",
          "data": {
            "text/plain": [
              "\u001b[1m Non-trainable params: \u001b[0m\u001b[38;5;34m0\u001b[0m (0.00 B)\n"
            ],
            "text/html": [
              "<pre style=\"white-space:pre;overflow-x:auto;line-height:normal;font-family:Menlo,'DejaVu Sans Mono',consolas,'Courier New',monospace\"><span style=\"font-weight: bold\"> Non-trainable params: </span><span style=\"color: #00af00; text-decoration-color: #00af00\">0</span> (0.00 B)\n",
              "</pre>\n"
            ]
          },
          "metadata": {}
        }
      ]
    },
    {
      "cell_type": "code",
      "source": [
        "# Compile the model with optimizer, loss function, and metrics\n",
        "bi_lstm2.compile(optimizer = Adam(learning_rate = 0.001),\n",
        "    loss = SparseCategoricalCrossentropy(),\n",
        "    metrics = ['accuracy']\n",
        ")\n",
        "\n",
        "# Define new callbacks\n",
        "check_point2 = ModelCheckpoint(\n",
        "    filepath = '/content/drive/MyDrive/ColabNotebooks/Spooky_Author_Identification/trained_embedding_lstm2.keras',\n",
        "    monitor = 'val_accuracy',\n",
        "    save_best_only = True\n",
        ")\n",
        "\n",
        "history2 = bi_lstm2.fit(\n",
        "    [training_text, lingu_train],\n",
        "    training_set['author_encoded'],\n",
        "    steps_per_epoch = math.ceil(training_set.shape[0] / 64),\n",
        "    batch_size = 64,\n",
        "    validation_data = ([validation_text, lingu_validation], validation_set['author_encoded']),\n",
        "    validation_steps = math.ceil(validation_set.shape[0] / 64),\n",
        "    epochs = 20,\n",
        "    callbacks = [early_stoppig, check_point2, reduced_lr, TemporalAveraging()]\n",
        ")"
      ],
      "metadata": {
        "id": "ydqo7nq2XjVv",
        "colab": {
          "base_uri": "https://localhost:8080/"
        },
        "outputId": "56f69358-f7be-4a89-8077-92bc8bd9b9a4"
      },
      "execution_count": null,
      "outputs": [
        {
          "output_type": "stream",
          "name": "stdout",
          "text": [
            "Epoch 1/20\n",
            "\u001b[1m245/245\u001b[0m \u001b[32m━━━━━━━━━━━━━━━━━━━━\u001b[0m\u001b[37m\u001b[0m \u001b[1m89s\u001b[0m 341ms/step - accuracy: 0.4922 - loss: 0.9860 - val_accuracy: 0.8039 - val_loss: 0.4953 - learning_rate: 0.0010\n",
            "Epoch 2/20\n",
            "\u001b[1m245/245\u001b[0m \u001b[32m━━━━━━━━━━━━━━━━━━━━\u001b[0m\u001b[37m\u001b[0m \u001b[1m82s\u001b[0m 336ms/step - accuracy: 0.8590 - loss: 0.3786 - val_accuracy: 0.8218 - val_loss: 0.4524 - learning_rate: 0.0010\n",
            "Epoch 3/20\n",
            "\u001b[1m245/245\u001b[0m \u001b[32m━━━━━━━━━━━━━━━━━━━━\u001b[0m\u001b[37m\u001b[0m \u001b[1m142s\u001b[0m 338ms/step - accuracy: 0.9423 - loss: 0.1746 - val_accuracy: 0.8330 - val_loss: 0.4978 - learning_rate: 0.0010\n",
            "Epoch 4/20\n",
            "\u001b[1m245/245\u001b[0m \u001b[32m━━━━━━━━━━━━━━━━━━━━\u001b[0m\u001b[37m\u001b[0m \u001b[1m141s\u001b[0m 336ms/step - accuracy: 0.9671 - loss: 0.0919 - val_accuracy: 0.8174 - val_loss: 0.6577 - learning_rate: 0.0010\n",
            "Epoch 5/20\n",
            "\u001b[1m245/245\u001b[0m \u001b[32m━━━━━━━━━━━━━━━━━━━━\u001b[0m\u001b[37m\u001b[0m \u001b[1m0s\u001b[0m 310ms/step - accuracy: 0.9797 - loss: 0.0605\n",
            "Epoch 5: ReduceLROnPlateau reducing learning rate to 0.0005000000237487257.\n",
            "\u001b[1m245/245\u001b[0m \u001b[32m━━━━━━━━━━━━━━━━━━━━\u001b[0m\u001b[37m\u001b[0m \u001b[1m81s\u001b[0m 331ms/step - accuracy: 0.9797 - loss: 0.0605 - val_accuracy: 0.8230 - val_loss: 0.6241 - learning_rate: 0.0010\n",
            "Epoch 6/20\n",
            "\u001b[1m245/245\u001b[0m \u001b[32m━━━━━━━━━━━━━━━━━━━━\u001b[0m\u001b[37m\u001b[0m \u001b[1m81s\u001b[0m 329ms/step - accuracy: 0.9892 - loss: 0.0387 - val_accuracy: 0.8159 - val_loss: 0.7938 - learning_rate: 5.0000e-04\n",
            "Epoch 7/20\n",
            "\u001b[1m245/245\u001b[0m \u001b[32m━━━━━━━━━━━━━━━━━━━━\u001b[0m\u001b[37m\u001b[0m \u001b[1m83s\u001b[0m 334ms/step - accuracy: 0.9943 - loss: 0.0206 - val_accuracy: 0.8253 - val_loss: 0.7638 - learning_rate: 5.0000e-04\n",
            "Epoch 8/20\n",
            "\u001b[1m245/245\u001b[0m \u001b[32m━━━━━━━━━━━━━━━━━━━━\u001b[0m\u001b[37m\u001b[0m \u001b[1m0s\u001b[0m 314ms/step - accuracy: 0.9944 - loss: 0.0180\n",
            "Epoch 8: ReduceLROnPlateau reducing learning rate to 0.0002500000118743628.\n",
            "\u001b[1m245/245\u001b[0m \u001b[32m━━━━━━━━━━━━━━━━━━━━\u001b[0m\u001b[37m\u001b[0m \u001b[1m82s\u001b[0m 335ms/step - accuracy: 0.9944 - loss: 0.0180 - val_accuracy: 0.8174 - val_loss: 0.9553 - learning_rate: 5.0000e-04\n",
            "Epoch 8: early stopping\n",
            "Restoring model weights from the end of the best epoch: 3.\n"
          ]
        }
      ]
    },
    {
      "cell_type": "markdown",
      "source": [
        "Early stopping was triggered at epoch 8, with the best weights occurring at epoch 3 (val_accuracy 0.833). The overfitting problem is still existing and the model performance didn't improve after adding linguistic features into the model. I will proceed with tunning the first Bi_LSTM model."
      ],
      "metadata": {
        "id": "5MyKypqhmq0E"
      }
    },
    {
      "cell_type": "markdown",
      "source": [
        "### Tune the model\n",
        "\n",
        "I will tune the hyperparameters of the first model using `BayesianOptimization` from keras_tunner as follows:\n",
        "\n",
        "* Embedding output dimension\n",
        "* Embedding dropout rate\n",
        "* Number of units in LSTM layer\n",
        "* Recurrent dropout rate in LSTM layer\n",
        "* Max-pooled output dropout rate\n",
        "* Learning rate"
      ],
      "metadata": {
        "id": "mVGoshTCYr3Y"
      }
    },
    {
      "cell_type": "code",
      "source": [
        "def build_model(hp):\n",
        "    input_text = Input(shape = (None, ), dtype = 'int64')\n",
        "\n",
        "    x = Embedding(vocab_size + 1,\n",
        "                  output_dim = hp.Choice('embedding_dim',\n",
        "                                         values = [64, 128, 256])\n",
        "                  )(input_text)\n",
        "    x = SpatialDropout1D(rate = hp.Choice('embedding_dropout',\n",
        "                                          values = [0.1, 0.2, 0.3]))(x)\n",
        "    x = Bidirectional(LSTM(units = hp.Choice('lstm_units',\n",
        "                                             values = [64, 128, 256, 512]),\n",
        "                           recurrent_dropout = hp.Choice('recurrent_dropout',\n",
        "                                                         values = [0.2, 0.3, 0.4]),\n",
        "                           return_sequences=True))(x)\n",
        "    x = GlobalMaxPooling1D()(x)\n",
        "\n",
        "    x = Dropout(rate = hp.Choice('max_pool_dropout',\n",
        "                                 values = [0.3, 0.4, 0.5]))(x)\n",
        "    outputs = Dense(3, activation = 'softmax')(x)\n",
        "    model = Model(input_text, outputs)\n",
        "    model.compile(optimizer = Adam(learning_rate = hp.Choice('learning_rate',\n",
        "                                                             values = [0.001, 0.0001])),\n",
        "                  loss = SparseCategoricalCrossentropy(),\n",
        "                  metrics = ['accuracy'])\n",
        "    return model"
      ],
      "metadata": {
        "id": "NDzr7DF5cG5H"
      },
      "execution_count": 15,
      "outputs": []
    },
    {
      "cell_type": "code",
      "source": [
        "# Create the tuner\n",
        "tuner = BayesianOptimization(\n",
        "    build_model,\n",
        "    objective = 'val_accuracy',\n",
        "    max_trials = 20\n",
        ")\n",
        "\n",
        "# Search for the best hyperparameters\n",
        "tuner.search(\n",
        "    training_text,\n",
        "    training_set['author_encoded'],\n",
        "    steps_per_epoch = math.ceil(training_set.shape[0] / 64),\n",
        "    batch_size = 64,\n",
        "    validation_data = (validation_text, validation_set['author_encoded']),\n",
        "    validation_steps = math.ceil(validation_set.shape[0] / 64),\n",
        "    epochs = 20,\n",
        "    callbacks = [early_stoppig, reduced_lr, TemporalAveraging()]\n",
        ")"
      ],
      "metadata": {
        "colab": {
          "base_uri": "https://localhost:8080/"
        },
        "id": "A80pulvshHWp",
        "outputId": "efb46141-5edc-4e35-ba4a-eb1d5029b0a2"
      },
      "execution_count": null,
      "outputs": [
        {
          "output_type": "stream",
          "name": "stdout",
          "text": [
            "Trial 17 Complete [00h 39m 46s]\n",
            "val_accuracy: 0.8232890963554382\n",
            "\n",
            "Best val_accuracy So Far: 0.8424412608146667\n",
            "Total elapsed time: 07h 47m 58s\n",
            "\n",
            "Search: Running Trial #18\n",
            "\n",
            "Value             |Best Value So Far |Hyperparameter\n",
            "64                |256               |embedding_dim\n",
            "0.2               |0.3               |embedding_dropout\n",
            "512               |128               |lstm_units\n",
            "0.3               |0.2               |recurrent_dropout\n",
            "0.5               |0.5               |max_pool_dropout\n",
            "0.001             |0.001             |learning_rate\n",
            "\n",
            "Epoch 1/20\n",
            "\u001b[1m 66/245\u001b[0m \u001b[32m━━━━━\u001b[0m\u001b[37m━━━━━━━━━━━━━━━\u001b[0m \u001b[1m1:00\u001b[0m 339ms/step - accuracy: 0.4043 - loss: 1.0880"
          ]
        }
      ]
    },
    {
      "cell_type": "markdown",
      "source": [
        "The runtime of Google Colab was disconnected when the tuner was running the 18th trial. Throughout the search, two sets of \"Best Value So Far\" appeared, and each remained best for multiple trials. I will use these two hyperparameter sets to retrain a model and adopt the one that performs better."
      ],
      "metadata": {
        "id": "U9YKTJY-JNac"
      }
    },
    {
      "cell_type": "code",
      "source": [
        "# An integer input for vocabulary indices\n",
        "inputs = Input(shape = (None, ), dtype = 'int64')\n",
        "\n",
        "# Embedding layer\n",
        "x = Embedding(vocab_size + 1, 256)(inputs)\n",
        "\n",
        "# Embedding dropout\n",
        "x = SpatialDropout1D(0.3)(x)\n",
        "\n",
        "# Bidirectional LSTM layer\n",
        "x = Bidirectional(LSTM(128, recurrent_dropout = 0.2, return_sequences=True))(x)\n",
        "\n",
        "# Maxpooling layer\n",
        "x = GlobalMaxPooling1D()(x)\n",
        "\n",
        "# Dropout\n",
        "x = Dropout(0.5)(x)\n",
        "\n",
        "# Output\n",
        "outputs = Dense(3, activation = 'softmax')(x)\n",
        "\n",
        "tuned_lstm = Model(inputs, outputs)\n",
        "tuned_lstm.summary()"
      ],
      "metadata": {
        "id": "_75RzulmsI9x",
        "colab": {
          "base_uri": "https://localhost:8080/",
          "height": 385
        },
        "outputId": "4659108a-b2bf-4e7b-818f-c0b3ec3ef86a"
      },
      "execution_count": 14,
      "outputs": [
        {
          "output_type": "display_data",
          "data": {
            "text/plain": [
              "\u001b[1mModel: \"functional_2\"\u001b[0m\n"
            ],
            "text/html": [
              "<pre style=\"white-space:pre;overflow-x:auto;line-height:normal;font-family:Menlo,'DejaVu Sans Mono',consolas,'Courier New',monospace\"><span style=\"font-weight: bold\">Model: \"functional_2\"</span>\n",
              "</pre>\n"
            ]
          },
          "metadata": {}
        },
        {
          "output_type": "display_data",
          "data": {
            "text/plain": [
              "┏━━━━━━━━━━━━━━━━━━━━━━━━━━━━━━━━━━━━━━┳━━━━━━━━━━━━━━━━━━━━━━━━━━━━━┳━━━━━━━━━━━━━━━━━┓\n",
              "┃\u001b[1m \u001b[0m\u001b[1mLayer (type)                        \u001b[0m\u001b[1m \u001b[0m┃\u001b[1m \u001b[0m\u001b[1mOutput Shape               \u001b[0m\u001b[1m \u001b[0m┃\u001b[1m \u001b[0m\u001b[1m        Param #\u001b[0m\u001b[1m \u001b[0m┃\n",
              "┡━━━━━━━━━━━━━━━━━━━━━━━━━━━━━━━━━━━━━━╇━━━━━━━━━━━━━━━━━━━━━━━━━━━━━╇━━━━━━━━━━━━━━━━━┩\n",
              "│ input_layer_2 (\u001b[38;5;33mInputLayer\u001b[0m)           │ (\u001b[38;5;45mNone\u001b[0m, \u001b[38;5;45mNone\u001b[0m)                │               \u001b[38;5;34m0\u001b[0m │\n",
              "├──────────────────────────────────────┼─────────────────────────────┼─────────────────┤\n",
              "│ embedding_2 (\u001b[38;5;33mEmbedding\u001b[0m)              │ (\u001b[38;5;45mNone\u001b[0m, \u001b[38;5;45mNone\u001b[0m, \u001b[38;5;34m256\u001b[0m)           │       \u001b[38;5;34m5,947,136\u001b[0m │\n",
              "├──────────────────────────────────────┼─────────────────────────────┼─────────────────┤\n",
              "│ spatial_dropout1d_2                  │ (\u001b[38;5;45mNone\u001b[0m, \u001b[38;5;45mNone\u001b[0m, \u001b[38;5;34m256\u001b[0m)           │               \u001b[38;5;34m0\u001b[0m │\n",
              "│ (\u001b[38;5;33mSpatialDropout1D\u001b[0m)                   │                             │                 │\n",
              "├──────────────────────────────────────┼─────────────────────────────┼─────────────────┤\n",
              "│ bidirectional_2 (\u001b[38;5;33mBidirectional\u001b[0m)      │ (\u001b[38;5;45mNone\u001b[0m, \u001b[38;5;45mNone\u001b[0m, \u001b[38;5;34m256\u001b[0m)           │         \u001b[38;5;34m394,240\u001b[0m │\n",
              "├──────────────────────────────────────┼─────────────────────────────┼─────────────────┤\n",
              "│ global_max_pooling1d_2               │ (\u001b[38;5;45mNone\u001b[0m, \u001b[38;5;34m256\u001b[0m)                 │               \u001b[38;5;34m0\u001b[0m │\n",
              "│ (\u001b[38;5;33mGlobalMaxPooling1D\u001b[0m)                 │                             │                 │\n",
              "├──────────────────────────────────────┼─────────────────────────────┼─────────────────┤\n",
              "│ dropout_2 (\u001b[38;5;33mDropout\u001b[0m)                  │ (\u001b[38;5;45mNone\u001b[0m, \u001b[38;5;34m256\u001b[0m)                 │               \u001b[38;5;34m0\u001b[0m │\n",
              "├──────────────────────────────────────┼─────────────────────────────┼─────────────────┤\n",
              "│ dense_2 (\u001b[38;5;33mDense\u001b[0m)                      │ (\u001b[38;5;45mNone\u001b[0m, \u001b[38;5;34m3\u001b[0m)                   │             \u001b[38;5;34m771\u001b[0m │\n",
              "└──────────────────────────────────────┴─────────────────────────────┴─────────────────┘\n"
            ],
            "text/html": [
              "<pre style=\"white-space:pre;overflow-x:auto;line-height:normal;font-family:Menlo,'DejaVu Sans Mono',consolas,'Courier New',monospace\">┏━━━━━━━━━━━━━━━━━━━━━━━━━━━━━━━━━━━━━━┳━━━━━━━━━━━━━━━━━━━━━━━━━━━━━┳━━━━━━━━━━━━━━━━━┓\n",
              "┃<span style=\"font-weight: bold\"> Layer (type)                         </span>┃<span style=\"font-weight: bold\"> Output Shape                </span>┃<span style=\"font-weight: bold\">         Param # </span>┃\n",
              "┡━━━━━━━━━━━━━━━━━━━━━━━━━━━━━━━━━━━━━━╇━━━━━━━━━━━━━━━━━━━━━━━━━━━━━╇━━━━━━━━━━━━━━━━━┩\n",
              "│ input_layer_2 (<span style=\"color: #0087ff; text-decoration-color: #0087ff\">InputLayer</span>)           │ (<span style=\"color: #00d7ff; text-decoration-color: #00d7ff\">None</span>, <span style=\"color: #00d7ff; text-decoration-color: #00d7ff\">None</span>)                │               <span style=\"color: #00af00; text-decoration-color: #00af00\">0</span> │\n",
              "├──────────────────────────────────────┼─────────────────────────────┼─────────────────┤\n",
              "│ embedding_2 (<span style=\"color: #0087ff; text-decoration-color: #0087ff\">Embedding</span>)              │ (<span style=\"color: #00d7ff; text-decoration-color: #00d7ff\">None</span>, <span style=\"color: #00d7ff; text-decoration-color: #00d7ff\">None</span>, <span style=\"color: #00af00; text-decoration-color: #00af00\">256</span>)           │       <span style=\"color: #00af00; text-decoration-color: #00af00\">5,947,136</span> │\n",
              "├──────────────────────────────────────┼─────────────────────────────┼─────────────────┤\n",
              "│ spatial_dropout1d_2                  │ (<span style=\"color: #00d7ff; text-decoration-color: #00d7ff\">None</span>, <span style=\"color: #00d7ff; text-decoration-color: #00d7ff\">None</span>, <span style=\"color: #00af00; text-decoration-color: #00af00\">256</span>)           │               <span style=\"color: #00af00; text-decoration-color: #00af00\">0</span> │\n",
              "│ (<span style=\"color: #0087ff; text-decoration-color: #0087ff\">SpatialDropout1D</span>)                   │                             │                 │\n",
              "├──────────────────────────────────────┼─────────────────────────────┼─────────────────┤\n",
              "│ bidirectional_2 (<span style=\"color: #0087ff; text-decoration-color: #0087ff\">Bidirectional</span>)      │ (<span style=\"color: #00d7ff; text-decoration-color: #00d7ff\">None</span>, <span style=\"color: #00d7ff; text-decoration-color: #00d7ff\">None</span>, <span style=\"color: #00af00; text-decoration-color: #00af00\">256</span>)           │         <span style=\"color: #00af00; text-decoration-color: #00af00\">394,240</span> │\n",
              "├──────────────────────────────────────┼─────────────────────────────┼─────────────────┤\n",
              "│ global_max_pooling1d_2               │ (<span style=\"color: #00d7ff; text-decoration-color: #00d7ff\">None</span>, <span style=\"color: #00af00; text-decoration-color: #00af00\">256</span>)                 │               <span style=\"color: #00af00; text-decoration-color: #00af00\">0</span> │\n",
              "│ (<span style=\"color: #0087ff; text-decoration-color: #0087ff\">GlobalMaxPooling1D</span>)                 │                             │                 │\n",
              "├──────────────────────────────────────┼─────────────────────────────┼─────────────────┤\n",
              "│ dropout_2 (<span style=\"color: #0087ff; text-decoration-color: #0087ff\">Dropout</span>)                  │ (<span style=\"color: #00d7ff; text-decoration-color: #00d7ff\">None</span>, <span style=\"color: #00af00; text-decoration-color: #00af00\">256</span>)                 │               <span style=\"color: #00af00; text-decoration-color: #00af00\">0</span> │\n",
              "├──────────────────────────────────────┼─────────────────────────────┼─────────────────┤\n",
              "│ dense_2 (<span style=\"color: #0087ff; text-decoration-color: #0087ff\">Dense</span>)                      │ (<span style=\"color: #00d7ff; text-decoration-color: #00d7ff\">None</span>, <span style=\"color: #00af00; text-decoration-color: #00af00\">3</span>)                   │             <span style=\"color: #00af00; text-decoration-color: #00af00\">771</span> │\n",
              "└──────────────────────────────────────┴─────────────────────────────┴─────────────────┘\n",
              "</pre>\n"
            ]
          },
          "metadata": {}
        },
        {
          "output_type": "display_data",
          "data": {
            "text/plain": [
              "\u001b[1m Total params: \u001b[0m\u001b[38;5;34m6,342,147\u001b[0m (24.19 MB)\n"
            ],
            "text/html": [
              "<pre style=\"white-space:pre;overflow-x:auto;line-height:normal;font-family:Menlo,'DejaVu Sans Mono',consolas,'Courier New',monospace\"><span style=\"font-weight: bold\"> Total params: </span><span style=\"color: #00af00; text-decoration-color: #00af00\">6,342,147</span> (24.19 MB)\n",
              "</pre>\n"
            ]
          },
          "metadata": {}
        },
        {
          "output_type": "display_data",
          "data": {
            "text/plain": [
              "\u001b[1m Trainable params: \u001b[0m\u001b[38;5;34m6,342,147\u001b[0m (24.19 MB)\n"
            ],
            "text/html": [
              "<pre style=\"white-space:pre;overflow-x:auto;line-height:normal;font-family:Menlo,'DejaVu Sans Mono',consolas,'Courier New',monospace\"><span style=\"font-weight: bold\"> Trainable params: </span><span style=\"color: #00af00; text-decoration-color: #00af00\">6,342,147</span> (24.19 MB)\n",
              "</pre>\n"
            ]
          },
          "metadata": {}
        },
        {
          "output_type": "display_data",
          "data": {
            "text/plain": [
              "\u001b[1m Non-trainable params: \u001b[0m\u001b[38;5;34m0\u001b[0m (0.00 B)\n"
            ],
            "text/html": [
              "<pre style=\"white-space:pre;overflow-x:auto;line-height:normal;font-family:Menlo,'DejaVu Sans Mono',consolas,'Courier New',monospace\"><span style=\"font-weight: bold\"> Non-trainable params: </span><span style=\"color: #00af00; text-decoration-color: #00af00\">0</span> (0.00 B)\n",
              "</pre>\n"
            ]
          },
          "metadata": {}
        }
      ]
    },
    {
      "cell_type": "code",
      "source": [
        "# Compile the model with optimizer, loss function, and metrics\n",
        "tuned_lstm.compile(optimizer = Adam(learning_rate = 0.001),\n",
        "    loss = SparseCategoricalCrossentropy(),\n",
        "    metrics = ['accuracy']\n",
        ")\n",
        "\n",
        "# Define new callbacks\n",
        "check_point_tuned = ModelCheckpoint(\n",
        "    filepath = '/content/drive/MyDrive/ColabNotebooks/Spooky_Author_Identification/tuned_lstm.keras',\n",
        "    monitor = 'val_accuracy',\n",
        "    save_best_only = True\n",
        ")\n",
        "\n",
        "history_tuned = tuned_lstm.fit(\n",
        "    training_text,\n",
        "    training_set['author_encoded'],\n",
        "    steps_per_epoch = math.ceil(training_set.shape[0] / 64),\n",
        "    batch_size = 64,\n",
        "    validation_data = (validation_text, validation_set['author_encoded']),\n",
        "    validation_steps = math.ceil(validation_set.shape[0] / 64),\n",
        "    epochs = 20,\n",
        "    callbacks = [early_stoppig, check_point_tuned, reduced_lr, TemporalAveraging()]\n",
        ")"
      ],
      "metadata": {
        "id": "6y2Wkc09v-e6",
        "colab": {
          "base_uri": "https://localhost:8080/"
        },
        "outputId": "f4e4d808-80f6-4088-8fc6-237186b4e2ca"
      },
      "execution_count": 15,
      "outputs": [
        {
          "output_type": "stream",
          "name": "stdout",
          "text": [
            "Epoch 1/20\n",
            "\u001b[1m245/245\u001b[0m \u001b[32m━━━━━━━━━━━━━━━━━━━━\u001b[0m\u001b[37m\u001b[0m \u001b[1m87s\u001b[0m 334ms/step - accuracy: 0.5177 - loss: 0.9519 - val_accuracy: 0.8205 - val_loss: 0.4615 - learning_rate: 0.0010\n",
            "Epoch 2/20\n",
            "\u001b[1m245/245\u001b[0m \u001b[32m━━━━━━━━━━━━━━━━━━━━\u001b[0m\u001b[37m\u001b[0m \u001b[1m80s\u001b[0m 327ms/step - accuracy: 0.8784 - loss: 0.3225 - val_accuracy: 0.8325 - val_loss: 0.4491 - learning_rate: 0.0010\n",
            "Epoch 3/20\n",
            "\u001b[1m245/245\u001b[0m \u001b[32m━━━━━━━━━━━━━━━━━━━━\u001b[0m\u001b[37m\u001b[0m \u001b[1m83s\u001b[0m 332ms/step - accuracy: 0.9478 - loss: 0.1517 - val_accuracy: 0.8340 - val_loss: 0.4778 - learning_rate: 0.0010\n",
            "Epoch 4/20\n",
            "\u001b[1m245/245\u001b[0m \u001b[32m━━━━━━━━━━━━━━━━━━━━\u001b[0m\u001b[37m\u001b[0m \u001b[1m80s\u001b[0m 323ms/step - accuracy: 0.9706 - loss: 0.0886 - val_accuracy: 0.8269 - val_loss: 0.5990 - learning_rate: 0.0010\n",
            "Epoch 5/20\n",
            "\u001b[1m245/245\u001b[0m \u001b[32m━━━━━━━━━━━━━━━━━━━━\u001b[0m\u001b[37m\u001b[0m \u001b[1m0s\u001b[0m 308ms/step - accuracy: 0.9810 - loss: 0.0563\n",
            "Epoch 5: ReduceLROnPlateau reducing learning rate to 0.0005000000237487257.\n",
            "\u001b[1m245/245\u001b[0m \u001b[32m━━━━━━━━━━━━━━━━━━━━\u001b[0m\u001b[37m\u001b[0m \u001b[1m82s\u001b[0m 324ms/step - accuracy: 0.9810 - loss: 0.0563 - val_accuracy: 0.8269 - val_loss: 0.6463 - learning_rate: 0.0010\n",
            "Epoch 6/20\n",
            "\u001b[1m245/245\u001b[0m \u001b[32m━━━━━━━━━━━━━━━━━━━━\u001b[0m\u001b[37m\u001b[0m \u001b[1m82s\u001b[0m 323ms/step - accuracy: 0.9888 - loss: 0.0337 - val_accuracy: 0.8228 - val_loss: 0.7722 - learning_rate: 5.0000e-04\n",
            "Epoch 7/20\n",
            "\u001b[1m245/245\u001b[0m \u001b[32m━━━━━━━━━━━━━━━━━━━━\u001b[0m\u001b[37m\u001b[0m \u001b[1m84s\u001b[0m 330ms/step - accuracy: 0.9931 - loss: 0.0219 - val_accuracy: 0.8212 - val_loss: 0.8177 - learning_rate: 5.0000e-04\n",
            "Epoch 8/20\n",
            "\u001b[1m245/245\u001b[0m \u001b[32m━━━━━━━━━━━━━━━━━━━━\u001b[0m\u001b[37m\u001b[0m \u001b[1m0s\u001b[0m 304ms/step - accuracy: 0.9943 - loss: 0.0192\n",
            "Epoch 8: ReduceLROnPlateau reducing learning rate to 0.0002500000118743628.\n",
            "\u001b[1m245/245\u001b[0m \u001b[32m━━━━━━━━━━━━━━━━━━━━\u001b[0m\u001b[37m\u001b[0m \u001b[1m80s\u001b[0m 326ms/step - accuracy: 0.9943 - loss: 0.0192 - val_accuracy: 0.8151 - val_loss: 0.9765 - learning_rate: 5.0000e-04\n",
            "Epoch 8: early stopping\n",
            "Restoring model weights from the end of the best epoch: 3.\n"
          ]
        }
      ]
    },
    {
      "cell_type": "code",
      "source": [
        "# An integer input for vocabulary indices\n",
        "inputs = Input(shape = (None, ), dtype = 'int64')\n",
        "\n",
        "# Embedding layer\n",
        "x = Embedding(vocab_size + 1, 128)(inputs)\n",
        "\n",
        "# Embedding dropout\n",
        "x = SpatialDropout1D(0.3)(x)\n",
        "\n",
        "# Bidirectional LSTM layer\n",
        "x = Bidirectional(LSTM(128, recurrent_dropout = 0.2, return_sequences=True))(x)\n",
        "\n",
        "# Maxpooling layer\n",
        "x = GlobalMaxPooling1D()(x)\n",
        "\n",
        "# Dropout\n",
        "x = Dropout(0.5)(x)\n",
        "\n",
        "# Output\n",
        "outputs = Dense(3, activation = 'softmax')(x)\n",
        "\n",
        "tuned_lstm2 = Model(inputs, outputs)\n",
        "tuned_lstm2.summary()"
      ],
      "metadata": {
        "colab": {
          "base_uri": "https://localhost:8080/",
          "height": 385
        },
        "id": "Bz6K8-_yPKgv",
        "outputId": "f2d9f21b-3cd7-47dc-af2d-ee6d87978fdc"
      },
      "execution_count": 16,
      "outputs": [
        {
          "output_type": "display_data",
          "data": {
            "text/plain": [
              "\u001b[1mModel: \"functional_3\"\u001b[0m\n"
            ],
            "text/html": [
              "<pre style=\"white-space:pre;overflow-x:auto;line-height:normal;font-family:Menlo,'DejaVu Sans Mono',consolas,'Courier New',monospace\"><span style=\"font-weight: bold\">Model: \"functional_3\"</span>\n",
              "</pre>\n"
            ]
          },
          "metadata": {}
        },
        {
          "output_type": "display_data",
          "data": {
            "text/plain": [
              "┏━━━━━━━━━━━━━━━━━━━━━━━━━━━━━━━━━━━━━━┳━━━━━━━━━━━━━━━━━━━━━━━━━━━━━┳━━━━━━━━━━━━━━━━━┓\n",
              "┃\u001b[1m \u001b[0m\u001b[1mLayer (type)                        \u001b[0m\u001b[1m \u001b[0m┃\u001b[1m \u001b[0m\u001b[1mOutput Shape               \u001b[0m\u001b[1m \u001b[0m┃\u001b[1m \u001b[0m\u001b[1m        Param #\u001b[0m\u001b[1m \u001b[0m┃\n",
              "┡━━━━━━━━━━━━━━━━━━━━━━━━━━━━━━━━━━━━━━╇━━━━━━━━━━━━━━━━━━━━━━━━━━━━━╇━━━━━━━━━━━━━━━━━┩\n",
              "│ input_layer_3 (\u001b[38;5;33mInputLayer\u001b[0m)           │ (\u001b[38;5;45mNone\u001b[0m, \u001b[38;5;45mNone\u001b[0m)                │               \u001b[38;5;34m0\u001b[0m │\n",
              "├──────────────────────────────────────┼─────────────────────────────┼─────────────────┤\n",
              "│ embedding_3 (\u001b[38;5;33mEmbedding\u001b[0m)              │ (\u001b[38;5;45mNone\u001b[0m, \u001b[38;5;45mNone\u001b[0m, \u001b[38;5;34m128\u001b[0m)           │       \u001b[38;5;34m2,973,568\u001b[0m │\n",
              "├──────────────────────────────────────┼─────────────────────────────┼─────────────────┤\n",
              "│ spatial_dropout1d_3                  │ (\u001b[38;5;45mNone\u001b[0m, \u001b[38;5;45mNone\u001b[0m, \u001b[38;5;34m128\u001b[0m)           │               \u001b[38;5;34m0\u001b[0m │\n",
              "│ (\u001b[38;5;33mSpatialDropout1D\u001b[0m)                   │                             │                 │\n",
              "├──────────────────────────────────────┼─────────────────────────────┼─────────────────┤\n",
              "│ bidirectional_3 (\u001b[38;5;33mBidirectional\u001b[0m)      │ (\u001b[38;5;45mNone\u001b[0m, \u001b[38;5;45mNone\u001b[0m, \u001b[38;5;34m256\u001b[0m)           │         \u001b[38;5;34m263,168\u001b[0m │\n",
              "├──────────────────────────────────────┼─────────────────────────────┼─────────────────┤\n",
              "│ global_max_pooling1d_3               │ (\u001b[38;5;45mNone\u001b[0m, \u001b[38;5;34m256\u001b[0m)                 │               \u001b[38;5;34m0\u001b[0m │\n",
              "│ (\u001b[38;5;33mGlobalMaxPooling1D\u001b[0m)                 │                             │                 │\n",
              "├──────────────────────────────────────┼─────────────────────────────┼─────────────────┤\n",
              "│ dropout_3 (\u001b[38;5;33mDropout\u001b[0m)                  │ (\u001b[38;5;45mNone\u001b[0m, \u001b[38;5;34m256\u001b[0m)                 │               \u001b[38;5;34m0\u001b[0m │\n",
              "├──────────────────────────────────────┼─────────────────────────────┼─────────────────┤\n",
              "│ dense_3 (\u001b[38;5;33mDense\u001b[0m)                      │ (\u001b[38;5;45mNone\u001b[0m, \u001b[38;5;34m3\u001b[0m)                   │             \u001b[38;5;34m771\u001b[0m │\n",
              "└──────────────────────────────────────┴─────────────────────────────┴─────────────────┘\n"
            ],
            "text/html": [
              "<pre style=\"white-space:pre;overflow-x:auto;line-height:normal;font-family:Menlo,'DejaVu Sans Mono',consolas,'Courier New',monospace\">┏━━━━━━━━━━━━━━━━━━━━━━━━━━━━━━━━━━━━━━┳━━━━━━━━━━━━━━━━━━━━━━━━━━━━━┳━━━━━━━━━━━━━━━━━┓\n",
              "┃<span style=\"font-weight: bold\"> Layer (type)                         </span>┃<span style=\"font-weight: bold\"> Output Shape                </span>┃<span style=\"font-weight: bold\">         Param # </span>┃\n",
              "┡━━━━━━━━━━━━━━━━━━━━━━━━━━━━━━━━━━━━━━╇━━━━━━━━━━━━━━━━━━━━━━━━━━━━━╇━━━━━━━━━━━━━━━━━┩\n",
              "│ input_layer_3 (<span style=\"color: #0087ff; text-decoration-color: #0087ff\">InputLayer</span>)           │ (<span style=\"color: #00d7ff; text-decoration-color: #00d7ff\">None</span>, <span style=\"color: #00d7ff; text-decoration-color: #00d7ff\">None</span>)                │               <span style=\"color: #00af00; text-decoration-color: #00af00\">0</span> │\n",
              "├──────────────────────────────────────┼─────────────────────────────┼─────────────────┤\n",
              "│ embedding_3 (<span style=\"color: #0087ff; text-decoration-color: #0087ff\">Embedding</span>)              │ (<span style=\"color: #00d7ff; text-decoration-color: #00d7ff\">None</span>, <span style=\"color: #00d7ff; text-decoration-color: #00d7ff\">None</span>, <span style=\"color: #00af00; text-decoration-color: #00af00\">128</span>)           │       <span style=\"color: #00af00; text-decoration-color: #00af00\">2,973,568</span> │\n",
              "├──────────────────────────────────────┼─────────────────────────────┼─────────────────┤\n",
              "│ spatial_dropout1d_3                  │ (<span style=\"color: #00d7ff; text-decoration-color: #00d7ff\">None</span>, <span style=\"color: #00d7ff; text-decoration-color: #00d7ff\">None</span>, <span style=\"color: #00af00; text-decoration-color: #00af00\">128</span>)           │               <span style=\"color: #00af00; text-decoration-color: #00af00\">0</span> │\n",
              "│ (<span style=\"color: #0087ff; text-decoration-color: #0087ff\">SpatialDropout1D</span>)                   │                             │                 │\n",
              "├──────────────────────────────────────┼─────────────────────────────┼─────────────────┤\n",
              "│ bidirectional_3 (<span style=\"color: #0087ff; text-decoration-color: #0087ff\">Bidirectional</span>)      │ (<span style=\"color: #00d7ff; text-decoration-color: #00d7ff\">None</span>, <span style=\"color: #00d7ff; text-decoration-color: #00d7ff\">None</span>, <span style=\"color: #00af00; text-decoration-color: #00af00\">256</span>)           │         <span style=\"color: #00af00; text-decoration-color: #00af00\">263,168</span> │\n",
              "├──────────────────────────────────────┼─────────────────────────────┼─────────────────┤\n",
              "│ global_max_pooling1d_3               │ (<span style=\"color: #00d7ff; text-decoration-color: #00d7ff\">None</span>, <span style=\"color: #00af00; text-decoration-color: #00af00\">256</span>)                 │               <span style=\"color: #00af00; text-decoration-color: #00af00\">0</span> │\n",
              "│ (<span style=\"color: #0087ff; text-decoration-color: #0087ff\">GlobalMaxPooling1D</span>)                 │                             │                 │\n",
              "├──────────────────────────────────────┼─────────────────────────────┼─────────────────┤\n",
              "│ dropout_3 (<span style=\"color: #0087ff; text-decoration-color: #0087ff\">Dropout</span>)                  │ (<span style=\"color: #00d7ff; text-decoration-color: #00d7ff\">None</span>, <span style=\"color: #00af00; text-decoration-color: #00af00\">256</span>)                 │               <span style=\"color: #00af00; text-decoration-color: #00af00\">0</span> │\n",
              "├──────────────────────────────────────┼─────────────────────────────┼─────────────────┤\n",
              "│ dense_3 (<span style=\"color: #0087ff; text-decoration-color: #0087ff\">Dense</span>)                      │ (<span style=\"color: #00d7ff; text-decoration-color: #00d7ff\">None</span>, <span style=\"color: #00af00; text-decoration-color: #00af00\">3</span>)                   │             <span style=\"color: #00af00; text-decoration-color: #00af00\">771</span> │\n",
              "└──────────────────────────────────────┴─────────────────────────────┴─────────────────┘\n",
              "</pre>\n"
            ]
          },
          "metadata": {}
        },
        {
          "output_type": "display_data",
          "data": {
            "text/plain": [
              "\u001b[1m Total params: \u001b[0m\u001b[38;5;34m3,237,507\u001b[0m (12.35 MB)\n"
            ],
            "text/html": [
              "<pre style=\"white-space:pre;overflow-x:auto;line-height:normal;font-family:Menlo,'DejaVu Sans Mono',consolas,'Courier New',monospace\"><span style=\"font-weight: bold\"> Total params: </span><span style=\"color: #00af00; text-decoration-color: #00af00\">3,237,507</span> (12.35 MB)\n",
              "</pre>\n"
            ]
          },
          "metadata": {}
        },
        {
          "output_type": "display_data",
          "data": {
            "text/plain": [
              "\u001b[1m Trainable params: \u001b[0m\u001b[38;5;34m3,237,507\u001b[0m (12.35 MB)\n"
            ],
            "text/html": [
              "<pre style=\"white-space:pre;overflow-x:auto;line-height:normal;font-family:Menlo,'DejaVu Sans Mono',consolas,'Courier New',monospace\"><span style=\"font-weight: bold\"> Trainable params: </span><span style=\"color: #00af00; text-decoration-color: #00af00\">3,237,507</span> (12.35 MB)\n",
              "</pre>\n"
            ]
          },
          "metadata": {}
        },
        {
          "output_type": "display_data",
          "data": {
            "text/plain": [
              "\u001b[1m Non-trainable params: \u001b[0m\u001b[38;5;34m0\u001b[0m (0.00 B)\n"
            ],
            "text/html": [
              "<pre style=\"white-space:pre;overflow-x:auto;line-height:normal;font-family:Menlo,'DejaVu Sans Mono',consolas,'Courier New',monospace\"><span style=\"font-weight: bold\"> Non-trainable params: </span><span style=\"color: #00af00; text-decoration-color: #00af00\">0</span> (0.00 B)\n",
              "</pre>\n"
            ]
          },
          "metadata": {}
        }
      ]
    },
    {
      "cell_type": "code",
      "source": [
        "# Compile the model with optimizer, loss function, and metrics\n",
        "tuned_lstm2.compile(optimizer = Adam(learning_rate = 0.001),\n",
        "    loss = SparseCategoricalCrossentropy(),\n",
        "    metrics = ['accuracy']\n",
        ")\n",
        "\n",
        "# Define new callbacks\n",
        "check_point_tuned2 = ModelCheckpoint(\n",
        "    filepath = '/content/drive/MyDrive/ColabNotebooks/Spooky_Author_Identification/tuned_lstm2.keras',\n",
        "    monitor = 'val_accuracy',\n",
        "    save_best_only = True\n",
        ")\n",
        "\n",
        "history_tuned2 = tuned_lstm2.fit(\n",
        "    training_text,\n",
        "    training_set['author_encoded'],\n",
        "    steps_per_epoch = math.ceil(training_set.shape[0] / 64),\n",
        "    batch_size = 64,\n",
        "    validation_data = (validation_text, validation_set['author_encoded']),\n",
        "    validation_steps = math.ceil(validation_set.shape[0] / 64),\n",
        "    epochs = 20,\n",
        "    callbacks = [early_stoppig, check_point_tuned2, reduced_lr, TemporalAveraging()]\n",
        ")"
      ],
      "metadata": {
        "colab": {
          "base_uri": "https://localhost:8080/"
        },
        "id": "LL6HCamzPUly",
        "outputId": "6f7d3b31-98d7-4dd9-8d53-c70ab9b670cf"
      },
      "execution_count": 17,
      "outputs": [
        {
          "output_type": "stream",
          "name": "stdout",
          "text": [
            "Epoch 1/20\n",
            "\u001b[1m245/245\u001b[0m \u001b[32m━━━━━━━━━━━━━━━━━━━━\u001b[0m\u001b[37m\u001b[0m \u001b[1m82s\u001b[0m 317ms/step - accuracy: 0.4916 - loss: 0.9963 - val_accuracy: 0.8041 - val_loss: 0.4810 - learning_rate: 0.0010\n",
            "Epoch 2/20\n",
            "\u001b[1m245/245\u001b[0m \u001b[32m━━━━━━━━━━━━━━━━━━━━\u001b[0m\u001b[37m\u001b[0m \u001b[1m85s\u001b[0m 330ms/step - accuracy: 0.8661 - loss: 0.3616 - val_accuracy: 0.8424 - val_loss: 0.3994 - learning_rate: 0.0010\n",
            "Epoch 3/20\n",
            "\u001b[1m245/245\u001b[0m \u001b[32m━━━━━━━━━━━━━━━━━━━━\u001b[0m\u001b[37m\u001b[0m \u001b[1m79s\u001b[0m 322ms/step - accuracy: 0.9357 - loss: 0.1790 - val_accuracy: 0.8287 - val_loss: 0.4856 - learning_rate: 0.0010\n",
            "Epoch 4/20\n",
            "\u001b[1m245/245\u001b[0m \u001b[32m━━━━━━━━━━━━━━━━━━━━\u001b[0m\u001b[37m\u001b[0m \u001b[1m81s\u001b[0m 318ms/step - accuracy: 0.9605 - loss: 0.1133 - val_accuracy: 0.8348 - val_loss: 0.5129 - learning_rate: 0.0010\n",
            "Epoch 5/20\n",
            "\u001b[1m245/245\u001b[0m \u001b[32m━━━━━━━━━━━━━━━━━━━━\u001b[0m\u001b[37m\u001b[0m \u001b[1m0s\u001b[0m 309ms/step - accuracy: 0.9756 - loss: 0.0712\n",
            "Epoch 5: ReduceLROnPlateau reducing learning rate to 0.0005000000237487257.\n",
            "\u001b[1m245/245\u001b[0m \u001b[32m━━━━━━━━━━━━━━━━━━━━\u001b[0m\u001b[37m\u001b[0m \u001b[1m83s\u001b[0m 324ms/step - accuracy: 0.9756 - loss: 0.0712 - val_accuracy: 0.8281 - val_loss: 0.5546 - learning_rate: 0.0010\n",
            "Epoch 6/20\n",
            "\u001b[1m245/245\u001b[0m \u001b[32m━━━━━━━━━━━━━━━━━━━━\u001b[0m\u001b[37m\u001b[0m \u001b[1m81s\u001b[0m 320ms/step - accuracy: 0.9854 - loss: 0.0427 - val_accuracy: 0.8304 - val_loss: 0.6708 - learning_rate: 5.0000e-04\n",
            "Epoch 7/20\n",
            "\u001b[1m245/245\u001b[0m \u001b[32m━━━━━━━━━━━━━━━━━━━━\u001b[0m\u001b[37m\u001b[0m \u001b[1m82s\u001b[0m 319ms/step - accuracy: 0.9910 - loss: 0.0284 - val_accuracy: 0.8327 - val_loss: 0.7599 - learning_rate: 5.0000e-04\n",
            "Epoch 7: early stopping\n",
            "Restoring model weights from the end of the best epoch: 2.\n"
          ]
        }
      ]
    },
    {
      "cell_type": "markdown",
      "source": [
        "The second model performs slightly better than the first one. I will print the classification report of the model's performance on the validation set."
      ],
      "metadata": {
        "id": "wDPwvnSynZht"
      }
    },
    {
      "cell_type": "code",
      "source": [
        "# Load the weights\n",
        "tuned_lstm2.load_weights('/content/drive/MyDrive/ColabNotebooks/Spooky_Author_Identification/tuned_lstm2.keras')"
      ],
      "metadata": {
        "id": "hx6JdJ9Be5ON"
      },
      "execution_count": null,
      "outputs": []
    },
    {
      "cell_type": "code",
      "source": [
        "# Print the classification report of the model's performance on the validation set\n",
        "pred_prob = tuned_lstm2.predict(validation_text, verbose = 0)\n",
        "y_pred = np.argmax(pred_prob, axis = 1)\n",
        "print(classification_report(validation_set['author_encoded'], y_pred))"
      ],
      "metadata": {
        "colab": {
          "base_uri": "https://localhost:8080/"
        },
        "id": "wUMW2mTPgRSr",
        "outputId": "9462909c-35b3-43f4-c7a9-57109a6ae476"
      },
      "execution_count": 43,
      "outputs": [
        {
          "output_type": "stream",
          "name": "stdout",
          "text": [
            "              precision    recall  f1-score   support\n",
            "\n",
            "           0       0.81      0.88      0.84      1580\n",
            "           1       0.83      0.84      0.83      1209\n",
            "           2       0.91      0.80      0.85      1127\n",
            "\n",
            "    accuracy                           0.84      3916\n",
            "   macro avg       0.85      0.84      0.84      3916\n",
            "weighted avg       0.85      0.84      0.84      3916\n",
            "\n"
          ]
        }
      ]
    },
    {
      "cell_type": "code",
      "source": [
        "# Prepare the test data\n",
        "test_text = vectorizer(test['text'].values)\n",
        "\n",
        "# Make prediction on the test set\n",
        "prediction = tuned_lstm2.predict(test_text, verbose=0)\n",
        "\n",
        "# Create the submission dataframe\n",
        "lstm_prediction = pd.DataFrame(prediction, columns = ['EAP', 'MWS', 'HPL'])\n",
        "lstm_prediction = pd.concat([test['id'], lstm_prediction], axis = 1)\n",
        "lstm_prediction = lstm_prediction[['id', 'EAP', 'HPL', 'MWS']]"
      ],
      "metadata": {
        "id": "9Engbv2eXl8h"
      },
      "execution_count": 40,
      "outputs": []
    },
    {
      "cell_type": "code",
      "source": [
        "lstm_prediction.head()"
      ],
      "metadata": {
        "colab": {
          "base_uri": "https://localhost:8080/",
          "height": 206
        },
        "id": "uzHVLiOLafVs",
        "outputId": "46a2309f-f9aa-463b-99da-aa760ce3df2e"
      },
      "execution_count": 41,
      "outputs": [
        {
          "output_type": "execute_result",
          "data": {
            "text/plain": [
              "        id       EAP       HPL       MWS\n",
              "0  id02310  0.052381  0.011485  0.936134\n",
              "1  id24541  0.985097  0.011552  0.003351\n",
              "2  id00134  0.077188  0.908230  0.014582\n",
              "3  id27757  0.981029  0.014740  0.004231\n",
              "4  id04081  0.805896  0.087549  0.106555"
            ],
            "text/html": [
              "\n",
              "  <div id=\"df-c7557e3b-05e2-42de-81af-4f50656b4df9\" class=\"colab-df-container\">\n",
              "    <div>\n",
              "<style scoped>\n",
              "    .dataframe tbody tr th:only-of-type {\n",
              "        vertical-align: middle;\n",
              "    }\n",
              "\n",
              "    .dataframe tbody tr th {\n",
              "        vertical-align: top;\n",
              "    }\n",
              "\n",
              "    .dataframe thead th {\n",
              "        text-align: right;\n",
              "    }\n",
              "</style>\n",
              "<table border=\"1\" class=\"dataframe\">\n",
              "  <thead>\n",
              "    <tr style=\"text-align: right;\">\n",
              "      <th></th>\n",
              "      <th>id</th>\n",
              "      <th>EAP</th>\n",
              "      <th>HPL</th>\n",
              "      <th>MWS</th>\n",
              "    </tr>\n",
              "  </thead>\n",
              "  <tbody>\n",
              "    <tr>\n",
              "      <th>0</th>\n",
              "      <td>id02310</td>\n",
              "      <td>0.052381</td>\n",
              "      <td>0.011485</td>\n",
              "      <td>0.936134</td>\n",
              "    </tr>\n",
              "    <tr>\n",
              "      <th>1</th>\n",
              "      <td>id24541</td>\n",
              "      <td>0.985097</td>\n",
              "      <td>0.011552</td>\n",
              "      <td>0.003351</td>\n",
              "    </tr>\n",
              "    <tr>\n",
              "      <th>2</th>\n",
              "      <td>id00134</td>\n",
              "      <td>0.077188</td>\n",
              "      <td>0.908230</td>\n",
              "      <td>0.014582</td>\n",
              "    </tr>\n",
              "    <tr>\n",
              "      <th>3</th>\n",
              "      <td>id27757</td>\n",
              "      <td>0.981029</td>\n",
              "      <td>0.014740</td>\n",
              "      <td>0.004231</td>\n",
              "    </tr>\n",
              "    <tr>\n",
              "      <th>4</th>\n",
              "      <td>id04081</td>\n",
              "      <td>0.805896</td>\n",
              "      <td>0.087549</td>\n",
              "      <td>0.106555</td>\n",
              "    </tr>\n",
              "  </tbody>\n",
              "</table>\n",
              "</div>\n",
              "    <div class=\"colab-df-buttons\">\n",
              "\n",
              "  <div class=\"colab-df-container\">\n",
              "    <button class=\"colab-df-convert\" onclick=\"convertToInteractive('df-c7557e3b-05e2-42de-81af-4f50656b4df9')\"\n",
              "            title=\"Convert this dataframe to an interactive table.\"\n",
              "            style=\"display:none;\">\n",
              "\n",
              "  <svg xmlns=\"http://www.w3.org/2000/svg\" height=\"24px\" viewBox=\"0 -960 960 960\">\n",
              "    <path d=\"M120-120v-720h720v720H120Zm60-500h600v-160H180v160Zm220 220h160v-160H400v160Zm0 220h160v-160H400v160ZM180-400h160v-160H180v160Zm440 0h160v-160H620v160ZM180-180h160v-160H180v160Zm440 0h160v-160H620v160Z\"/>\n",
              "  </svg>\n",
              "    </button>\n",
              "\n",
              "  <style>\n",
              "    .colab-df-container {\n",
              "      display:flex;\n",
              "      gap: 12px;\n",
              "    }\n",
              "\n",
              "    .colab-df-convert {\n",
              "      background-color: #E8F0FE;\n",
              "      border: none;\n",
              "      border-radius: 50%;\n",
              "      cursor: pointer;\n",
              "      display: none;\n",
              "      fill: #1967D2;\n",
              "      height: 32px;\n",
              "      padding: 0 0 0 0;\n",
              "      width: 32px;\n",
              "    }\n",
              "\n",
              "    .colab-df-convert:hover {\n",
              "      background-color: #E2EBFA;\n",
              "      box-shadow: 0px 1px 2px rgba(60, 64, 67, 0.3), 0px 1px 3px 1px rgba(60, 64, 67, 0.15);\n",
              "      fill: #174EA6;\n",
              "    }\n",
              "\n",
              "    .colab-df-buttons div {\n",
              "      margin-bottom: 4px;\n",
              "    }\n",
              "\n",
              "    [theme=dark] .colab-df-convert {\n",
              "      background-color: #3B4455;\n",
              "      fill: #D2E3FC;\n",
              "    }\n",
              "\n",
              "    [theme=dark] .colab-df-convert:hover {\n",
              "      background-color: #434B5C;\n",
              "      box-shadow: 0px 1px 3px 1px rgba(0, 0, 0, 0.15);\n",
              "      filter: drop-shadow(0px 1px 2px rgba(0, 0, 0, 0.3));\n",
              "      fill: #FFFFFF;\n",
              "    }\n",
              "  </style>\n",
              "\n",
              "    <script>\n",
              "      const buttonEl =\n",
              "        document.querySelector('#df-c7557e3b-05e2-42de-81af-4f50656b4df9 button.colab-df-convert');\n",
              "      buttonEl.style.display =\n",
              "        google.colab.kernel.accessAllowed ? 'block' : 'none';\n",
              "\n",
              "      async function convertToInteractive(key) {\n",
              "        const element = document.querySelector('#df-c7557e3b-05e2-42de-81af-4f50656b4df9');\n",
              "        const dataTable =\n",
              "          await google.colab.kernel.invokeFunction('convertToInteractive',\n",
              "                                                    [key], {});\n",
              "        if (!dataTable) return;\n",
              "\n",
              "        const docLinkHtml = 'Like what you see? Visit the ' +\n",
              "          '<a target=\"_blank\" href=https://colab.research.google.com/notebooks/data_table.ipynb>data table notebook</a>'\n",
              "          + ' to learn more about interactive tables.';\n",
              "        element.innerHTML = '';\n",
              "        dataTable['output_type'] = 'display_data';\n",
              "        await google.colab.output.renderOutput(dataTable, element);\n",
              "        const docLink = document.createElement('div');\n",
              "        docLink.innerHTML = docLinkHtml;\n",
              "        element.appendChild(docLink);\n",
              "      }\n",
              "    </script>\n",
              "  </div>\n",
              "\n",
              "\n",
              "<div id=\"df-77a5db58-f501-4f38-a450-a68d6dc0fb7f\">\n",
              "  <button class=\"colab-df-quickchart\" onclick=\"quickchart('df-77a5db58-f501-4f38-a450-a68d6dc0fb7f')\"\n",
              "            title=\"Suggest charts\"\n",
              "            style=\"display:none;\">\n",
              "\n",
              "<svg xmlns=\"http://www.w3.org/2000/svg\" height=\"24px\"viewBox=\"0 0 24 24\"\n",
              "     width=\"24px\">\n",
              "    <g>\n",
              "        <path d=\"M19 3H5c-1.1 0-2 .9-2 2v14c0 1.1.9 2 2 2h14c1.1 0 2-.9 2-2V5c0-1.1-.9-2-2-2zM9 17H7v-7h2v7zm4 0h-2V7h2v10zm4 0h-2v-4h2v4z\"/>\n",
              "    </g>\n",
              "</svg>\n",
              "  </button>\n",
              "\n",
              "<style>\n",
              "  .colab-df-quickchart {\n",
              "      --bg-color: #E8F0FE;\n",
              "      --fill-color: #1967D2;\n",
              "      --hover-bg-color: #E2EBFA;\n",
              "      --hover-fill-color: #174EA6;\n",
              "      --disabled-fill-color: #AAA;\n",
              "      --disabled-bg-color: #DDD;\n",
              "  }\n",
              "\n",
              "  [theme=dark] .colab-df-quickchart {\n",
              "      --bg-color: #3B4455;\n",
              "      --fill-color: #D2E3FC;\n",
              "      --hover-bg-color: #434B5C;\n",
              "      --hover-fill-color: #FFFFFF;\n",
              "      --disabled-bg-color: #3B4455;\n",
              "      --disabled-fill-color: #666;\n",
              "  }\n",
              "\n",
              "  .colab-df-quickchart {\n",
              "    background-color: var(--bg-color);\n",
              "    border: none;\n",
              "    border-radius: 50%;\n",
              "    cursor: pointer;\n",
              "    display: none;\n",
              "    fill: var(--fill-color);\n",
              "    height: 32px;\n",
              "    padding: 0;\n",
              "    width: 32px;\n",
              "  }\n",
              "\n",
              "  .colab-df-quickchart:hover {\n",
              "    background-color: var(--hover-bg-color);\n",
              "    box-shadow: 0 1px 2px rgba(60, 64, 67, 0.3), 0 1px 3px 1px rgba(60, 64, 67, 0.15);\n",
              "    fill: var(--button-hover-fill-color);\n",
              "  }\n",
              "\n",
              "  .colab-df-quickchart-complete:disabled,\n",
              "  .colab-df-quickchart-complete:disabled:hover {\n",
              "    background-color: var(--disabled-bg-color);\n",
              "    fill: var(--disabled-fill-color);\n",
              "    box-shadow: none;\n",
              "  }\n",
              "\n",
              "  .colab-df-spinner {\n",
              "    border: 2px solid var(--fill-color);\n",
              "    border-color: transparent;\n",
              "    border-bottom-color: var(--fill-color);\n",
              "    animation:\n",
              "      spin 1s steps(1) infinite;\n",
              "  }\n",
              "\n",
              "  @keyframes spin {\n",
              "    0% {\n",
              "      border-color: transparent;\n",
              "      border-bottom-color: var(--fill-color);\n",
              "      border-left-color: var(--fill-color);\n",
              "    }\n",
              "    20% {\n",
              "      border-color: transparent;\n",
              "      border-left-color: var(--fill-color);\n",
              "      border-top-color: var(--fill-color);\n",
              "    }\n",
              "    30% {\n",
              "      border-color: transparent;\n",
              "      border-left-color: var(--fill-color);\n",
              "      border-top-color: var(--fill-color);\n",
              "      border-right-color: var(--fill-color);\n",
              "    }\n",
              "    40% {\n",
              "      border-color: transparent;\n",
              "      border-right-color: var(--fill-color);\n",
              "      border-top-color: var(--fill-color);\n",
              "    }\n",
              "    60% {\n",
              "      border-color: transparent;\n",
              "      border-right-color: var(--fill-color);\n",
              "    }\n",
              "    80% {\n",
              "      border-color: transparent;\n",
              "      border-right-color: var(--fill-color);\n",
              "      border-bottom-color: var(--fill-color);\n",
              "    }\n",
              "    90% {\n",
              "      border-color: transparent;\n",
              "      border-bottom-color: var(--fill-color);\n",
              "    }\n",
              "  }\n",
              "</style>\n",
              "\n",
              "  <script>\n",
              "    async function quickchart(key) {\n",
              "      const quickchartButtonEl =\n",
              "        document.querySelector('#' + key + ' button');\n",
              "      quickchartButtonEl.disabled = true;  // To prevent multiple clicks.\n",
              "      quickchartButtonEl.classList.add('colab-df-spinner');\n",
              "      try {\n",
              "        const charts = await google.colab.kernel.invokeFunction(\n",
              "            'suggestCharts', [key], {});\n",
              "      } catch (error) {\n",
              "        console.error('Error during call to suggestCharts:', error);\n",
              "      }\n",
              "      quickchartButtonEl.classList.remove('colab-df-spinner');\n",
              "      quickchartButtonEl.classList.add('colab-df-quickchart-complete');\n",
              "    }\n",
              "    (() => {\n",
              "      let quickchartButtonEl =\n",
              "        document.querySelector('#df-77a5db58-f501-4f38-a450-a68d6dc0fb7f button');\n",
              "      quickchartButtonEl.style.display =\n",
              "        google.colab.kernel.accessAllowed ? 'block' : 'none';\n",
              "    })();\n",
              "  </script>\n",
              "</div>\n",
              "\n",
              "    </div>\n",
              "  </div>\n"
            ],
            "application/vnd.google.colaboratory.intrinsic+json": {
              "type": "dataframe",
              "variable_name": "lstm_prediction",
              "summary": "{\n  \"name\": \"lstm_prediction\",\n  \"rows\": 8392,\n  \"fields\": [\n    {\n      \"column\": \"id\",\n      \"properties\": {\n        \"dtype\": \"string\",\n        \"num_unique_values\": 8392,\n        \"samples\": [\n          \"id23707\",\n          \"id23391\",\n          \"id00343\"\n        ],\n        \"semantic_type\": \"\",\n        \"description\": \"\"\n      }\n    },\n    {\n      \"column\": \"EAP\",\n      \"properties\": {\n        \"dtype\": \"float32\",\n        \"num_unique_values\": 8385,\n        \"samples\": [\n          0.4047997295856476,\n          0.13841290771961212,\n          0.37176939845085144\n        ],\n        \"semantic_type\": \"\",\n        \"description\": \"\"\n      }\n    },\n    {\n      \"column\": \"HPL\",\n      \"properties\": {\n        \"dtype\": \"float32\",\n        \"num_unique_values\": 8390,\n        \"samples\": [\n          0.07599547505378723,\n          0.3258036971092224,\n          0.2560565173625946\n        ],\n        \"semantic_type\": \"\",\n        \"description\": \"\"\n      }\n    },\n    {\n      \"column\": \"MWS\",\n      \"properties\": {\n        \"dtype\": \"float32\",\n        \"num_unique_values\": 8383,\n        \"samples\": [\n          0.0031755755189806223,\n          0.030588844791054726,\n          0.004411536268889904\n        ],\n        \"semantic_type\": \"\",\n        \"description\": \"\"\n      }\n    }\n  ]\n}"
            }
          },
          "metadata": {},
          "execution_count": 41
        }
      ]
    },
    {
      "cell_type": "code",
      "source": [
        "lstm_prediction.to_csv('/content/drive/MyDrive/ColabNotebooks/Spooky_Author_Identification/lstm_prediction.csv', index = False)"
      ],
      "metadata": {
        "id": "0GYJK0zvaRQr"
      },
      "execution_count": 42,
      "outputs": []
    },
    {
      "cell_type": "markdown",
      "source": [
        "After submit to Kaggle I got a private score of 0.41 and public score of 0.42 (log-loss)."
      ],
      "metadata": {
        "id": "IQ1dWd-vghnj"
      }
    },
    {
      "cell_type": "code",
      "source": [],
      "metadata": {
        "id": "RX-F0lzVgt81"
      },
      "execution_count": null,
      "outputs": []
    }
  ],
  "metadata": {
    "kernelspec": {
      "display_name": "Python 3",
      "name": "python3"
    },
    "language_info": {
      "codemirror_mode": {
        "name": "ipython",
        "version": 3
      },
      "file_extension": ".py",
      "mimetype": "text/x-python",
      "name": "python",
      "nbconvert_exporter": "python",
      "pygments_lexer": "ipython3",
      "version": "3.12.2"
    },
    "colab": {
      "provenance": [],
      "gpuType": "T4",
      "include_colab_link": true
    },
    "accelerator": "GPU"
  },
  "nbformat": 4,
  "nbformat_minor": 0
}